{
 "cells": [
  {
   "cell_type": "code",
   "execution_count": 2,
   "metadata": {},
   "outputs": [],
   "source": [
    "import project_path\n",
    "import pandas as pd\n",
    "import numpy as np\n",
    "import matplotlib.pyplot as plt\n",
    "import seaborn as sns\n",
    "import os\n",
    "import sys"
   ]
  },
  {
   "cell_type": "code",
   "execution_count": 3,
   "metadata": {},
   "outputs": [],
   "source": [
    "%load_ext autoreload\n",
    "%autoreload 2"
   ]
  },
  {
   "cell_type": "markdown",
   "metadata": {},
   "source": [
    "**Goal**: Inspect how good are the answers of model and humans."
   ]
  },
  {
   "cell_type": "code",
   "execution_count": 4,
   "metadata": {},
   "outputs": [],
   "source": [
    "df_codegen = pd.read_csv('../data/annotations/2022-09-01/codegen.csv')\n",
    "df_humans = pd.read_csv('../data/annotations/2022-09-01/participants_eye.csv')"
   ]
  },
  {
   "cell_type": "code",
   "execution_count": 9,
   "metadata": {},
   "outputs": [
    {
     "data": {
      "text/html": [
       "<div>\n",
       "<style scoped>\n",
       "    .dataframe tbody tr th:only-of-type {\n",
       "        vertical-align: middle;\n",
       "    }\n",
       "\n",
       "    .dataframe tbody tr th {\n",
       "        vertical-align: top;\n",
       "    }\n",
       "\n",
       "    .dataframe thead th {\n",
       "        text-align: right;\n",
       "    }\n",
       "</style>\n",
       "<table border=\"1\" class=\"dataframe\">\n",
       "  <thead>\n",
       "    <tr style=\"text-align: right;\">\n",
       "      <th></th>\n",
       "      <th>ID</th>\n",
       "      <th>unique_data_id</th>\n",
       "      <th>user</th>\n",
       "      <th>task_number</th>\n",
       "      <th>Filename</th>\n",
       "      <th>answer</th>\n",
       "      <th>Annotator 1 (Matteo)</th>\n",
       "      <th>A1 - Completeness</th>\n",
       "      <th>A1 - Correctness</th>\n",
       "      <th>A1 - Intelligibility</th>\n",
       "      <th>Annotator 2 (Albert)</th>\n",
       "      <th>Annotator 3</th>\n",
       "      <th>base_task</th>\n",
       "      <th>language</th>\n",
       "    </tr>\n",
       "  </thead>\n",
       "  <tbody>\n",
       "    <tr>\n",
       "      <th>0</th>\n",
       "      <td>9</td>\n",
       "      <td>b0172f</td>\n",
       "      <td>UquarterU</td>\n",
       "      <td>0</td>\n",
       "      <td>hannoi_Q1.cpp</td>\n",
       "      <td>hannoi_Q1.cpp\\n# Questions: How does the algor...</td>\n",
       "      <td>5.0</td>\n",
       "      <td>NaN</td>\n",
       "      <td>NaN</td>\n",
       "      <td>NaN</td>\n",
       "      <td>3.0</td>\n",
       "      <td>NaN</td>\n",
       "      <td>hannoi_Q1</td>\n",
       "      <td>cpp</td>\n",
       "    </tr>\n",
       "    <tr>\n",
       "      <th>1</th>\n",
       "      <td>19</td>\n",
       "      <td>c35fdf</td>\n",
       "      <td>UmonkU</td>\n",
       "      <td>0</td>\n",
       "      <td>hannoi_Q1.cpp</td>\n",
       "      <td>hannoi_Q1.cpp\\n# Questions: How does the algor...</td>\n",
       "      <td>5.0</td>\n",
       "      <td>NaN</td>\n",
       "      <td>NaN</td>\n",
       "      <td>NaN</td>\n",
       "      <td>3.0</td>\n",
       "      <td>NaN</td>\n",
       "      <td>hannoi_Q1</td>\n",
       "      <td>cpp</td>\n",
       "    </tr>\n",
       "    <tr>\n",
       "      <th>2</th>\n",
       "      <td>31</td>\n",
       "      <td>300bd1</td>\n",
       "      <td>UdragonU</td>\n",
       "      <td>1</td>\n",
       "      <td>hannoi_Q1.cpp</td>\n",
       "      <td>hannoi_Q1.cpp\\n# Questions: How does the algor...</td>\n",
       "      <td>4.0</td>\n",
       "      <td>NaN</td>\n",
       "      <td>NaN</td>\n",
       "      <td>NaN</td>\n",
       "      <td>2.0</td>\n",
       "      <td>NaN</td>\n",
       "      <td>hannoi_Q1</td>\n",
       "      <td>cpp</td>\n",
       "    </tr>\n",
       "    <tr>\n",
       "      <th>3</th>\n",
       "      <td>43</td>\n",
       "      <td>155d45</td>\n",
       "      <td>UDuckU</td>\n",
       "      <td>0</td>\n",
       "      <td>hannoi_Q1.cs</td>\n",
       "      <td>hannoi_Q1.cs\\n# Questions: How does the algori...</td>\n",
       "      <td>4.0</td>\n",
       "      <td>NaN</td>\n",
       "      <td>NaN</td>\n",
       "      <td>NaN</td>\n",
       "      <td>NaN</td>\n",
       "      <td>NaN</td>\n",
       "      <td>hannoi_Q1</td>\n",
       "      <td>cs</td>\n",
       "    </tr>\n",
       "    <tr>\n",
       "      <th>4</th>\n",
       "      <td>51</td>\n",
       "      <td>44d4f6</td>\n",
       "      <td>UboatU</td>\n",
       "      <td>0</td>\n",
       "      <td>hannoi_Q1.cs</td>\n",
       "      <td>hannoi_Q1.cs\\n# Questions: How does the algori...</td>\n",
       "      <td>5.0</td>\n",
       "      <td>NaN</td>\n",
       "      <td>NaN</td>\n",
       "      <td>NaN</td>\n",
       "      <td>NaN</td>\n",
       "      <td>NaN</td>\n",
       "      <td>hannoi_Q1</td>\n",
       "      <td>cs</td>\n",
       "    </tr>\n",
       "  </tbody>\n",
       "</table>\n",
       "</div>"
      ],
      "text/plain": [
       "   ID unique_data_id       user  task_number       Filename  \\\n",
       "0   9         b0172f  UquarterU            0  hannoi_Q1.cpp   \n",
       "1  19         c35fdf     UmonkU            0  hannoi_Q1.cpp   \n",
       "2  31         300bd1   UdragonU            1  hannoi_Q1.cpp   \n",
       "3  43         155d45     UDuckU            0   hannoi_Q1.cs   \n",
       "4  51         44d4f6     UboatU            0   hannoi_Q1.cs   \n",
       "\n",
       "                                              answer  Annotator 1 (Matteo)  \\\n",
       "0  hannoi_Q1.cpp\\n# Questions: How does the algor...                   5.0   \n",
       "1  hannoi_Q1.cpp\\n# Questions: How does the algor...                   5.0   \n",
       "2  hannoi_Q1.cpp\\n# Questions: How does the algor...                   4.0   \n",
       "3  hannoi_Q1.cs\\n# Questions: How does the algori...                   4.0   \n",
       "4  hannoi_Q1.cs\\n# Questions: How does the algori...                   5.0   \n",
       "\n",
       "   A1 - Completeness  A1 - Correctness  A1 - Intelligibility  \\\n",
       "0                NaN               NaN                   NaN   \n",
       "1                NaN               NaN                   NaN   \n",
       "2                NaN               NaN                   NaN   \n",
       "3                NaN               NaN                   NaN   \n",
       "4                NaN               NaN                   NaN   \n",
       "\n",
       "   Annotator 2 (Albert)  Annotator 3  base_task language  \n",
       "0                   3.0          NaN  hannoi_Q1      cpp  \n",
       "1                   3.0          NaN  hannoi_Q1      cpp  \n",
       "2                   2.0          NaN  hannoi_Q1      cpp  \n",
       "3                   NaN          NaN  hannoi_Q1       cs  \n",
       "4                   NaN          NaN  hannoi_Q1       cs  "
      ]
     },
     "execution_count": 9,
     "metadata": {},
     "output_type": "execute_result"
    }
   ],
   "source": [
    "df_humans['base_task'] = df_humans['Filename'].apply(lambda x: x.split('.')[0])\n",
    "df_humans['language'] = df_humans['Filename'].apply(lambda x: x.split('.')[1])\n",
    "df_humans.head()"
   ]
  },
  {
   "cell_type": "code",
   "execution_count": 7,
   "metadata": {},
   "outputs": [
    {
     "data": {
      "text/html": [
       "<div>\n",
       "<style scoped>\n",
       "    .dataframe tbody tr th:only-of-type {\n",
       "        vertical-align: middle;\n",
       "    }\n",
       "\n",
       "    .dataframe tbody tr th {\n",
       "        vertical-align: top;\n",
       "    }\n",
       "\n",
       "    .dataframe thead th {\n",
       "        text-align: right;\n",
       "    }\n",
       "</style>\n",
       "<table border=\"1\" class=\"dataframe\">\n",
       "  <thead>\n",
       "    <tr style=\"text-align: right;\">\n",
       "      <th></th>\n",
       "      <th>ID</th>\n",
       "      <th>filename</th>\n",
       "      <th>model_name</th>\n",
       "      <th>n_try</th>\n",
       "      <th>answer</th>\n",
       "      <th>Annotator 1 (Matteo)</th>\n",
       "      <th>Unnamed: 6</th>\n",
       "      <th>Unnamed: 7</th>\n",
       "      <th>Unnamed: 8</th>\n",
       "      <th>Annotator 2 (Albert)</th>\n",
       "      <th>Annotator 3</th>\n",
       "      <th>base_task</th>\n",
       "      <th>language</th>\n",
       "    </tr>\n",
       "  </thead>\n",
       "  <tbody>\n",
       "    <tr>\n",
       "      <th>0</th>\n",
       "      <td>4</td>\n",
       "      <td>hannoi_Q1.cpp_0_Salesforce_codegen-16B-multi</td>\n",
       "      <td>unkown</td>\n",
       "      <td>0</td>\n",
       "      <td>hannoi_Q1.cpp_0_Salesforce_codegen-16B-multi\\n...</td>\n",
       "      <td>3.0</td>\n",
       "      <td>NaN</td>\n",
       "      <td>NaN</td>\n",
       "      <td>NaN</td>\n",
       "      <td>NaN</td>\n",
       "      <td>NaN</td>\n",
       "      <td>hannoi_Q1</td>\n",
       "      <td>cpp</td>\n",
       "    </tr>\n",
       "    <tr>\n",
       "      <th>1</th>\n",
       "      <td>5</td>\n",
       "      <td>hannoi_Q1.cpp_1_Salesforce_codegen-16B-multi</td>\n",
       "      <td>unkown</td>\n",
       "      <td>1</td>\n",
       "      <td>hannoi_Q1.cpp_1_Salesforce_codegen-16B-multi\\n...</td>\n",
       "      <td>4.0</td>\n",
       "      <td>NaN</td>\n",
       "      <td>NaN</td>\n",
       "      <td>NaN</td>\n",
       "      <td>NaN</td>\n",
       "      <td>NaN</td>\n",
       "      <td>hannoi_Q1</td>\n",
       "      <td>cpp</td>\n",
       "    </tr>\n",
       "    <tr>\n",
       "      <th>2</th>\n",
       "      <td>6</td>\n",
       "      <td>hannoi_Q1.cpp_2_Salesforce_codegen-16B-multi</td>\n",
       "      <td>unkown</td>\n",
       "      <td>2</td>\n",
       "      <td>hannoi_Q1.cpp_2_Salesforce_codegen-16B-multi\\n...</td>\n",
       "      <td>4.0</td>\n",
       "      <td>NaN</td>\n",
       "      <td>NaN</td>\n",
       "      <td>NaN</td>\n",
       "      <td>NaN</td>\n",
       "      <td>NaN</td>\n",
       "      <td>hannoi_Q1</td>\n",
       "      <td>cpp</td>\n",
       "    </tr>\n",
       "    <tr>\n",
       "      <th>3</th>\n",
       "      <td>10</td>\n",
       "      <td>hannoi_Q1.cs_0_Salesforce_codegen-16B-multi</td>\n",
       "      <td>unkown</td>\n",
       "      <td>0</td>\n",
       "      <td>hannoi_Q1.cs_0_Salesforce_codegen-16B-multi\\nQ...</td>\n",
       "      <td>3.0</td>\n",
       "      <td>NaN</td>\n",
       "      <td>NaN</td>\n",
       "      <td>NaN</td>\n",
       "      <td>NaN</td>\n",
       "      <td>NaN</td>\n",
       "      <td>hannoi_Q1</td>\n",
       "      <td>cs</td>\n",
       "    </tr>\n",
       "    <tr>\n",
       "      <th>4</th>\n",
       "      <td>32</td>\n",
       "      <td>hannoi_Q1.cs_1_Salesforce_codegen-16B-multi</td>\n",
       "      <td>unkown</td>\n",
       "      <td>1</td>\n",
       "      <td>hannoi_Q1.cs_1_Salesforce_codegen-16B-multi\\nQ...</td>\n",
       "      <td>4.0</td>\n",
       "      <td>NaN</td>\n",
       "      <td>NaN</td>\n",
       "      <td>NaN</td>\n",
       "      <td>NaN</td>\n",
       "      <td>NaN</td>\n",
       "      <td>hannoi_Q1</td>\n",
       "      <td>cs</td>\n",
       "    </tr>\n",
       "  </tbody>\n",
       "</table>\n",
       "</div>"
      ],
      "text/plain": [
       "   ID                                      filename model_name  n_try  \\\n",
       "0   4  hannoi_Q1.cpp_0_Salesforce_codegen-16B-multi     unkown      0   \n",
       "1   5  hannoi_Q1.cpp_1_Salesforce_codegen-16B-multi     unkown      1   \n",
       "2   6  hannoi_Q1.cpp_2_Salesforce_codegen-16B-multi     unkown      2   \n",
       "3  10   hannoi_Q1.cs_0_Salesforce_codegen-16B-multi     unkown      0   \n",
       "4  32   hannoi_Q1.cs_1_Salesforce_codegen-16B-multi     unkown      1   \n",
       "\n",
       "                                              answer  Annotator 1 (Matteo)  \\\n",
       "0  hannoi_Q1.cpp_0_Salesforce_codegen-16B-multi\\n...                   3.0   \n",
       "1  hannoi_Q1.cpp_1_Salesforce_codegen-16B-multi\\n...                   4.0   \n",
       "2  hannoi_Q1.cpp_2_Salesforce_codegen-16B-multi\\n...                   4.0   \n",
       "3  hannoi_Q1.cs_0_Salesforce_codegen-16B-multi\\nQ...                   3.0   \n",
       "4  hannoi_Q1.cs_1_Salesforce_codegen-16B-multi\\nQ...                   4.0   \n",
       "\n",
       "   Unnamed: 6  Unnamed: 7  Unnamed: 8  Annotator 2 (Albert)  Annotator 3  \\\n",
       "0         NaN         NaN         NaN                   NaN          NaN   \n",
       "1         NaN         NaN         NaN                   NaN          NaN   \n",
       "2         NaN         NaN         NaN                   NaN          NaN   \n",
       "3         NaN         NaN         NaN                   NaN          NaN   \n",
       "4         NaN         NaN         NaN                   NaN          NaN   \n",
       "\n",
       "   base_task language  \n",
       "0  hannoi_Q1      cpp  \n",
       "1  hannoi_Q1      cpp  \n",
       "2  hannoi_Q1      cpp  \n",
       "3  hannoi_Q1       cs  \n",
       "4  hannoi_Q1       cs  "
      ]
     },
     "execution_count": 7,
     "metadata": {},
     "output_type": "execute_result"
    }
   ],
   "source": [
    "df_codegen['base_task'] = df_codegen['filename'].apply(lambda x: x.split('.')[0])\n",
    "df_codegen['language'] = df_codegen['filename'].apply(lambda x: x.split('.')[1].split('_')[0])\n",
    "df_codegen.head()"
   ]
  },
  {
   "cell_type": "code",
   "execution_count": 12,
   "metadata": {},
   "outputs": [
    {
     "data": {
      "text/plain": [
       "<AxesSubplot:xlabel='count', ylabel='base_task'>"
      ]
     },
     "execution_count": 12,
     "metadata": {},
     "output_type": "execute_result"
    },
    {
     "data": {
      "image/png": "[encoded data removed]",
      "text/plain": [
       "<Figure size 432x288 with 1 Axes>"
      ]
     },
     "metadata": {
      "needs_background": "light"
     },
     "output_type": "display_data"
    }
   ],
   "source": [
    "sns.countplot(\n",
    "    data=df_humans,\n",
    "    y='base_task',\n",
    "    hue='language',\n",
    ")"
   ]
  },
  {
   "cell_type": "code",
   "execution_count": 22,
   "metadata": {},
   "outputs": [
    {
     "name": "stdout",
     "output_type": "stream",
     "text": [
      "Annotator 1 (Matteo)\n"
     ]
    },
    {
     "data": {
      "text/plain": [
       "Text(0.5, 1.0, 'Codegen')"
      ]
     },
     "execution_count": 22,
     "metadata": {},
     "output_type": "execute_result"
    },
    {
     "data": {
      "image/png": "[encoded data removed]",
      "text/plain": [
       "<Figure size 720x216 with 2 Axes>"
      ]
     },
     "metadata": {
      "needs_background": "light"
     },
     "output_type": "display_data"
    }
   ],
   "source": [
    "fig, axes = plt.subplots(1, 2, figsize=(10, 3))\n",
    "\n",
    "ax_human = axes[0]\n",
    "ax_codegen = axes[1]\n",
    "col_annotator = 'Annotator 1 (Matteo)'\n",
    "print(col_annotator)\n",
    "sns.histplot(\n",
    "    data=df_humans,\n",
    "    x=col_annotator,\n",
    "    ax=ax_human,\n",
    ")\n",
    "# compute the average\n",
    "avg = df_humans[col_annotator].mean()\n",
    "ax_human.axvline(avg, color='r', linestyle='--')\n",
    "ax_human.text(x=3, y=10, s=f\"Avg: {avg:.2f}\", fontsize=20)\n",
    "ax_human.set_title('Human')\n",
    "\n",
    "sns.histplot(\n",
    "    data=df_codegen,\n",
    "    x=col_annotator,\n",
    "    ax=ax_codegen,\n",
    ")\n",
    "# compute the average\n",
    "avg = df_codegen[col_annotator].mean()\n",
    "ax_codegen.axvline(avg, color='r', linestyle='--')\n",
    "ax_codegen.text(x=3, y=10, s=f\"Avg: {avg:.2f}\", fontsize=20)\n",
    "ax_codegen.set_title('Codegen')"
   ]
  },
  {
   "cell_type": "code",
   "execution_count": 23,
   "metadata": {},
   "outputs": [
    {
     "name": "stdout",
     "output_type": "stream",
     "text": [
      "Annotator 2 (Albert)\n"
     ]
    },
    {
     "data": {
      "text/plain": [
       "Text(0.5, 1.0, 'Human')"
      ]
     },
     "execution_count": 23,
     "metadata": {},
     "output_type": "execute_result"
    },
    {
     "data": {
      "image/png": "[encoded data removed]",
      "text/plain": [
       "<Figure size 720x216 with 2 Axes>"
      ]
     },
     "metadata": {
      "needs_background": "light"
     },
     "output_type": "display_data"
    }
   ],
   "source": [
    "fig, axes = plt.subplots(1, 2, figsize=(10, 3))\n",
    "\n",
    "ax_human = axes[0]\n",
    "ax_codegen = axes[1]\n",
    "col_annotator = 'Annotator 2 (Albert)'\n",
    "print(col_annotator)\n",
    "sns.histplot(\n",
    "    data=df_humans,\n",
    "    x=col_annotator,\n",
    "    ax=ax_human,\n",
    ")\n",
    "# compute the average\n",
    "avg = df_humans[col_annotator].mean()\n",
    "ax_human.axvline(avg, color='r', linestyle='--')\n",
    "ax_human.text(x=3, y=10, s=f\"Avg: {avg:.2f}\", fontsize=20)\n",
    "ax_human.set_title('Human')"
   ]
  },
  {
   "cell_type": "code",
   "execution_count": null,
   "metadata": {},
   "outputs": [],
   "source": []
  }
 ],
 "metadata": {
  "kernelspec": {
   "display_name": "Python 3.8.9 ('venv': venv)",
   "language": "python",
   "name": "python3"
  },
  "language_info": {
   "codemirror_mode": {
    "name": "ipython",
    "version": 3
   },
   "file_extension": ".py",
   "mimetype": "text/x-python",
   "name": "python",
   "nbconvert_exporter": "python",
   "pygments_lexer": "ipython3",
   "version": "3.8.9"
  },
  "orig_nbformat": 4,
  "vscode": {
   "interpreter": {
    "hash": "cdbdd4cf7f5282af921e9e9f8e89536c1a615a288e4742df81a89abd7b1a94fe"
   }
  }
 },
 "nbformat": 4,
 "nbformat_minor": 2
}
