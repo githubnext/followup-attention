{
 "cells": [
  {
   "cell_type": "code",
   "execution_count": 64,
   "metadata": {},
   "outputs": [],
   "source": [
    "import project_path\n",
    "import os\n",
    "import numpy as np\n",
    "import json\n",
    "from tqdm import tqdm\n",
    "from typing import List, Dict, Any, Union, Tuple\n",
    "import seaborn as sns\n",
    "import matplotlib.pyplot as plt\n",
    "import torch\n",
    "import pandas as pd\n",
    "import re\n",
    "\n",
    "from attwizard.decoder import get_attention_representation\n",
    "from attwizard.aligner import map_to_char_level\n",
    "from attwizard.aligner import tokenize_char_level\n",
    "\n",
    "from codeattention.source_code import SourceCode\n",
    "\n",
    "from scipy.stats import spearmanr\n",
    "from scipy.stats import kstest\n",
    "from scipy.spatial.distance import jensenshannon\n",
    "\n",
    "from attwizard.script.utils import read_data_in_parallel\n",
    "from attwizard.script.utils import load_json_file\n",
    "\n",
    "# EDA\n",
    "from attwizard.visualizer.eda import visualize_corr_vs\n",
    "from attwizard.visualizer.eda import visualize_code_heatmap_codegen\n",
    "from attwizard.visualizer.eda import plot_histogram_in_parallel\n",
    "from attwizard.visualizer.eda import plot_100_perc_stacked_bar"
   ]
  },
  {
   "cell_type": "code",
   "execution_count": 65,
   "metadata": {},
   "outputs": [
    {
     "name": "stdout",
     "output_type": "stream",
     "text": [
      "The autoreload extension is already loaded. To reload it, use:\n",
      "  %reload_ext autoreload\n"
     ]
    }
   ],
   "source": [
    "%load_ext autoreload\n",
    "%autoreload 2"
   ]
  },
  {
   "cell_type": "code",
   "execution_count": 54,
   "metadata": {},
   "outputs": [],
   "source": [
    "HUMAN_EXPERIMENT = \"eye_v10\"  # batch 1 and batch 2 and batch 3 and batch 4\n",
    "MACHINE_EXPERIMENT = \"exp_v10\"  # CodeGen (3 tries)\n",
    "COMPARISON_FOLDER_CODEGEN = \"cmp_v06\"\n",
    "COMPARISON_FOLDER_GPTJ = \"cmp_v05_gptj\"\n",
    "COMPARISON_NAMES = ['plain_weights_humans.csv', 'plain_weights_meanfollowers.csv', 'plain_weights_mean_meanfollowers.csv']\n",
    "OUT_PAPER_FOLDER = \"../data/paper_figures\"\n",
    "\n",
    "CODEGEN_ANNOTATIONS = \"../data/annotations/2022-09-18/Answer Evaluation - Users - CODEGEN_SCORE.csv\"\n",
    "GPTJ_ANNOTATIONS = \"../data/annotations/2022-09-18/Answer Evaluation - Users - GPTJ_SCORE.csv\"\n",
    "HUMAN_ANNOTATIONS = \"../data/annotations/2022-09-18/Answer Evaluation - Users - HUMAN_SCORE.csv\""
   ]
  },
  {
   "cell_type": "markdown",
   "metadata": {},
   "source": [
    "# Answer Correctness"
   ]
  },
  {
   "cell_type": "code",
   "execution_count": 55,
   "metadata": {},
   "outputs": [
    {
     "name": "stdout",
     "output_type": "stream",
     "text": [
      "362\n"
     ]
    },
    {
     "data": {
      "text/html": [
       "<div>\n",
       "<style scoped>\n",
       "    .dataframe tbody tr th:only-of-type {\n",
       "        vertical-align: middle;\n",
       "    }\n",
       "\n",
       "    .dataframe tbody tr th {\n",
       "        vertical-align: top;\n",
       "    }\n",
       "\n",
       "    .dataframe thead th {\n",
       "        text-align: right;\n",
       "    }\n",
       "</style>\n",
       "<table border=\"1\" class=\"dataframe\">\n",
       "  <thead>\n",
       "    <tr style=\"text-align: right;\">\n",
       "      <th></th>\n",
       "      <th>user</th>\n",
       "      <th>filename</th>\n",
       "      <th>score</th>\n",
       "      <th>unique_data_id</th>\n",
       "      <th>provenance</th>\n",
       "    </tr>\n",
       "  </thead>\n",
       "  <tbody>\n",
       "    <tr>\n",
       "      <th>0</th>\n",
       "      <td>UbeerU</td>\n",
       "      <td>multithread_Q2.py</td>\n",
       "      <td>0</td>\n",
       "      <td>d41dd8</td>\n",
       "      <td>Developers</td>\n",
       "    </tr>\n",
       "    <tr>\n",
       "      <th>1</th>\n",
       "      <td>UpassionU</td>\n",
       "      <td>hannoi_Q3.cs</td>\n",
       "      <td>2</td>\n",
       "      <td>6695fa</td>\n",
       "      <td>Developers</td>\n",
       "    </tr>\n",
       "    <tr>\n",
       "      <th>2</th>\n",
       "      <td>UcamelionU</td>\n",
       "      <td>hannoi_Q1.py</td>\n",
       "      <td>2</td>\n",
       "      <td>5403f5</td>\n",
       "      <td>Developers</td>\n",
       "    </tr>\n",
       "    <tr>\n",
       "      <th>3</th>\n",
       "      <td>UsleepU</td>\n",
       "      <td>hannoi_Q2.py</td>\n",
       "      <td>2</td>\n",
       "      <td>0d7601</td>\n",
       "      <td>Developers</td>\n",
       "    </tr>\n",
       "    <tr>\n",
       "      <th>4</th>\n",
       "      <td>UscoopU</td>\n",
       "      <td>triangle_Q3.cs</td>\n",
       "      <td>1</td>\n",
       "      <td>f936ca</td>\n",
       "      <td>Developers</td>\n",
       "    </tr>\n",
       "  </tbody>\n",
       "</table>\n",
       "</div>"
      ],
      "text/plain": [
       "         user           filename  score unique_data_id  provenance\n",
       "0      UbeerU  multithread_Q2.py      0         d41dd8  Developers\n",
       "1   UpassionU       hannoi_Q3.cs      2         6695fa  Developers\n",
       "2  UcamelionU       hannoi_Q1.py      2         5403f5  Developers\n",
       "3     UsleepU       hannoi_Q2.py      2         0d7601  Developers\n",
       "4     UscoopU     triangle_Q3.cs      1         f936ca  Developers"
      ]
     },
     "execution_count": 55,
     "metadata": {},
     "output_type": "execute_result"
    }
   ],
   "source": [
    "df_codegen_score = pd.read_csv(CODEGEN_ANNOTATIONS)\n",
    "df_human_score = pd.read_csv(HUMAN_ANNOTATIONS)\n",
    "df_gptj_score = pd.read_csv(GPTJ_ANNOTATIONS)\n",
    "\n",
    "# rename filename to unique_data_id\n",
    "df_codegen_score = df_codegen_score.rename(columns={\"filename\": \"unique_data_id\"})\n",
    "# extract the filename\n",
    "# tree_Q3.py_0_Salesforce_codegen-16B-multi --> tree_Q3.py\n",
    "df_codegen_score[\"filename\"] = df_codegen_score[\"unique_data_id\"].apply(\n",
    "    lambda x: re.findall(r\"(.*)_[0-9]+_Salesforce_codegen-[0-9]+\", x)[0]\n",
    ")\n",
    "# rename column model_name --> provenance\n",
    "# rename column n_try --> user\n",
    "df_codegen_score = df_codegen_score.rename(columns={\n",
    "    \"model_name\": \"provenance\",\n",
    "    \"n_try\": \"user\"})\n",
    "df_codegen_score[\"provenance\"] = \"CodeGen\"\n",
    "\n",
    "# rename filename to unique_data_id\n",
    "df_gptj_score = df_gptj_score.rename(columns={\"filename\": \"unique_data_id\"})\n",
    "df_gptj_score[\"filename\"] = df_gptj_score[\"unique_data_id\"].apply(\n",
    "    lambda x: re.findall(r\"(.*)_[0-9]+_EleutherAI_gpt-j-6B\", x)[0]\n",
    ")\n",
    "# rename column model_name --> provenance\n",
    "# rename column n_try --> user\n",
    "df_gptj_score = df_gptj_score.rename(columns={\n",
    "    \"model_name\": \"provenance\",\n",
    "    \"n_try\": \"user\"})\n",
    "df_gptj_score[\"provenance\"] = \"Gpt-j\"\n",
    "\n",
    "# keep columns: user, filename, score, unique_data_id\n",
    "df_human_score = df_human_score[[\"user\", \"filename\", \"score\", \"unique_data_id\"]]\n",
    "# add provenance with human \n",
    "df_human_score[\"provenance\"] = \"Developers\"\n",
    "\n",
    "# concatenate the two dataframes\n",
    "df_score = pd.concat([df_human_score, df_gptj_score, df_codegen_score], axis=0)\n",
    "print(len(df_score))\n",
    "df_score.head()"
   ]
  },
  {
   "cell_type": "code",
   "execution_count": 6,
   "metadata": {},
   "outputs": [],
   "source": [
    "replacement_dict = {\n",
    "    0: \"Wrong\",\n",
    "    1: \"Partial\",\n",
    "    2: \"Correct\",\n",
    "}\n",
    "df_score[\"score\"] = df_score[\"score\"].replace(replacement_dict)"
   ]
  },
  {
   "cell_type": "code",
   "execution_count": 7,
   "metadata": {},
   "outputs": [
    {
     "data": {
      "text/plain": [
       "<AxesSubplot:xlabel='score', ylabel='count'>"
      ]
     },
     "execution_count": 7,
     "metadata": {},
     "output_type": "execute_result"
    },
    {
     "data": {
      "image/png": "[encoded data removed]",
      "text/plain": [
       "<Figure size 432x288 with 1 Axes>"
      ]
     },
     "metadata": {
      "needs_background": "light"
     },
     "output_type": "display_data"
    }
   ],
   "source": [
    "sns.countplot(\n",
    "    data=df_score,\n",
    "    x=\"score\",\n",
    "    hue='provenance',\n",
    ")"
   ]
  },
  {
   "cell_type": "code",
   "execution_count": 8,
   "metadata": {},
   "outputs": [
    {
     "data": {
      "text/html": [
       "<div>\n",
       "<style scoped>\n",
       "    .dataframe tbody tr th:only-of-type {\n",
       "        vertical-align: middle;\n",
       "    }\n",
       "\n",
       "    .dataframe tbody tr th {\n",
       "        vertical-align: top;\n",
       "    }\n",
       "\n",
       "    .dataframe thead th {\n",
       "        text-align: right;\n",
       "    }\n",
       "</style>\n",
       "<table border=\"1\" class=\"dataframe\">\n",
       "  <thead>\n",
       "    <tr style=\"text-align: right;\">\n",
       "      <th></th>\n",
       "      <th>user</th>\n",
       "      <th>filename</th>\n",
       "      <th>score</th>\n",
       "      <th>unique_data_id</th>\n",
       "      <th>provenance</th>\n",
       "    </tr>\n",
       "  </thead>\n",
       "  <tbody>\n",
       "    <tr>\n",
       "      <th>0</th>\n",
       "      <td>UbeerU</td>\n",
       "      <td>multithread_Q2.py</td>\n",
       "      <td>Wrong</td>\n",
       "      <td>d41dd8</td>\n",
       "      <td>Developers</td>\n",
       "    </tr>\n",
       "    <tr>\n",
       "      <th>1</th>\n",
       "      <td>UpassionU</td>\n",
       "      <td>hannoi_Q3.cs</td>\n",
       "      <td>Correct</td>\n",
       "      <td>6695fa</td>\n",
       "      <td>Developers</td>\n",
       "    </tr>\n",
       "    <tr>\n",
       "      <th>2</th>\n",
       "      <td>UcamelionU</td>\n",
       "      <td>hannoi_Q1.py</td>\n",
       "      <td>Correct</td>\n",
       "      <td>5403f5</td>\n",
       "      <td>Developers</td>\n",
       "    </tr>\n",
       "    <tr>\n",
       "      <th>3</th>\n",
       "      <td>UsleepU</td>\n",
       "      <td>hannoi_Q2.py</td>\n",
       "      <td>Correct</td>\n",
       "      <td>0d7601</td>\n",
       "      <td>Developers</td>\n",
       "    </tr>\n",
       "    <tr>\n",
       "      <th>4</th>\n",
       "      <td>UscoopU</td>\n",
       "      <td>triangle_Q3.cs</td>\n",
       "      <td>Partial</td>\n",
       "      <td>f936ca</td>\n",
       "      <td>Developers</td>\n",
       "    </tr>\n",
       "  </tbody>\n",
       "</table>\n",
       "</div>"
      ],
      "text/plain": [
       "         user           filename    score unique_data_id  provenance\n",
       "0      UbeerU  multithread_Q2.py    Wrong         d41dd8  Developers\n",
       "1   UpassionU       hannoi_Q3.cs  Correct         6695fa  Developers\n",
       "2  UcamelionU       hannoi_Q1.py  Correct         5403f5  Developers\n",
       "3     UsleepU       hannoi_Q2.py  Correct         0d7601  Developers\n",
       "4     UscoopU     triangle_Q3.cs  Partial         f936ca  Developers"
      ]
     },
     "execution_count": 8,
     "metadata": {},
     "output_type": "execute_result"
    }
   ],
   "source": [
    "df_score.head()"
   ]
  },
  {
   "cell_type": "code",
   "execution_count": 36,
   "metadata": {},
   "outputs": [
    {
     "data": {
      "image/png": "[encoded data removed]",
      "text/plain": [
       "<Figure size 720x360 with 3 Axes>"
      ]
     },
     "metadata": {
      "needs_background": "light"
     },
     "output_type": "display_data"
    }
   ],
   "source": [
    "fig, axes = plt.subplots(1, 3, figsize=(10, 5))\n",
    "for i, provenance in enumerate([\"Developers\", \"Gpt-j\", \"CodeGen\"]):\n",
    "    df_tmp = df_score[df_score[\"provenance\"] == provenance].copy()\n",
    "    df_tmp[\"filename_pl_agnostic\"] = df_tmp[\"filename\"].apply(\n",
    "        lambda x: x.split(\".\")[0])\n",
    "    fig, ax = plot_100_perc_stacked_bar(\n",
    "        df=df_tmp,\n",
    "        col_name_group=\"filename_pl_agnostic\",\n",
    "        col_name_category_in_group=\"score\",\n",
    "        group_order=list(sorted(df_tmp[\"filename_pl_agnostic\"].unique(), reverse=True)),\n",
    "        direction=\"horizontal\",\n",
    "        convert_x_to_perc=False,\n",
    "        color=[\"limegreen\", \"lightgrey\", \"salmon\"],\n",
    "        ax=axes[i],\n",
    "    )\n",
    "    ax.set_ylabel(\"\")\n",
    "    ax.set_title(provenance)\n",
    "    ax.set_xlabel(\"Percentage of answers\")\n",
    "    ax.set_xlim(0, 1)\n",
    "# remove legend \n",
    "axes[0].legend().remove()\n",
    "axes[2].legend().remove()\n",
    "axes[1].legend(\n",
    "    bbox_to_anchor=(0.5, 1.1),\n",
    "    loc=\"lower center\",\n",
    "    borderaxespad=0,\n",
    "    frameon=False,\n",
    "    ncol=3,\n",
    ")\n",
    "\n",
    "plt.tight_layout()\n",
    "fig.savefig(os.path.join(OUT_PAPER_FOLDER, \"RQ1_correctness_per_task.pdf\"), bbox_inches=\"tight\")"
   ]
  },
  {
   "cell_type": "code",
   "execution_count": 35,
   "metadata": {},
   "outputs": [
    {
     "name": "stderr",
     "output_type": "stream",
     "text": [
      "/home/eaftan/copilot-attention/attwizard/visualizer/eda.py:275: UserWarning: FixedFormatter should only be used together with FixedLocator\n",
      "  [f\"{int(x * 100)} %\" for x in ax.get_xticks()],\n"
     ]
    },
    {
     "data": {
      "image/png": "[encoded data removed]",
      "text/plain": [
       "<Figure size 360x144 with 1 Axes>"
      ]
     },
     "metadata": {
      "needs_background": "light"
     },
     "output_type": "display_data"
    }
   ],
   "source": [
    "fig, ax = plot_100_perc_stacked_bar(\n",
    "    df=df_score,\n",
    "    col_name_group=\"provenance\",\n",
    "    col_name_category_in_group=\"score\",\n",
    "    group_order=[\"Gpt-j\", \"CodeGen\", \"Developers\"],\n",
    "    direction=\"horizontal\",\n",
    "    color=[\"limegreen\", \"lightgrey\", \"salmon\"],\n",
    "    fmt=\"{:.1%}\"\n",
    ")\n",
    "# change size \n",
    "fig.set_size_inches(5, 2)\n",
    "# remove ylabel\n",
    "ax.set_ylabel(\"\")\n",
    "ax.set_xlabel(\"Percentage of answers\")\n",
    "plt.tight_layout()\n",
    "\n",
    "plt.savefig(os.path.join(OUT_PAPER_FOLDER, \"RQ1_correctness.pdf\"))"
   ]
  },
  {
   "cell_type": "markdown",
   "metadata": {},
   "source": [
    "# Dataset Stats"
   ]
  },
  {
   "cell_type": "code",
   "execution_count": 14,
   "metadata": {},
   "outputs": [
    {
     "data": {
      "image/png": "[encoded data removed]",
      "text/plain": [
       "<Figure size 432x360 with 1 Axes>"
      ]
     },
     "metadata": {
      "needs_background": "light"
     },
     "output_type": "display_data"
    }
   ],
   "source": [
    "fig, ax =  plt.subplots(1, 1, figsize=(6, 5))\n",
    "df_tmp = df_score[df_score[\"provenance\"] == \"Developers\"].copy()\n",
    "df_tmp[\"filename_pl_agnostic\"] = df_tmp[\"filename\"].apply(\n",
    "    lambda x: x.split(\".\")[0])\n",
    "df_tmp[\"language\"] = df_tmp[\"filename\"].apply(\n",
    "    lambda x: x.split(\".\")[1])\n",
    "\n",
    "# create stacked bar plot\n",
    "df_tmp = df_tmp.groupby([\"filename_pl_agnostic\", \"language\"]).agg(\n",
    "    {\"score\": \"count\"}).reset_index()\n",
    "df_tmp = df_tmp.pivot(index=\"filename_pl_agnostic\", columns=\"language\", values=\"score\")\n",
    "df_tmp = df_tmp.fillna(0)\n",
    "# change colo scheme blue, magenta, yellow\n",
    "df_tmp.plot.bar(\n",
    "    stacked=True, \n",
    "    color=[\"royalblue\", \"mediumorchid\", \"gold\"],\n",
    "    ax=ax)\n",
    "ax.set_ylabel(\"Number of sessions\")\n",
    "ax.set_xlabel(\"Task\")\n",
    "# add horizontal line with average\n",
    "df_tmp['total_count'] = df_tmp.apply(\n",
    "    lambda row: row[\"cpp\"] + row[\"cs\"] + row[\"py\"], axis=1)\n",
    "ax.axhline(df_tmp['total_count'].mean(), color=\"red\", linestyle=\"--\", label='average')\n",
    "ax.legend(bbox_to_anchor=(1.05, 1), loc='upper left', borderaxespad=0.)\n",
    "plt.tight_layout()\n",
    "plt.savefig(os.path.join(OUT_PAPER_FOLDER, \"dataset_stats.pdf\"))\n"
   ]
  },
  {
   "cell_type": "markdown",
   "metadata": {},
   "source": [
    "# CodeGen"
   ]
  },
  {
   "cell_type": "code",
   "execution_count": 49,
   "metadata": {},
   "outputs": [
    {
     "name": "stdout",
     "output_type": "stream",
     "text": [
      "Loading 3 comparisons\n",
      "['plain_weights_humans.csv', 'plain_weights_mean_meanfollowers.csv', 'plain_weights_meanfollowers.csv']\n"
     ]
    },
    {
     "name": "stderr",
     "output_type": "stream",
     "text": [
      "100%|██████████| 3/3 [00:01<00:00,  2.25it/s]\n"
     ]
    },
    {
     "data": {
      "text/plain": [
       "array(['plain_weights_humans', 'plain_weights_mean_meanfollowers',\n",
       "       'plain_weights_meanfollowers'], dtype=object)"
      ]
     },
     "execution_count": 49,
     "metadata": {},
     "output_type": "execute_result"
    }
   ],
   "source": [
    "# LOAD COMPARISON DATA\n",
    "PATH_COMPARISON_FOLDER = f'../data/comparisons/{COMPARISON_FOLDER_CODEGEN}/'\n",
    "available_comparisons = os.listdir(PATH_COMPARISON_FOLDER)\n",
    "# intersect with comparison names\n",
    "available_comparisons = [c for c in available_comparisons if c in COMPARISON_NAMES]\n",
    "dfs = []\n",
    "print(f\"Loading {len(available_comparisons)} comparisons\")\n",
    "print(available_comparisons)\n",
    "for comparison in tqdm(available_comparisons):\n",
    "    df = pd.read_csv(os.path.join(PATH_COMPARISON_FOLDER, comparison))\n",
    "    dfs.append(df)\n",
    "DF_CODEGEN = pd.concat(dfs)\n",
    "DF_CODEGEN[\"comparison_name\"].unique()"
   ]
  },
  {
   "cell_type": "code",
   "execution_count": 52,
   "metadata": {},
   "outputs": [
    {
     "name": "stdout",
     "output_type": "stream",
     "text": [
      "Keep low pvalue: True\n"
     ]
    }
   ],
   "source": [
    "KEEP_LOW_PVALUE = True\n",
    "\n",
    "if not KEEP_LOW_PVALUE:\n",
    "    DF_CODEGEN = DF_CODEGEN[DF_CODEGEN[\"pvalue\"] < 0.05]\n",
    "\n",
    "# add the column programming_language dervied from the column source_code\n",
    "DF_CODEGEN[\"programming_language\"] = DF_CODEGEN[\"source_code\"].apply(\n",
    "    lambda x: x.split(\".\")[1])\n",
    "# define the vector datasets\n",
    "df_human_vs_model_codegen_same_question_res = DF_CODEGEN[\n",
    "    (DF_CODEGEN[\"comparison_name\"].isin([\"plain_weights_meanfollowers\"]))]\n",
    "df_human_vs_model_codegen_same_question_res_mean = DF_CODEGEN[\n",
    "    (DF_CODEGEN[\"comparison_name\"].isin([\"plain_weights_mean_meanfollowers\"]))]\n",
    "df_human_vs_humans_eye_tracking_codegen = DF_CODEGEN[\n",
    "    (DF_CODEGEN[\"comparison_name\"].isin([\"plain_weights_humans\"]))]\n",
    "\n",
    "vector_comparisons_codegen = [\n",
    "    {\n",
    "        \"short\": \"human_vs_model_codegen_same_question\",\n",
    "        \"long\": \"Developers vs Model (Codegen) - Max\",\n",
    "        'data': df_human_vs_model_codegen_same_question_res,\n",
    "        'color': 'lightblue'\n",
    "    },\n",
    "    {\n",
    "        \"short\": \"human_vs_model_codegen_same_question\",\n",
    "        \"long\": \"Developers vs Model (Codegen) - Mean\",\n",
    "        'data': df_human_vs_model_codegen_same_question_res_mean,\n",
    "        'color': 'royalblue'\n",
    "    },\n",
    "    {\n",
    "        \"short\": \"human_vs_human_same_question\",\n",
    "        \"long\": \"Developers vs Developers \",\n",
    "        \"data\": df_human_vs_humans_eye_tracking_codegen,\n",
    "        'color': 'lime'\n",
    "    },\n",
    "    {\n",
    "        \"short\": \"human_vs_python_same_question\",\n",
    "        \"long\": \"Developers vs CodeGen (Python) \",\n",
    "        \"data\": df_human_vs_model_codegen_same_question_res[\n",
    "            (df_human_vs_model_codegen_same_question_res[\"programming_language\"] == \"py\")],\n",
    "        'color': 'gold'\n",
    "    },\n",
    "    {\n",
    "        \"short\": \"human_vs_csharp_same_question\",\n",
    "        \"long\": \"Developers vs CodeGen (C#) \",\n",
    "        \"data\": df_human_vs_model_codegen_same_question_res[\n",
    "            (df_human_vs_model_codegen_same_question_res[\"programming_language\"] == \"cs\")],\n",
    "        'color': 'mediumorchid'\n",
    "    },\n",
    "    {\n",
    "        \"short\": \"human_vs_cpp_same_question\",\n",
    "        \"long\": \"Developers vs CodeGen (C++) \",\n",
    "        \"data\": df_human_vs_model_codegen_same_question_res[\n",
    "            (df_human_vs_model_codegen_same_question_res[\"programming_language\"] == \"cpp\")],\n",
    "        'color': 'royalblue'\n",
    "    }\n",
    "]\n",
    "\n",
    "print(f'Keep low pvalue: {KEEP_LOW_PVALUE}')"
   ]
  },
  {
   "cell_type": "code",
   "execution_count": 56,
   "metadata": {},
   "outputs": [
    {
     "name": "stderr",
     "output_type": "stream",
     "text": [
      "100%|██████████| 3/3 [00:00<00:00, 202.92it/s]\n"
     ]
    },
    {
     "data": {
      "text/plain": [
       "array(['plain_weights_humans', 'plain_weights_mean_meanfollowers',\n",
       "       'plain_weights_meanfollowers'], dtype=object)"
      ]
     },
     "execution_count": 56,
     "metadata": {},
     "output_type": "execute_result"
    }
   ],
   "source": [
    "# GPT-J\n",
    "# LOAD COMPARISON DATA\n",
    "PATH_COMPARISON_FOLDER = f'../data/comparisons/{COMPARISON_FOLDER_GPTJ}/'\n",
    "available_comparisons = os.listdir(PATH_COMPARISON_FOLDER)\n",
    "# intersect with comparison names\n",
    "available_comparisons = [c for c in available_comparisons if c in COMPARISON_NAMES]\n",
    "dfs = []\n",
    "for comparison in tqdm(available_comparisons):\n",
    "    df = pd.read_csv(os.path.join(PATH_COMPARISON_FOLDER, comparison))\n",
    "    dfs.append(df)\n",
    "DF_GPTJ = pd.concat(dfs)\n",
    "DF_GPTJ[\"comparison_name\"].unique()\n"
   ]
  },
  {
   "cell_type": "code",
   "execution_count": 57,
   "metadata": {},
   "outputs": [
    {
     "name": "stdout",
     "output_type": "stream",
     "text": [
      "Keep low pvalue: True\n"
     ]
    }
   ],
   "source": [
    "KEEP_LOW_PVALUE = True\n",
    "\n",
    "if not KEEP_LOW_PVALUE:\n",
    "    DF_GPTJ = DF_GPTJ[DF_GPTJ[\"pvalue\"] < 0.05]\n",
    "\n",
    "# add the column programming_language dervied from the column source_code\n",
    "DF_GPTJ[\"programming_language\"] = DF_GPTJ[\"source_code\"].apply(\n",
    "    lambda x: x.split(\".\")[1])\n",
    "# define the vector datasets\n",
    "df_human_vs_model_gptj_same_question_res = DF_GPTJ[\n",
    "    (DF_GPTJ[\"comparison_name\"].isin([\"plain_weights_meanfollowers\"]))]\n",
    "df_human_vs_model_gptj_same_question_res_mean = DF_GPTJ[\n",
    "    (DF_GPTJ[\"comparison_name\"].isin([\"plain_weights_mean_meanfollowers\"]))]\n",
    "df_human_vs_humans_eye_tracking_gptj = DF_GPTJ[\n",
    "    (DF_GPTJ[\"comparison_name\"].isin([\"plain_weights_humans\"]))]\n",
    "\n",
    "vector_comparisons_gptj = [\n",
    "    {\n",
    "        \"short\": \"human_vs_model_codegen_same_question\",\n",
    "        \"long\": \"Developers vs Model (Gpt-j) - Max\",\n",
    "        'data': df_human_vs_model_gptj_same_question_res,\n",
    "        'color': 'lightblue'\n",
    "    },\n",
    "    {\n",
    "        \"short\": \"human_vs_model_codegen_same_question\",\n",
    "        \"long\": \"Developers vs Model (Gpt-j) - Mean\",\n",
    "        'data': df_human_vs_model_gptj_same_question_res_mean,\n",
    "        'color': 'royalblue'\n",
    "    },\n",
    "    {\n",
    "        \"short\": \"human_vs_human_same_question\",\n",
    "        \"long\": \"Developers vs Developers \",\n",
    "        \"data\": df_human_vs_humans_eye_tracking_gptj,\n",
    "        'color': 'lime'\n",
    "    },\n",
    "    {\n",
    "        \"short\": \"human_vs_python_same_question\",\n",
    "        \"long\": \"Developers vs Gpt-j (Python) \",\n",
    "        \"data\": df_human_vs_model_gptj_same_question_res[\n",
    "            (df_human_vs_model_gptj_same_question_res[\"programming_language\"] == \"py\")],\n",
    "        'color': 'gold'\n",
    "    },\n",
    "    {\n",
    "        \"short\": \"human_vs_csharp_same_question\",\n",
    "        \"long\": \"Developers vs Gpt-j (C#) \",\n",
    "        \"data\": df_human_vs_model_gptj_same_question_res[\n",
    "            (df_human_vs_model_gptj_same_question_res[\"programming_language\"] == \"cs\")],\n",
    "        'color': 'mediumorchid'\n",
    "    },\n",
    "    {\n",
    "        \"short\": \"human_vs_cpp_same_question\",\n",
    "        \"long\": \"Developers vs Gpt-j (C++) \",\n",
    "        \"data\": df_human_vs_model_gptj_same_question_res[\n",
    "            (df_human_vs_model_gptj_same_question_res[\"programming_language\"] == \"cpp\")],\n",
    "        'color': 'royalblue'\n",
    "    }\n",
    "]\n",
    "\n",
    "print(f'Keep low pvalue: {KEEP_LOW_PVALUE}')"
   ]
  },
  {
   "cell_type": "code",
   "execution_count": 58,
   "metadata": {},
   "outputs": [
    {
     "data": {
      "image/png": "[encoded data removed]",
      "text/plain": [
       "<Figure size 576x265.68 with 6 Axes>"
      ]
     },
     "metadata": {
      "needs_background": "light"
     },
     "output_type": "display_data"
    }
   ],
   "source": [
    "PL_LONG_NAMES = [\"Python\", \"C#\", \"C++\"]\n",
    "pl_comparisons = [\n",
    "    c\n",
    "    for c in vector_comparisons_codegen + vector_comparisons_gptj\n",
    "    if any([l in c[\"long\"] for l in PL_LONG_NAMES])\n",
    "]\n",
    "plot_histogram_in_parallel(\n",
    "    pl_comparisons,\n",
    "    col_name=\"correlation\",\n",
    "    common_prefix=\"Spearman Rank Corr.\",\n",
    "    bins=np.arange(-1, 1, 0.05),\n",
    "    n_cols=2,\n",
    "    filling_direction=\"vertical\",\n",
    "    width=8,\n",
    "    vertical_zero_line=True, \n",
    "    out_path=os.path.join(OUT_PAPER_FOLDER, \"human_vs_model_pl_agreement.pdf\"),\n",
    ")"
   ]
  },
  {
   "cell_type": "code",
   "execution_count": 59,
   "metadata": {},
   "outputs": [
    {
     "data": {
      "image/png": "[encoded data removed]",
      "text/plain": [
       "<Figure size 360x442.8 with 5 Axes>"
      ]
     },
     "metadata": {
      "needs_background": "light"
     },
     "output_type": "display_data"
    }
   ],
   "source": [
    "plot_histogram_in_parallel(\n",
    "    vector_comparisons_codegen[:2] + vector_comparisons_gptj[:3],\n",
    "    col_name=\"correlation\",\n",
    "    common_prefix=\"Spearman Rank Corr.\",\n",
    "    bins=np.arange(-1, 1, 0.05),\n",
    "    vertical_zero_line=True, \n",
    "    out_path=os.path.join(OUT_PAPER_FOLDER, \"human_vs_models_vector_agreement.pdf\"),\n",
    ")"
   ]
  },
  {
   "cell_type": "code",
   "execution_count": 62,
   "metadata": {},
   "outputs": [
    {
     "data": {
      "text/plain": [
       "array([[0.54790302, 0.        , 0.        , 0.        , 0.        ],\n",
       "       [0.90496191, 0.13995795, 0.        , 0.        , 0.        ],\n",
       "       [0.79557095, 0.48037557, 0.02108208, 0.        , 0.        ],\n",
       "       [0.86546127, 0.6575525 , 0.53114413, 0.85542714, 0.        ],\n",
       "       [0.1970453 , 0.43388052, 0.72577581, 0.78795464, 0.56181315]])"
      ]
     },
     "execution_count": 62,
     "metadata": {},
     "output_type": "execute_result"
    }
   ],
   "source": [
    "# create random matrix\n",
    "att_tensor = np.random.rand(5, 5)\n",
    "# make it lower triangular\n",
    "att_tensor = np.tril(att_tensor)\n",
    "att_tensor"
   ]
  },
  {
   "cell_type": "code",
   "execution_count": 63,
   "metadata": {},
   "outputs": [
    {
     "data": {
      "text/plain": [
       "array([[0.54790302, 0.90496191, 0.79557095, 0.86546127, 0.1970453 ],\n",
       "       [0.90496191, 0.13995795, 0.48037557, 0.6575525 , 0.43388052],\n",
       "       [0.79557095, 0.48037557, 0.02108208, 0.53114413, 0.72577581],\n",
       "       [0.86546127, 0.6575525 , 0.53114413, 0.85542714, 0.78795464],\n",
       "       [0.1970453 , 0.43388052, 0.72577581, 0.78795464, 0.56181315]])"
      ]
     },
     "execution_count": 63,
     "metadata": {},
     "output_type": "execute_result"
    }
   ],
   "source": [
    "\n",
    "\n",
    "att_tensor = att_tensor + att_tensor.T\n",
    "# divide the diagonal by 2\n",
    "np.fill_diagonal(att_tensor, att_tensor.diagonal() / 2)\n",
    "att_tensor"
   ]
  },
  {
   "cell_type": "markdown",
   "metadata": {},
   "source": [
    "# Performance vs Agreement\n"
   ]
  },
  {
   "cell_type": "code",
   "execution_count": 64,
   "metadata": {},
   "outputs": [
    {
     "name": "stdout",
     "output_type": "stream",
     "text": [
      "<class 'pandas.core.frame.DataFrame'>\n",
      "Int64Index: 276 entries, 0 to 275\n",
      "Data columns (total 35 columns):\n",
      " #   Column                                              Non-Null Count  Dtype  \n",
      "---  ------                                              --------------  -----  \n",
      " 0   comparison_name                                     276 non-null    object \n",
      " 1   comparison_function                                 276 non-null    object \n",
      " 2   source_code                                         276 non-null    object \n",
      " 3   user_name_a                                         0 non-null      object \n",
      " 4   task_number_a                                       0 non-null      float64\n",
      " 5   user_name_b                                         0 non-null      object \n",
      " 6   task_number_b                                       0 non-null      float64\n",
      " 7   human_a                                             0 non-null      object \n",
      " 8   human_b                                             0 non-null      object \n",
      " 9   comparison_type                                     276 non-null    object \n",
      " 10  correlation                                         276 non-null    float64\n",
      " 11  pvalue                                              276 non-null    float64\n",
      " 12  time_ts_sec                                         276 non-null    float64\n",
      " 13  time_human                                          276 non-null    object \n",
      " 14  provenance.name                                     276 non-null    object \n",
      " 15  provenance.type                                     276 non-null    object \n",
      " 16  provenance.comparison_function                      276 non-null    object \n",
      " 17  provenance.transformations                          276 non-null    object \n",
      " 18  provenance.human.subfolder                          276 non-null    object \n",
      " 19  provenance.human.file_extension                     276 non-null    object \n",
      " 20  provenance.human.tokenizer                          276 non-null    object \n",
      " 21  provenance.human.model_folder                       276 non-null    object \n",
      " 22  provenance.human.suffix                             276 non-null    object \n",
      " 23  provenance.human.transformations                    276 non-null    object \n",
      " 24  provenance.machine                                  276 non-null    object \n",
      " 25  human_att_folder                                    276 non-null    object \n",
      " 26  user_name                                           276 non-null    object \n",
      " 27  task_number                                         276 non-null    float64\n",
      " 28  input_human_filestem                                276 non-null    object \n",
      " 29  input_machine_filestem                              276 non-null    object \n",
      " 30  transformation_0.name                               276 non-null    object \n",
      " 31  transformation_0.kwargs.mapping_from_token_to_char  276 non-null    object \n",
      " 32  transformation_1.name                               276 non-null    object \n",
      " 33  machine_att_folder                                  276 non-null    object \n",
      " 34  programming_language                                276 non-null    object \n",
      "dtypes: float64(6), object(29)\n",
      "memory usage: 77.6+ KB\n"
     ]
    }
   ],
   "source": [
    "df_corr = DF_CODEGEN[DF_CODEGEN[\"comparison_name\"].isin([\"plain_weights_meanfollowers\"])]\n",
    "df_corr.info()"
   ]
  },
  {
   "cell_type": "code",
   "execution_count": 65,
   "metadata": {},
   "outputs": [],
   "source": [
    "# rename input_machine_filestem to filename\n",
    "df_corr = df_corr.rename(columns={\"input_machine_filestem\": \"filename\"})"
   ]
  },
  {
   "cell_type": "code",
   "execution_count": 66,
   "metadata": {},
   "outputs": [
    {
     "data": {
      "text/html": [
       "<div>\n",
       "<style scoped>\n",
       "    .dataframe tbody tr th:only-of-type {\n",
       "        vertical-align: middle;\n",
       "    }\n",
       "\n",
       "    .dataframe tbody tr th {\n",
       "        vertical-align: top;\n",
       "    }\n",
       "\n",
       "    .dataframe thead th {\n",
       "        text-align: right;\n",
       "    }\n",
       "</style>\n",
       "<table border=\"1\" class=\"dataframe\">\n",
       "  <thead>\n",
       "    <tr style=\"text-align: right;\">\n",
       "      <th></th>\n",
       "      <th>comparison_name</th>\n",
       "      <th>comparison_function</th>\n",
       "      <th>source_code</th>\n",
       "      <th>user_name_a</th>\n",
       "      <th>task_number_a</th>\n",
       "      <th>user_name_b</th>\n",
       "      <th>task_number_b</th>\n",
       "      <th>human_a</th>\n",
       "      <th>human_b</th>\n",
       "      <th>comparison_type</th>\n",
       "      <th>...</th>\n",
       "      <th>human_att_folder</th>\n",
       "      <th>user_name</th>\n",
       "      <th>task_number</th>\n",
       "      <th>input_human_filestem</th>\n",
       "      <th>filename</th>\n",
       "      <th>transformation_0.name</th>\n",
       "      <th>transformation_0.kwargs.mapping_from_token_to_char</th>\n",
       "      <th>transformation_1.name</th>\n",
       "      <th>machine_att_folder</th>\n",
       "      <th>programming_language</th>\n",
       "    </tr>\n",
       "  </thead>\n",
       "  <tbody>\n",
       "    <tr>\n",
       "      <th>0</th>\n",
       "      <td>plain_weights_meanfollowers</td>\n",
       "      <td>spearman_rank</td>\n",
       "      <td>tree_Q2.py</td>\n",
       "      <td>NaN</td>\n",
       "      <td>NaN</td>\n",
       "      <td>NaN</td>\n",
       "      <td>NaN</td>\n",
       "      <td>NaN</td>\n",
       "      <td>NaN</td>\n",
       "      <td>vector</td>\n",
       "      <td>...</td>\n",
       "      <td>./data/eye_tracking_attention/eye_v10</td>\n",
       "      <td>UbagU</td>\n",
       "      <td>2.0</td>\n",
       "      <td>0480e5</td>\n",
       "      <td>tree_Q2.py_0_Salesforce_codegen-16B-multi</td>\n",
       "      <td>convert_to_char_level</td>\n",
       "      <td>equal_share</td>\n",
       "      <td>convert_vect_to_probabilities</td>\n",
       "      <td>./data/model_output/exp_v10/codegen</td>\n",
       "      <td>py</td>\n",
       "    </tr>\n",
       "    <tr>\n",
       "      <th>1</th>\n",
       "      <td>plain_weights_meanfollowers</td>\n",
       "      <td>spearman_rank</td>\n",
       "      <td>tree_Q2.py</td>\n",
       "      <td>NaN</td>\n",
       "      <td>NaN</td>\n",
       "      <td>NaN</td>\n",
       "      <td>NaN</td>\n",
       "      <td>NaN</td>\n",
       "      <td>NaN</td>\n",
       "      <td>vector</td>\n",
       "      <td>...</td>\n",
       "      <td>./data/eye_tracking_attention/eye_v10</td>\n",
       "      <td>UbagU</td>\n",
       "      <td>2.0</td>\n",
       "      <td>0480e5</td>\n",
       "      <td>tree_Q2.py_1_Salesforce_codegen-16B-multi</td>\n",
       "      <td>convert_to_char_level</td>\n",
       "      <td>equal_share</td>\n",
       "      <td>convert_vect_to_probabilities</td>\n",
       "      <td>./data/model_output/exp_v10/codegen</td>\n",
       "      <td>py</td>\n",
       "    </tr>\n",
       "    <tr>\n",
       "      <th>2</th>\n",
       "      <td>plain_weights_meanfollowers</td>\n",
       "      <td>spearman_rank</td>\n",
       "      <td>tree_Q2.py</td>\n",
       "      <td>NaN</td>\n",
       "      <td>NaN</td>\n",
       "      <td>NaN</td>\n",
       "      <td>NaN</td>\n",
       "      <td>NaN</td>\n",
       "      <td>NaN</td>\n",
       "      <td>vector</td>\n",
       "      <td>...</td>\n",
       "      <td>./data/eye_tracking_attention/eye_v10</td>\n",
       "      <td>UbagU</td>\n",
       "      <td>2.0</td>\n",
       "      <td>0480e5</td>\n",
       "      <td>tree_Q2.py_2_Salesforce_codegen-16B-multi</td>\n",
       "      <td>convert_to_char_level</td>\n",
       "      <td>equal_share</td>\n",
       "      <td>convert_vect_to_probabilities</td>\n",
       "      <td>./data/model_output/exp_v10/codegen</td>\n",
       "      <td>py</td>\n",
       "    </tr>\n",
       "    <tr>\n",
       "      <th>3</th>\n",
       "      <td>plain_weights_meanfollowers</td>\n",
       "      <td>spearman_rank</td>\n",
       "      <td>triangle_Q3.py</td>\n",
       "      <td>NaN</td>\n",
       "      <td>NaN</td>\n",
       "      <td>NaN</td>\n",
       "      <td>NaN</td>\n",
       "      <td>NaN</td>\n",
       "      <td>NaN</td>\n",
       "      <td>vector</td>\n",
       "      <td>...</td>\n",
       "      <td>./data/eye_tracking_attention/eye_v10</td>\n",
       "      <td>UbeerU</td>\n",
       "      <td>2.0</td>\n",
       "      <td>08147e</td>\n",
       "      <td>triangle_Q3.py_0_Salesforce_codegen-16B-multi</td>\n",
       "      <td>convert_to_char_level</td>\n",
       "      <td>equal_share</td>\n",
       "      <td>convert_vect_to_probabilities</td>\n",
       "      <td>./data/model_output/exp_v10/codegen</td>\n",
       "      <td>py</td>\n",
       "    </tr>\n",
       "    <tr>\n",
       "      <th>4</th>\n",
       "      <td>plain_weights_meanfollowers</td>\n",
       "      <td>spearman_rank</td>\n",
       "      <td>triangle_Q3.py</td>\n",
       "      <td>NaN</td>\n",
       "      <td>NaN</td>\n",
       "      <td>NaN</td>\n",
       "      <td>NaN</td>\n",
       "      <td>NaN</td>\n",
       "      <td>NaN</td>\n",
       "      <td>vector</td>\n",
       "      <td>...</td>\n",
       "      <td>./data/eye_tracking_attention/eye_v10</td>\n",
       "      <td>UbeerU</td>\n",
       "      <td>2.0</td>\n",
       "      <td>08147e</td>\n",
       "      <td>triangle_Q3.py_1_Salesforce_codegen-16B-multi</td>\n",
       "      <td>convert_to_char_level</td>\n",
       "      <td>equal_share</td>\n",
       "      <td>convert_vect_to_probabilities</td>\n",
       "      <td>./data/model_output/exp_v10/codegen</td>\n",
       "      <td>py</td>\n",
       "    </tr>\n",
       "  </tbody>\n",
       "</table>\n",
       "<p>5 rows × 35 columns</p>\n",
       "</div>"
      ],
      "text/plain": [
       "               comparison_name comparison_function     source_code  \\\n",
       "0  plain_weights_meanfollowers       spearman_rank      tree_Q2.py   \n",
       "1  plain_weights_meanfollowers       spearman_rank      tree_Q2.py   \n",
       "2  plain_weights_meanfollowers       spearman_rank      tree_Q2.py   \n",
       "3  plain_weights_meanfollowers       spearman_rank  triangle_Q3.py   \n",
       "4  plain_weights_meanfollowers       spearman_rank  triangle_Q3.py   \n",
       "\n",
       "  user_name_a  task_number_a user_name_b  task_number_b human_a human_b  \\\n",
       "0         NaN            NaN         NaN            NaN     NaN     NaN   \n",
       "1         NaN            NaN         NaN            NaN     NaN     NaN   \n",
       "2         NaN            NaN         NaN            NaN     NaN     NaN   \n",
       "3         NaN            NaN         NaN            NaN     NaN     NaN   \n",
       "4         NaN            NaN         NaN            NaN     NaN     NaN   \n",
       "\n",
       "  comparison_type  ...                       human_att_folder  user_name  \\\n",
       "0          vector  ...  ./data/eye_tracking_attention/eye_v10      UbagU   \n",
       "1          vector  ...  ./data/eye_tracking_attention/eye_v10      UbagU   \n",
       "2          vector  ...  ./data/eye_tracking_attention/eye_v10      UbagU   \n",
       "3          vector  ...  ./data/eye_tracking_attention/eye_v10     UbeerU   \n",
       "4          vector  ...  ./data/eye_tracking_attention/eye_v10     UbeerU   \n",
       "\n",
       "   task_number input_human_filestem  \\\n",
       "0          2.0               0480e5   \n",
       "1          2.0               0480e5   \n",
       "2          2.0               0480e5   \n",
       "3          2.0               08147e   \n",
       "4          2.0               08147e   \n",
       "\n",
       "                                        filename  transformation_0.name  \\\n",
       "0      tree_Q2.py_0_Salesforce_codegen-16B-multi  convert_to_char_level   \n",
       "1      tree_Q2.py_1_Salesforce_codegen-16B-multi  convert_to_char_level   \n",
       "2      tree_Q2.py_2_Salesforce_codegen-16B-multi  convert_to_char_level   \n",
       "3  triangle_Q3.py_0_Salesforce_codegen-16B-multi  convert_to_char_level   \n",
       "4  triangle_Q3.py_1_Salesforce_codegen-16B-multi  convert_to_char_level   \n",
       "\n",
       "  transformation_0.kwargs.mapping_from_token_to_char  \\\n",
       "0                                        equal_share   \n",
       "1                                        equal_share   \n",
       "2                                        equal_share   \n",
       "3                                        equal_share   \n",
       "4                                        equal_share   \n",
       "\n",
       "           transformation_1.name                   machine_att_folder  \\\n",
       "0  convert_vect_to_probabilities  ./data/model_output/exp_v10/codegen   \n",
       "1  convert_vect_to_probabilities  ./data/model_output/exp_v10/codegen   \n",
       "2  convert_vect_to_probabilities  ./data/model_output/exp_v10/codegen   \n",
       "3  convert_vect_to_probabilities  ./data/model_output/exp_v10/codegen   \n",
       "4  convert_vect_to_probabilities  ./data/model_output/exp_v10/codegen   \n",
       "\n",
       "  programming_language  \n",
       "0                   py  \n",
       "1                   py  \n",
       "2                   py  \n",
       "3                   py  \n",
       "4                   py  \n",
       "\n",
       "[5 rows x 35 columns]"
      ]
     },
     "execution_count": 66,
     "metadata": {},
     "output_type": "execute_result"
    }
   ],
   "source": [
    "df_corr.head()"
   ]
  },
  {
   "cell_type": "code",
   "execution_count": 67,
   "metadata": {},
   "outputs": [
    {
     "data": {
      "text/html": [
       "<div>\n",
       "<style scoped>\n",
       "    .dataframe tbody tr th:only-of-type {\n",
       "        vertical-align: middle;\n",
       "    }\n",
       "\n",
       "    .dataframe tbody tr th {\n",
       "        vertical-align: top;\n",
       "    }\n",
       "\n",
       "    .dataframe thead th {\n",
       "        text-align: right;\n",
       "    }\n",
       "</style>\n",
       "<table border=\"1\" class=\"dataframe\">\n",
       "  <thead>\n",
       "    <tr style=\"text-align: right;\">\n",
       "      <th></th>\n",
       "      <th>filename</th>\n",
       "      <th>model_name</th>\n",
       "      <th>n_try</th>\n",
       "      <th>score</th>\n",
       "    </tr>\n",
       "  </thead>\n",
       "  <tbody>\n",
       "    <tr>\n",
       "      <th>0</th>\n",
       "      <td>tree_Q3.py_0_Salesforce_codegen-16B-multi</td>\n",
       "      <td>codegen-16B-multi</td>\n",
       "      <td>0</td>\n",
       "      <td>2</td>\n",
       "    </tr>\n",
       "    <tr>\n",
       "      <th>1</th>\n",
       "      <td>triangle_Q3.py_1_Salesforce_codegen-16B-multi</td>\n",
       "      <td>codegen-16B-multi</td>\n",
       "      <td>1</td>\n",
       "      <td>0</td>\n",
       "    </tr>\n",
       "    <tr>\n",
       "      <th>2</th>\n",
       "      <td>multithread_Q1.cpp_1_Salesforce_codegen-16B-multi</td>\n",
       "      <td>codegen-16B-multi</td>\n",
       "      <td>1</td>\n",
       "      <td>0</td>\n",
       "    </tr>\n",
       "    <tr>\n",
       "      <th>3</th>\n",
       "      <td>triangle_Q1.cs_1_Salesforce_codegen-16B-multi</td>\n",
       "      <td>codegen-16B-multi</td>\n",
       "      <td>1</td>\n",
       "      <td>2</td>\n",
       "    </tr>\n",
       "    <tr>\n",
       "      <th>4</th>\n",
       "      <td>hannoi_Q2.cpp_1_Salesforce_codegen-16B-multi</td>\n",
       "      <td>codegen-16B-multi</td>\n",
       "      <td>1</td>\n",
       "      <td>2</td>\n",
       "    </tr>\n",
       "  </tbody>\n",
       "</table>\n",
       "</div>"
      ],
      "text/plain": [
       "                                            filename         model_name  \\\n",
       "0          tree_Q3.py_0_Salesforce_codegen-16B-multi  codegen-16B-multi   \n",
       "1      triangle_Q3.py_1_Salesforce_codegen-16B-multi  codegen-16B-multi   \n",
       "2  multithread_Q1.cpp_1_Salesforce_codegen-16B-multi  codegen-16B-multi   \n",
       "3      triangle_Q1.cs_1_Salesforce_codegen-16B-multi  codegen-16B-multi   \n",
       "4       hannoi_Q2.cpp_1_Salesforce_codegen-16B-multi  codegen-16B-multi   \n",
       "\n",
       "   n_try  score  \n",
       "0      0      2  \n",
       "1      1      0  \n",
       "2      1      0  \n",
       "3      1      2  \n",
       "4      1      2  "
      ]
     },
     "execution_count": 67,
     "metadata": {},
     "output_type": "execute_result"
    }
   ],
   "source": [
    "df_codegen_score = pd.read_csv(CODEGEN_ANNOTATIONS)\n",
    "df_codegen_score.head()\n"
   ]
  },
  {
   "cell_type": "code",
   "execution_count": 68,
   "metadata": {},
   "outputs": [
    {
     "data": {
      "text/html": [
       "<div>\n",
       "<style scoped>\n",
       "    .dataframe tbody tr th:only-of-type {\n",
       "        vertical-align: middle;\n",
       "    }\n",
       "\n",
       "    .dataframe tbody tr th {\n",
       "        vertical-align: top;\n",
       "    }\n",
       "\n",
       "    .dataframe thead th {\n",
       "        text-align: right;\n",
       "    }\n",
       "</style>\n",
       "<table border=\"1\" class=\"dataframe\">\n",
       "  <thead>\n",
       "    <tr style=\"text-align: right;\">\n",
       "      <th></th>\n",
       "      <th>comparison_name</th>\n",
       "      <th>comparison_function</th>\n",
       "      <th>source_code</th>\n",
       "      <th>user_name_a</th>\n",
       "      <th>task_number_a</th>\n",
       "      <th>user_name_b</th>\n",
       "      <th>task_number_b</th>\n",
       "      <th>human_a</th>\n",
       "      <th>human_b</th>\n",
       "      <th>comparison_type</th>\n",
       "      <th>...</th>\n",
       "      <th>input_human_filestem</th>\n",
       "      <th>filename</th>\n",
       "      <th>transformation_0.name</th>\n",
       "      <th>transformation_0.kwargs.mapping_from_token_to_char</th>\n",
       "      <th>transformation_1.name</th>\n",
       "      <th>machine_att_folder</th>\n",
       "      <th>programming_language</th>\n",
       "      <th>model_name</th>\n",
       "      <th>n_try</th>\n",
       "      <th>score</th>\n",
       "    </tr>\n",
       "  </thead>\n",
       "  <tbody>\n",
       "    <tr>\n",
       "      <th>0</th>\n",
       "      <td>plain_weights_meanfollowers</td>\n",
       "      <td>spearman_rank</td>\n",
       "      <td>tree_Q2.py</td>\n",
       "      <td>NaN</td>\n",
       "      <td>NaN</td>\n",
       "      <td>NaN</td>\n",
       "      <td>NaN</td>\n",
       "      <td>NaN</td>\n",
       "      <td>NaN</td>\n",
       "      <td>vector</td>\n",
       "      <td>...</td>\n",
       "      <td>0480e5</td>\n",
       "      <td>tree_Q2.py_0_Salesforce_codegen-16B-multi</td>\n",
       "      <td>convert_to_char_level</td>\n",
       "      <td>equal_share</td>\n",
       "      <td>convert_vect_to_probabilities</td>\n",
       "      <td>./data/model_output/exp_v10/codegen</td>\n",
       "      <td>py</td>\n",
       "      <td>codegen-16B-multi</td>\n",
       "      <td>0</td>\n",
       "      <td>0</td>\n",
       "    </tr>\n",
       "    <tr>\n",
       "      <th>1</th>\n",
       "      <td>plain_weights_meanfollowers</td>\n",
       "      <td>spearman_rank</td>\n",
       "      <td>tree_Q2.py</td>\n",
       "      <td>NaN</td>\n",
       "      <td>NaN</td>\n",
       "      <td>NaN</td>\n",
       "      <td>NaN</td>\n",
       "      <td>NaN</td>\n",
       "      <td>NaN</td>\n",
       "      <td>vector</td>\n",
       "      <td>...</td>\n",
       "      <td>5a70af</td>\n",
       "      <td>tree_Q2.py_0_Salesforce_codegen-16B-multi</td>\n",
       "      <td>convert_to_char_level</td>\n",
       "      <td>equal_share</td>\n",
       "      <td>convert_vect_to_probabilities</td>\n",
       "      <td>./data/model_output/exp_v10/codegen</td>\n",
       "      <td>py</td>\n",
       "      <td>codegen-16B-multi</td>\n",
       "      <td>0</td>\n",
       "      <td>0</td>\n",
       "    </tr>\n",
       "    <tr>\n",
       "      <th>2</th>\n",
       "      <td>plain_weights_meanfollowers</td>\n",
       "      <td>spearman_rank</td>\n",
       "      <td>tree_Q2.py</td>\n",
       "      <td>NaN</td>\n",
       "      <td>NaN</td>\n",
       "      <td>NaN</td>\n",
       "      <td>NaN</td>\n",
       "      <td>NaN</td>\n",
       "      <td>NaN</td>\n",
       "      <td>vector</td>\n",
       "      <td>...</td>\n",
       "      <td>0480e5</td>\n",
       "      <td>tree_Q2.py_1_Salesforce_codegen-16B-multi</td>\n",
       "      <td>convert_to_char_level</td>\n",
       "      <td>equal_share</td>\n",
       "      <td>convert_vect_to_probabilities</td>\n",
       "      <td>./data/model_output/exp_v10/codegen</td>\n",
       "      <td>py</td>\n",
       "      <td>codegen-16B-multi</td>\n",
       "      <td>1</td>\n",
       "      <td>0</td>\n",
       "    </tr>\n",
       "    <tr>\n",
       "      <th>3</th>\n",
       "      <td>plain_weights_meanfollowers</td>\n",
       "      <td>spearman_rank</td>\n",
       "      <td>tree_Q2.py</td>\n",
       "      <td>NaN</td>\n",
       "      <td>NaN</td>\n",
       "      <td>NaN</td>\n",
       "      <td>NaN</td>\n",
       "      <td>NaN</td>\n",
       "      <td>NaN</td>\n",
       "      <td>vector</td>\n",
       "      <td>...</td>\n",
       "      <td>5a70af</td>\n",
       "      <td>tree_Q2.py_1_Salesforce_codegen-16B-multi</td>\n",
       "      <td>convert_to_char_level</td>\n",
       "      <td>equal_share</td>\n",
       "      <td>convert_vect_to_probabilities</td>\n",
       "      <td>./data/model_output/exp_v10/codegen</td>\n",
       "      <td>py</td>\n",
       "      <td>codegen-16B-multi</td>\n",
       "      <td>1</td>\n",
       "      <td>0</td>\n",
       "    </tr>\n",
       "    <tr>\n",
       "      <th>4</th>\n",
       "      <td>plain_weights_meanfollowers</td>\n",
       "      <td>spearman_rank</td>\n",
       "      <td>tree_Q2.py</td>\n",
       "      <td>NaN</td>\n",
       "      <td>NaN</td>\n",
       "      <td>NaN</td>\n",
       "      <td>NaN</td>\n",
       "      <td>NaN</td>\n",
       "      <td>NaN</td>\n",
       "      <td>vector</td>\n",
       "      <td>...</td>\n",
       "      <td>0480e5</td>\n",
       "      <td>tree_Q2.py_2_Salesforce_codegen-16B-multi</td>\n",
       "      <td>convert_to_char_level</td>\n",
       "      <td>equal_share</td>\n",
       "      <td>convert_vect_to_probabilities</td>\n",
       "      <td>./data/model_output/exp_v10/codegen</td>\n",
       "      <td>py</td>\n",
       "      <td>codegen-16B-multi</td>\n",
       "      <td>2</td>\n",
       "      <td>0</td>\n",
       "    </tr>\n",
       "  </tbody>\n",
       "</table>\n",
       "<p>5 rows × 38 columns</p>\n",
       "</div>"
      ],
      "text/plain": [
       "               comparison_name comparison_function source_code user_name_a  \\\n",
       "0  plain_weights_meanfollowers       spearman_rank  tree_Q2.py         NaN   \n",
       "1  plain_weights_meanfollowers       spearman_rank  tree_Q2.py         NaN   \n",
       "2  plain_weights_meanfollowers       spearman_rank  tree_Q2.py         NaN   \n",
       "3  plain_weights_meanfollowers       spearman_rank  tree_Q2.py         NaN   \n",
       "4  plain_weights_meanfollowers       spearman_rank  tree_Q2.py         NaN   \n",
       "\n",
       "   task_number_a user_name_b  task_number_b human_a human_b comparison_type  \\\n",
       "0            NaN         NaN            NaN     NaN     NaN          vector   \n",
       "1            NaN         NaN            NaN     NaN     NaN          vector   \n",
       "2            NaN         NaN            NaN     NaN     NaN          vector   \n",
       "3            NaN         NaN            NaN     NaN     NaN          vector   \n",
       "4            NaN         NaN            NaN     NaN     NaN          vector   \n",
       "\n",
       "   ...  input_human_filestem                                   filename  \\\n",
       "0  ...                0480e5  tree_Q2.py_0_Salesforce_codegen-16B-multi   \n",
       "1  ...                5a70af  tree_Q2.py_0_Salesforce_codegen-16B-multi   \n",
       "2  ...                0480e5  tree_Q2.py_1_Salesforce_codegen-16B-multi   \n",
       "3  ...                5a70af  tree_Q2.py_1_Salesforce_codegen-16B-multi   \n",
       "4  ...                0480e5  tree_Q2.py_2_Salesforce_codegen-16B-multi   \n",
       "\n",
       "   transformation_0.name transformation_0.kwargs.mapping_from_token_to_char  \\\n",
       "0  convert_to_char_level                                        equal_share   \n",
       "1  convert_to_char_level                                        equal_share   \n",
       "2  convert_to_char_level                                        equal_share   \n",
       "3  convert_to_char_level                                        equal_share   \n",
       "4  convert_to_char_level                                        equal_share   \n",
       "\n",
       "           transformation_1.name                   machine_att_folder  \\\n",
       "0  convert_vect_to_probabilities  ./data/model_output/exp_v10/codegen   \n",
       "1  convert_vect_to_probabilities  ./data/model_output/exp_v10/codegen   \n",
       "2  convert_vect_to_probabilities  ./data/model_output/exp_v10/codegen   \n",
       "3  convert_vect_to_probabilities  ./data/model_output/exp_v10/codegen   \n",
       "4  convert_vect_to_probabilities  ./data/model_output/exp_v10/codegen   \n",
       "\n",
       "  programming_language         model_name n_try score  \n",
       "0                   py  codegen-16B-multi     0     0  \n",
       "1                   py  codegen-16B-multi     0     0  \n",
       "2                   py  codegen-16B-multi     1     0  \n",
       "3                   py  codegen-16B-multi     1     0  \n",
       "4                   py  codegen-16B-multi     2     0  \n",
       "\n",
       "[5 rows x 38 columns]"
      ]
     },
     "execution_count": 68,
     "metadata": {},
     "output_type": "execute_result"
    }
   ],
   "source": [
    "df_score_and_corr = pd.merge(\n",
    "   left=df_corr,\n",
    "   right=df_codegen_score,\n",
    "   on='filename', \n",
    ")\n",
    "df_score_and_corr.head()"
   ]
  },
  {
   "cell_type": "code",
   "execution_count": 70,
   "metadata": {},
   "outputs": [
    {
     "data": {
      "text/plain": [
       "<AxesSubplot:xlabel='score', ylabel='correlation'>"
      ]
     },
     "execution_count": 70,
     "metadata": {},
     "output_type": "execute_result"
    },
    {
     "data": {
      "image/png": "[encoded data removed]",
      "text/plain": [
       "<Figure size 432x288 with 1 Axes>"
      ]
     },
     "metadata": {
      "needs_background": "light"
     },
     "output_type": "display_data"
    }
   ],
   "source": [
    "sns.regplot(\n",
    "    data=df_score_and_corr,\n",
    "    x=\"score\",\n",
    "    y=\"correlation\",\n",
    ")"
   ]
  },
  {
   "cell_type": "markdown",
   "metadata": {},
   "source": [
    "# PL Study"
   ]
  },
  {
   "cell_type": "code",
   "execution_count": 38,
   "metadata": {},
   "outputs": [
    {
     "data": {
      "image/png": "[encoded data removed]",
      "text/plain": [
       "<Figure size 864x265.68 with 9 Axes>"
      ]
     },
     "metadata": {
      "needs_background": "light"
     },
     "output_type": "display_data"
    }
   ],
   "source": [
    "PL_LONG_NAMES = [\"Python\", \"C#\", \"C++\"]\n",
    "pl_comparisons = [\n",
    "    c\n",
    "    for c in vector_comparisons_codegen + vector_comparisons_gptj\n",
    "    if any([l in c[\"long\"] for l in PL_LONG_NAMES])\n",
    "]\n",
    "all_comparisons = vector_comparisons_codegen[:1] + vector_comparisons_gptj[:2] + pl_comparisons\n",
    "plot_histogram_in_parallel(\n",
    "    all_comparisons,\n",
    "    col_name=\"correlation\",\n",
    "    common_prefix=\"Spearman Rank Corr.\",\n",
    "    bins=np.arange(-1, 1, 0.05),\n",
    "    n_cols=3,\n",
    "    filling_direction=\"vertical\",\n",
    "    width=12,\n",
    "    vertical_zero_line=True, \n",
    "    out_path=os.path.join(OUT_PAPER_FOLDER, \"human_vs_model_agreement_all_and_pl.pdf\"),\n",
    ")"
   ]
  },
  {
   "cell_type": "markdown",
   "metadata": {},
   "source": [
    "# Mann Whitney U test"
   ]
  },
  {
   "cell_type": "code",
   "execution_count": 35,
   "metadata": {},
   "outputs": [
    {
     "name": "stdout",
     "output_type": "stream",
     "text": [
      "Comparing py vs cpp\n",
      "\tDataset Model:  Gpt-j\n",
      "\tstat=2613.000, p=9.37e-01\n",
      "\tProbably the same distribution\n",
      "\tDataset Model:  Codegen\n",
      "\tstat=2499.000, p=7.22e-01\n",
      "\tProbably the same distribution\n",
      "Comparing py vs cs\n",
      "\tDataset Model:  Gpt-j\n",
      "\tstat=7637.000, p=2.00e-02\n",
      "\tProbably different distributions\n",
      "\tDataset Model:  Codegen\n",
      "\tstat=2626.000, p=9.29e-15\n",
      "\tProbably different distributions\n",
      "Comparing cpp vs cs\n",
      "\tDataset Model:  Gpt-j\n",
      "\tstat=3404.000, p=6.61e-02\n",
      "\tProbably the same distribution\n",
      "\tDataset Model:  Codegen\n",
      "\tstat=1486.000, p=9.95e-07\n",
      "\tProbably different distributions\n",
      "\\begin{tabular}{lllrll}\n",
      "\\toprule\n",
      "Neural Model & Lang. A & Lang. B &  Statistic &  p-value &                  Result \\\\\n",
      "\\midrule\n",
      "       Gpt-j &      py &     cpp &     2613.0 & 9.37e-01 &  Probably same distrib. \\\\\n",
      "     Codegen &      py &     cpp &     2499.0 & 7.22e-01 &  Probably same distrib. \\\\\n",
      "       Gpt-j &      py &      cs &     7637.0 & 2.00e-02 & Probably diff. distrib. \\\\\n",
      "     Codegen &      py &      cs &     2626.0 & 9.29e-15 & Probably diff. distrib. \\\\\n",
      "       Gpt-j &     cpp &      cs &     3404.0 & 6.61e-02 &  Probably same distrib. \\\\\n",
      "     Codegen &     cpp &      cs &     1486.0 & 9.95e-07 & Probably diff. distrib. \\\\\n",
      "\\bottomrule\n",
      "\\end{tabular}\n",
      "\n"
     ]
    },
    {
     "name": "stderr",
     "output_type": "stream",
     "text": [
      "/tmp/ipykernel_2651969/3116067965.py:37: FutureWarning: In future versions `DataFrame.to_latex` is expected to utilise the base implementation of `Styler.to_latex` for formatting and rendering. The arguments signature may therefore change. It is recommended instead to use `DataFrame.style.to_latex` which also contains additional functionality.\n",
      "  print(df_latex_table.to_latex(index=False))\n"
     ]
    }
   ],
   "source": [
    "# Example of the Mann-Whitney U Test \n",
    "from scipy.stats import mannwhitneyu \n",
    "PAIRS = [\n",
    "    ['py', 'cpp'],\n",
    "    ['py', 'cs'],\n",
    "    ['cpp', 'cs'],\n",
    "]\n",
    "records = []\n",
    "for lang_a, lang_b in PAIRS: \n",
    "    print(f'Comparing {lang_a} vs {lang_b}')\n",
    "    for df, name in [\n",
    "            (df_human_vs_model_gptj_same_question_res, 'Gpt-j'),\n",
    "            (df_human_vs_model_codegen_same_question_res, 'Codegen'),]:\n",
    "        print(f'\\tDataset Model:  {name}')\n",
    "        data_a = df[df[\"programming_language\"] == lang_a][\"correlation\"] \n",
    "        data_b = df[df[\"programming_language\"] == lang_b][\"correlation\"] \n",
    "        stat, p = mannwhitneyu(data_a, data_b) \n",
    "        # scientific notation with 2 decimals\n",
    "        print(f'\\tstat={stat:.3f}, p={p:.2e}') \n",
    "        if p > 0.05: \n",
    "            print('\\tProbably the same distribution') \n",
    "        else: \n",
    "            print('\\tProbably different distributions')\n",
    "        records.append({\n",
    "            'Neural Model': name,\n",
    "            'Lang. A': lang_a,\n",
    "            'Lang. B': lang_b,\n",
    "            'Statistic': stat,\n",
    "            'p-value': p,\n",
    "            'Result': 'Probably same distrib.' if p > 0.05 else 'Probably diff. distrib.'\n",
    "        })\n",
    "\n",
    "df_latex_table = pd.DataFrame.from_records(records)\n",
    "# format the p-value column with 2 decimals and scientific notation\n",
    "df_latex_table[\"p-value\"] = df_latex_table[\"p-value\"].apply(lambda x: f'{x:.2e}')\n",
    "# print leatx code\n",
    "print(df_latex_table.to_latex(index=False))"
   ]
  },
  {
   "cell_type": "markdown",
   "metadata": {},
   "source": [
    "# Sampling"
   ]
  },
  {
   "cell_type": "code",
   "execution_count": 7,
   "metadata": {},
   "outputs": [
    {
     "data": {
      "text/plain": [
       "276"
      ]
     },
     "execution_count": 7,
     "metadata": {},
     "output_type": "execute_result"
    }
   ],
   "source": [
    "# GOAL: we want to see how much the agreemnent changes in groups where we only \n",
    "# comparisons on tasks with the same programming language (PL) vs groups of \n",
    "# comparisons on randomly picked tasks (even of different PLs).\n",
    "N_TASKS_PER_GROUP = 100\n",
    "N_REPETITIONS = 30\n",
    "df = df_human_vs_model_codegen_same_question_res\n",
    "\n",
    "len(df)"
   ]
  },
  {
   "cell_type": "code",
   "execution_count": 8,
   "metadata": {},
   "outputs": [
    {
     "name": "stdout",
     "output_type": "stream",
     "text": [
      "<class 'pandas.core.frame.DataFrame'>\n",
      "Int64Index: 276 entries, 0 to 275\n",
      "Data columns (total 60 columns):\n",
      " #   Column                                              Non-Null Count  Dtype  \n",
      "---  ------                                              --------------  -----  \n",
      " 0   comparison_name                                     276 non-null    object \n",
      " 1   comparison_function                                 276 non-null    object \n",
      " 2   source_code                                         276 non-null    object \n",
      " 3   user_name                                           276 non-null    object \n",
      " 4   task_number                                         276 non-null    float64\n",
      " 5   input_human_filestem                                276 non-null    object \n",
      " 6   input_machine_filestem                              276 non-null    object \n",
      " 7   comparison_type                                     276 non-null    object \n",
      " 8   top_3                                               0 non-null      float64\n",
      " 9   time_ts_sec                                         276 non-null    float64\n",
      " 10  time_human                                          276 non-null    object \n",
      " 11  transformation_0.name                               276 non-null    object \n",
      " 12  transformation_0.kwargs.special_char_mapping.Ġ      0 non-null      object \n",
      " 13  transformation_0.kwargs.special_char_mapping.Ċ      0 non-null      object \n",
      " 14  transformation_1.name                               276 non-null    object \n",
      " 15  transformation_1.kwargs.special_char_mapping.Ġ      0 non-null      object \n",
      " 16  transformation_1.kwargs.special_char_mapping.Ċ      0 non-null      object \n",
      " 17  provenance.name                                     276 non-null    object \n",
      " 18  provenance.type                                     276 non-null    object \n",
      " 19  provenance.comparison_function                      276 non-null    object \n",
      " 20  provenance.comparison_output_column                 0 non-null      object \n",
      " 21  provenance.comparison_output_subcolumns             0 non-null      object \n",
      " 22  provenance.transformations                          276 non-null    object \n",
      " 23  provenance.human.subfolder                          276 non-null    object \n",
      " 24  provenance.human.file_extension                     276 non-null    object \n",
      " 25  provenance.human.tokenizer                          276 non-null    object \n",
      " 26  provenance.human.model_folder                       276 non-null    object \n",
      " 27  provenance.human.suffix                             276 non-null    object \n",
      " 28  provenance.machine                                  0 non-null      object \n",
      " 29  top_3.value                                         0 non-null      float64\n",
      " 30  top_3.token_index                                   0 non-null      float64\n",
      " 31  human_att_folder                                    276 non-null    object \n",
      " 32  machine_att_folder                                  276 non-null    object \n",
      " 33  spearman_res                                        0 non-null      float64\n",
      " 34  spearman_res.corr                                   0 non-null      float64\n",
      " 35  spearman_res.pval                                   0 non-null      float64\n",
      " 36  spearman_res.token_index                            0 non-null      float64\n",
      " 37  top_10                                              0 non-null      float64\n",
      " 38  top_10.value                                        0 non-null      float64\n",
      " 39  top_10.token_index                                  0 non-null      float64\n",
      " 40  mse                                                 0 non-null      float64\n",
      " 41  transformation_2.name                               0 non-null      object \n",
      " 42  mse.value                                           0 non-null      float64\n",
      " 43  mse.token_index                                     0 non-null      float64\n",
      " 44  user_name_a                                         0 non-null      object \n",
      " 45  task_number_a                                       0 non-null      float64\n",
      " 46  user_name_b                                         0 non-null      object \n",
      " 47  task_number_b                                       0 non-null      float64\n",
      " 48  human_a                                             0 non-null      object \n",
      " 49  human_b                                             0 non-null      object \n",
      " 50  rank                                                0 non-null      float64\n",
      " 51  rank.value                                          0 non-null      float64\n",
      " 52  rank.token_index                                    0 non-null      float64\n",
      " 53  correlation                                         276 non-null    float64\n",
      " 54  pvalue                                              276 non-null    float64\n",
      " 55  provenance.human.transformations                    276 non-null    object \n",
      " 56  provenance.machine.subfolder                        276 non-null    object \n",
      " 57  provenance.machine.suffix                           276 non-null    object \n",
      " 58  provenance.machine.file_extension                   276 non-null    object \n",
      " 59  transformation_0.kwargs.mapping_from_token_to_char  276 non-null    object \n",
      "dtypes: float64(22), object(38)\n",
      "memory usage: 131.5+ KB\n"
     ]
    }
   ],
   "source": [
    "df.info()"
   ]
  },
  {
   "cell_type": "code",
   "execution_count": 29,
   "metadata": {},
   "outputs": [
    {
     "name": "stderr",
     "output_type": "stream",
     "text": [
      "100%|██████████| 10000/10000 [00:18<00:00, 527.12it/s]\n"
     ]
    },
    {
     "data": {
      "text/plain": [
       "(-1.0, 1.0)"
      ]
     },
     "execution_count": 29,
     "metadata": {},
     "output_type": "execute_result"
    },
    {
     "data": {
      "image/png": "[encoded data removed]",
      "text/plain": [
       "<Figure size 432x288 with 1 Axes>"
      ]
     },
     "metadata": {
      "needs_background": "light"
     },
     "output_type": "display_data"
    }
   ],
   "source": [
    "LANGUAGES = ['.py', '.cpp', '.cs']\n",
    "records_diffs = []\n",
    "\n",
    "# set the seed\n",
    "np.random.seed(42)\n",
    "N_REPETITIONS = 10000\n",
    "\n",
    "for i in tqdm(range(N_REPETITIONS)):\n",
    "\n",
    "    # CREATE THE SAME-PL GROUP\n",
    "    # pick a random langauge\n",
    "    random_lang = np.random.choice(LANGUAGES)\n",
    "    #print(f\"Random language: {random_lang}\")\n",
    "    df_pl_group = df[df[\"source_code\"].str.endswith(random_lang)]\n",
    "    #print(f\"Number of tasks in the PL group: {len(df_pl_group)}\")\n",
    "    # pick a random subset of tasks\n",
    "    df_pl_group = df_pl_group.sample(n=N_TASKS_PER_GROUP, replace=True)\n",
    "\n",
    "    # CREATE THE RANDOM-PL GROUP\n",
    "    df_random_group = df.sample(n=N_TASKS_PER_GROUP, replace=True)\n",
    "\n",
    "    # COMPUTE THE DIFFERENCE BETWEEN THE AVERAGE OF TE TWO GROUPS\n",
    "    avg_pl_group = df_pl_group[\"correlation\"].mean()\n",
    "    avg_random_group = df_random_group[\"correlation\"].mean()\n",
    "    diff = avg_pl_group - avg_random_group\n",
    "\n",
    "    # STORE THE DIFFERENCE\n",
    "    records_diffs.append({\n",
    "        \"diff\": diff,\n",
    "        \"avg_pl_group\": avg_pl_group,\n",
    "        \"avg_random_group\": avg_random_group,\n",
    "        \"pl\": random_lang,\n",
    "        \"type\": 'pl'\n",
    "    })\n",
    "\n",
    "    # CREATE ANOTHER RANDOM-PL GROUP\n",
    "    df_random_group_bis = df.sample(n=N_TASKS_PER_GROUP, replace=True)\n",
    "    avg_random_group_bis = df_random_group_bis[\"correlation\"].mean()\n",
    "    records_diffs.append({\n",
    "        \"diff\": diff,\n",
    "        \"avg_random_group\": avg_random_group,\n",
    "        \"avg_random_group_bis\": avg_random_group_bis,\n",
    "        \"type\": 'random'\n",
    "    })\n",
    "\n",
    "df_results = pd.DataFrame.from_records(records_diffs)\n",
    "df_results_diff_pl = df_results[df_results[\"type\"] == 'pl']\n",
    "df_results_diff_random = df_results[df_results[\"type\"] == 'random']\n",
    "\n",
    "# PLOT THE DISTRIBUTION OF THE DIFFERENCES\n",
    "sns.histplot(\n",
    "    data=df_results_diff_pl,\n",
    "    x=\"diff\",\n",
    "    hue=\"pl\",\n",
    ")\n",
    "plt.xlim(-1, 1)"
   ]
  },
  {
   "cell_type": "code",
   "execution_count": 38,
   "metadata": {},
   "outputs": [
    {
     "data": {
      "image/png": "[encoded data removed]",
      "text/plain": [
       "<Figure size 1080x504 with 4 Axes>"
      ]
     },
     "metadata": {
      "needs_background": "light"
     },
     "output_type": "display_data"
    }
   ],
   "source": [
    "# PLOT THE DISTRIBUTION OF THE DIFFERENCES\n",
    "fig, axes = plt.subplots(4, 1, figsize=(15, 7))\n",
    "ax_pl = axes[0]\n",
    "ax_random = axes[1]\n",
    "ax_diff = axes[2]\n",
    "ax_diff_random_groups = axes[3]\n",
    "\n",
    "sns.histplot(\n",
    "    data=df_results_diff_pl,\n",
    "    x=\"avg_pl_group\",\n",
    "    hue=\"pl\",\n",
    "    binwidth=0.0005,\n",
    "    ax=ax_pl\n",
    ")\n",
    "ax_pl.set_xlim(0, 1)\n",
    "ax_pl.set_title(\"Average correlation in the PL group\")\n",
    "\n",
    "sns.histplot(\n",
    "    data=df_results_diff_pl,\n",
    "    x=\"avg_random_group\",\n",
    "    ax=ax_random,\n",
    "    color=\"red\"\n",
    ")\n",
    "ax_random.set_xlim(0, 1)\n",
    "ax_random.set_title(\"Average correlation in the random group\")\n",
    "\n",
    "sns.histplot(\n",
    "    data=df_results_diff_pl,\n",
    "    x=\"diff\",\n",
    "    hue=\"pl\",\n",
    "    ax=ax_diff,\n",
    ")\n",
    "ax_diff.set_xlim(-1, 1)\n",
    "ax_diff.set_title(\"Distribution of the difference between a PL group and a random group\")\n",
    "\n",
    "sns.histplot(\n",
    "    data=df_results_diff_random,\n",
    "    x=\"diff\",\n",
    "    ax=ax_diff_random_groups,\n",
    "    color=\"red\"\n",
    ")\n",
    "ax_diff_random_groups.set_xlim(-1, 1)\n",
    "ax_diff.set_title(\"Distribution of the difference between two random groups\")\n",
    "\n",
    "plt.tight_layout()"
   ]
  },
  {
   "cell_type": "code",
   "execution_count": 35,
   "metadata": {},
   "outputs": [
    {
     "name": "stdout",
     "output_type": "stream",
     "text": [
      "================================================================================\n",
      "Testing avg correaltion of .py vs .cpp groups\n",
      "stat=-62.630, p=0.000\n",
      "Probably different distributions\n",
      "================================================================================\n",
      "Testing avg correaltion of .py vs .cs groups\n",
      "stat=-464.599, p=0.000\n",
      "Probably different distributions\n",
      "================================================================================\n",
      "Testing avg correaltion of .cpp vs .cs groups\n",
      "stat=-372.287, p=0.000\n",
      "Probably different distributions\n"
     ]
    }
   ],
   "source": [
    "# Check if the mean of each PL group is significantly different from the mean of the random group\n",
    "\n",
    "from scipy.stats import ttest_ind\n",
    "\n",
    "def test_mean(data_1, data_2):\n",
    "    \"\"\"Run the t-test to see if the two means are significantly different.\"\"\"\n",
    "    stat, p = ttest_ind(data_1, data_2)\n",
    "    print('stat=%.3f, p=%.3f' % (stat, p))\n",
    "    if p > 0.05:\n",
    "        print('Probably the same distribution')\n",
    "    else:\n",
    "        print('Probably different distributions')\n",
    "\n",
    "PAIRS = [\n",
    "    ['.py', '.cpp'],\n",
    "    ['.py', '.cs'],\n",
    "    ['.cpp', '.cs'],\n",
    "]\n",
    "\n",
    "for pair in PAIRS:\n",
    "    pl_1, pl_2 = pair\n",
    "    print(\"=\" * 80)\n",
    "    print(f\"Testing avg correaltion of {pl_1} vs {pl_2} groups\")\n",
    "    data_1 = df_results_diff_pl[df_results_diff_pl[\"pl\"] == pl_1][\"avg_pl_group\"]\n",
    "    data_2 = df_results_diff_pl[df_results_diff_pl[\"pl\"] == pl_2][\"avg_pl_group\"]\n",
    "    test_mean(data_1, data_2)\n"
   ]
  },
  {
   "cell_type": "code",
   "execution_count": null,
   "metadata": {},
   "outputs": [],
   "source": []
  }
 ],
 "metadata": {
  "kernelspec": {
   "display_name": "Python 3.8.9 ('venv': venv)",
   "language": "python",
   "name": "python3"
  },
  "language_info": {
   "codemirror_mode": {
    "name": "ipython",
    "version": 3
   },
   "file_extension": ".py",
   "mimetype": "text/x-python",
   "name": "python",
   "nbconvert_exporter": "python",
   "pygments_lexer": "ipython3",
   "version": "3.8.9 (default, Sep 16 2021, 22:28:44) \n[GCC 9.3.0]"
  },
  "orig_nbformat": 4,
  "vscode": {
   "interpreter": {
    "hash": "cdbdd4cf7f5282af921e9e9f8e89536c1a615a288e4742df81a89abd7b1a94fe"
   }
  }
 },
 "nbformat": 4,
 "nbformat_minor": 2
}
