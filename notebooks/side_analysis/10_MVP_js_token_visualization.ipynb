{
 "cells": [
  {
   "cell_type": "code",
   "execution_count": 1,
   "id": "188af27e",
   "metadata": {},
   "outputs": [],
   "source": [
    "import numpy as np"
   ]
  },
  {
   "cell_type": "code",
   "execution_count": 3,
   "id": "ee102e46",
   "metadata": {},
   "outputs": [
    {
     "data": {
      "text/html": [
       "\n",
       "    <h1>Heading<h1/>\n"
      ],
      "text/plain": [
       "<IPython.core.display.HTML object>"
      ]
     },
     "execution_count": 3,
     "metadata": {},
     "output_type": "execute_result"
    }
   ],
   "source": [
    "import IPython\n",
    "IPython.display.HTML(\"\"\"\n",
    "    <h1>Heading<h1/>\n",
    "\"\"\")"
   ]
  },
  {
   "cell_type": "code",
   "execution_count": null,
   "id": "1dff9710",
   "metadata": {},
   "outputs": [],
   "source": [
    "# write a button handler in javascript\n"
   ]
  },
  {
   "cell_type": "code",
   "execution_count": 4,
   "id": "47817d9d",
   "metadata": {},
   "outputs": [],
   "source": [
    "tokens = [\n",
    "        {'t': 'd', 'i': 0, 'l': 1, 'c': 0},\n",
    "        {'t': 'e', 'i': 1, 'l': 1, 'c': 1},\n",
    "        {'t': 'f', 'i': 2, 'l': 1, 'c': 2},\n",
    "]"
   ]
  },
  {
   "cell_type": "code",
   "execution_count": null,
   "id": "e3da6e80",
   "metadata": {},
   "outputs": [],
   "source": [
    "HTML_CODE = \"\"\"<html><body>\n",
    "<style>\n",
    "body {background-color: powderblue;}\n",
    "h1   {color: blue;}\n",
    "p    {color: red;}\n",
    "</style>\n",
    "\n",
    "\"\"\"\n",
    "for i, token in"
   ]
  }
 ],
 "metadata": {
  "kernelspec": {
   "display_name": "Python 3 (ipykernel)",
   "language": "python",
   "name": "python3"
  },
  "language_info": {
   "codemirror_mode": {
    "name": "ipython",
    "version": 3
   },
   "file_extension": ".py",
   "mimetype": "text/x-python",
   "name": "python",
   "nbconvert_exporter": "python",
   "pygments_lexer": "ipython3",
   "version": "3.8.9"
  }
 },
 "nbformat": 4,
 "nbformat_minor": 5
}
