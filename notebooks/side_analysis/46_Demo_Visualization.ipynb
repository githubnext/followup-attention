{
 "cells": [
  {
   "attachments": {},
   "cell_type": "markdown",
   "metadata": {},
   "source": [
    "**Goal**: Demo of the plots generated with a the demo experiment:\n",
    "- CodeGen-350M-mono\n",
    "- only one question (`hannoy_Q1.py`)\n",
    "- only five post processing (`followup`, `naive max`, `naive max mean of followers`, `raw att first layer`, `raw att last layer`)\n",
    "- five comparisons:\n",
    "    - one for the visual attention (`naive max mean of followers`)\n",
    "    - four for the interaction matrix (rest)"
   ]
  },
  {
   "cell_type": "code",
   "execution_count": 1,
   "metadata": {},
   "outputs": [],
   "source": [
    "import project_path\n",
    "import os\n",
    "import numpy as np\n",
    "import json\n",
    "from tqdm import tqdm\n",
    "from typing import List, Dict, Any, Union, Tuple\n",
    "import seaborn as sns\n",
    "import matplotlib.pyplot as plt\n",
    "import torch\n",
    "import pandas as pd\n",
    "import re\n",
    "\n",
    "from attwizard.decoder import get_attention_representation\n",
    "from attwizard.aligner import map_to_char_level\n",
    "from attwizard.aligner import tokenize_char_level\n",
    "\n",
    "from codeattention.source_code import SourceCode\n",
    "\n",
    "from scipy.stats import spearmanr\n",
    "from scipy.stats import kstest\n",
    "from scipy.spatial.distance import jensenshannon\n",
    "\n",
    "from attwizard.script.utils import read_data_in_parallel\n",
    "from attwizard.script.utils import load_json_file\n",
    "\n",
    "# EDA\n",
    "from attwizard.visualizer.eda import visualize_corr_vs\n",
    "from attwizard.visualizer.eda import visualize_code_heatmap_codegen\n",
    "from attwizard.visualizer.eda import plot_histogram_in_parallel\n",
    "\n",
    "from pandarallel import pandarallel\n",
    "from attwizard.visualizer.eda import plot_100_perc_stacked_bar"
   ]
  },
  {
   "cell_type": "code",
   "execution_count": 2,
   "metadata": {},
   "outputs": [],
   "source": [
    "%load_ext autoreload\n",
    "%autoreload 2"
   ]
  },
  {
   "attachments": {},
   "cell_type": "markdown",
   "metadata": {},
   "source": [
    "# old"
   ]
  },
  {
   "cell_type": "code",
   "execution_count": 2,
   "metadata": {},
   "outputs": [
    {
     "name": "stdout",
     "output_type": "stream",
     "text": [
      "Files in the current directory: ['python', 'csharp', 'cpp']\n",
      "Files in the reference directory: ['hannoi_Q2.cs', 'triangle_Q1.cpp', 'tree_Q1.py', 'Nqueens_Q3.cs', 'tree_Q1.cpp', 'Nqueens_Q1.py', 'hannoi_Q3.py', 'triangle_Q3.py', 'multithread_Q2.cpp', 'triangle_Q2.py', 'triangle_Q1.py', 'multithread_Q1.py', 'Nqueens_Q2.py', 'tree_Q2.py', 'Nqueens_Q2.cs', 'tree_Q3.cs', 'multithread_Q1.cpp', 'tree_Q2.cs', 'multithread_Q2.py', 'Nqueens_Q3.cpp', 'tree_Q1.cs', 'triangle_Q3.cs', 'triangle_Q1.cs', 'Nqueens_Q2.cpp', 'tree_Q3.cpp', 'Nqueens_Q1.cpp', 'multithread_Q2.cs', 'multithread_Q3.py', 'hannoi_Q3.cs', 'hannoi_Q2.py', 'multithread_Q3.cpp', 'hannoi_Q3.cpp', 'triangle_Q2.cs', 'tree_Q2.cpp', 'multithread_Q3.cs', 'hannoi_Q2.cpp', 'triangle_Q2.cpp', 'Nqueens_Q1.cs', 'triangle_Q3.cpp', 'multithread_Q1.cs', 'hannoi_Q1.cs', 'hannoi_Q1.cpp', 'tree_Q3.py', 'Nqueens_Q3.py', 'hannoi_Q1.py']\n",
      "Files to compare: []\n"
     ]
    },
    {
     "ename": "AssertionError",
     "evalue": "Not all files in the current directory are in the reference directory",
     "output_type": "error",
     "traceback": [
      "\u001b[0;31m---------------------------------------------------------------------------\u001b[0m",
      "\u001b[0;31mAssertionError\u001b[0m                            Traceback (most recent call last)",
      "\u001b[1;32m/home/eaftan/copilot-attention/notebooks/46_Demo_Visualization.ipynb Cell 2\u001b[0m in \u001b[0;36m<cell line: 18>\u001b[0;34m()\u001b[0m\n\u001b[1;32m     <a href='vscode-notebook-cell://ssh-remote%2Bgpt-j-3/home/eaftan/copilot-attention/notebooks/46_Demo_Visualization.ipynb#W2sdnNjb2RlLXJlbW90ZQ%3D%3D?line=15'>16</a>\u001b[0m files_to_compare \u001b[39m=\u001b[39m [f \u001b[39mfor\u001b[39;00m f \u001b[39min\u001b[39;00m files_current \u001b[39mif\u001b[39;00m f \u001b[39min\u001b[39;00m files_reference]\n\u001b[1;32m     <a href='vscode-notebook-cell://ssh-remote%2Bgpt-j-3/home/eaftan/copilot-attention/notebooks/46_Demo_Visualization.ipynb#W2sdnNjb2RlLXJlbW90ZQ%3D%3D?line=16'>17</a>\u001b[0m \u001b[39mprint\u001b[39m(\u001b[39mf\u001b[39m\u001b[39m\"\u001b[39m\u001b[39mFiles to compare: \u001b[39m\u001b[39m{\u001b[39;00mfiles_to_compare\u001b[39m}\u001b[39;00m\u001b[39m\"\u001b[39m)\n\u001b[0;32m---> <a href='vscode-notebook-cell://ssh-remote%2Bgpt-j-3/home/eaftan/copilot-attention/notebooks/46_Demo_Visualization.ipynb#W2sdnNjb2RlLXJlbW90ZQ%3D%3D?line=17'>18</a>\u001b[0m \u001b[39massert\u001b[39;00m \u001b[39mlen\u001b[39m(files_to_compare) \u001b[39m==\u001b[39m \u001b[39mlen\u001b[39m(files_current), \u001b[39m'\u001b[39m\u001b[39mNot all files in the current directory are in the reference directory\u001b[39m\u001b[39m'\u001b[39m\n\u001b[1;32m     <a href='vscode-notebook-cell://ssh-remote%2Bgpt-j-3/home/eaftan/copilot-attention/notebooks/46_Demo_Visualization.ipynb#W2sdnNjb2RlLXJlbW90ZQ%3D%3D?line=19'>20</a>\u001b[0m \u001b[39m# the files are source code, thus textual files\u001b[39;00m\n\u001b[1;32m     <a href='vscode-notebook-cell://ssh-remote%2Bgpt-j-3/home/eaftan/copilot-attention/notebooks/46_Demo_Visualization.ipynb#W2sdnNjb2RlLXJlbW90ZQ%3D%3D?line=20'>21</a>\u001b[0m \u001b[39m# we can use the diff command to compare them\u001b[39;00m\n\u001b[1;32m     <a href='vscode-notebook-cell://ssh-remote%2Bgpt-j-3/home/eaftan/copilot-attention/notebooks/46_Demo_Visualization.ipynb#W2sdnNjb2RlLXJlbW90ZQ%3D%3D?line=21'>22</a>\u001b[0m \u001b[39mimport\u001b[39;00m \u001b[39mdifflib\u001b[39;00m\n",
      "\u001b[0;31mAssertionError\u001b[0m: Not all files in the current directory are in the reference directory"
     ]
    }
   ],
   "source": [
    "import os\n",
    "import glob\n",
    "\n",
    "DIR_CURRENT = '../data/eye_tracking_studies/batch_1'\n",
    "DIR_REFERENCE = '../data/prompts_collection/sensemaking'\n",
    "\n",
    "# compute how many files (and which) are in the current directory and their \n",
    "# content is different from the file (with the same name) in the reference\n",
    "# directory\n",
    "\n",
    "files_current = os.listdir(DIR_CURRENT)\n",
    "print(f\"Files in the current directory: {files_current}\")\n",
    "\n",
    "files_reference = os.listdir(DIR_REFERENCE)\n",
    "print(f\"Files in the reference directory: {files_reference}\")\n",
    "\n",
    "files_to_compare = [f for f in files_current if f in files_reference]\n",
    "print(f\"Files to compare: {files_to_compare}\")\n",
    "assert len(files_to_compare) == len(files_current), 'Not all files in the current directory are in the reference directory'\n",
    "\n",
    "# the files are source code, thus textual files\n",
    "# we can use the diff command to compare them\n",
    "import difflib\n",
    "\n",
    "for f in files_to_compare:\n",
    "    # check if they are the same in the two directories\n",
    "    content_current = open(os.path.join(DIR_CURRENT, f), 'r').readlines()\n",
    "    content_reference = open(os.path.join(DIR_REFERENCE, f), 'r').readlines()\n",
    "    diff = difflib.unified_diff(content_current, content_reference)\n",
    "    diff = list(diff)\n",
    "    if len(diff) > 0:\n",
    "        print(f\"File {f} is different\")\n",
    "        print(diff)\n"
   ]
  },
  {
   "cell_type": "code",
   "execution_count": null,
   "metadata": {},
   "outputs": [],
   "source": []
  }
 ],
 "metadata": {
  "kernelspec": {
   "display_name": "venv",
   "language": "python",
   "name": "python3"
  },
  "language_info": {
   "codemirror_mode": {
    "name": "ipython",
    "version": 3
   },
   "file_extension": ".py",
   "mimetype": "text/x-python",
   "name": "python",
   "nbconvert_exporter": "python",
   "pygments_lexer": "ipython3",
   "version": "3.8.9"
  },
  "orig_nbformat": 4
 },
 "nbformat": 4,
 "nbformat_minor": 2
}
