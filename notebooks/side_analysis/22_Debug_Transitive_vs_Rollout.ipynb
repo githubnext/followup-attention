{
 "cells": [
  {
   "cell_type": "code",
   "execution_count": 1,
   "metadata": {},
   "outputs": [],
   "source": [
    "import project_path\n",
    "import os\n",
    "import json\n",
    "import re\n",
    "import pathlib\n",
    "from multiprocessing import Pool\n",
    "import numpy as np\n",
    "from typing import Callable, List, Dict, Any\n",
    "from tqdm import tqdm\n",
    "import pandas as pd\n",
    "import seaborn as sns\n",
    "import matplotlib.pyplot as plt\n"
   ]
  },
  {
   "cell_type": "code",
   "execution_count": 2,
   "metadata": {},
   "outputs": [],
   "source": [
    "%load_ext autoreload\n",
    "%autoreload 2"
   ]
  },
  {
   "cell_type": "code",
   "execution_count": 19,
   "metadata": {},
   "outputs": [],
   "source": [
    "PATHS = {\n",
    "    #\"rollout\": \"../data/model_output/exp_v10/codegen/att_roll_layer_matrix/Nqueens_Q1.cpp_0_Salesforce_codegen-16B-multi.npy\",\n",
    "    # hannoi_Q2.cpp_2_Salesforce_codegen-16B-multi.npy\n",
    "    \"rollout\": \"../data/model_output/exp_v10/codegen/att_roll_layer_matrix/hannoi_Q2.cpp_2_Salesforce_codegen-16B-multi.npy\",\n",
    "\n",
    "    #\"transitive\": \"../data/model_output/exp_v10/codegen/att_trans_layer_matrix_left_50_50/Nqueens_Q1.cpp_0_Salesforce_codegen-16B-multi.npy\",\n",
    "    # hannoi_Q2.cpp_2_Salesforce_codegen-16B-multi.npy\n",
    "    \"transitive\": \"../data/model_output/exp_v10/codegen/att_trans_layer_matrix_left/hannoi_Q2.cpp_2_Salesforce_codegen-16B-multi.npy\"\n",
    "}"
   ]
  },
  {
   "cell_type": "code",
   "execution_count": 20,
   "metadata": {},
   "outputs": [],
   "source": [
    "MATRICES = {\n",
    "    k: np.load(v) for k, v in PATHS.items()\n",
    "}"
   ]
  },
  {
   "cell_type": "code",
   "execution_count": 21,
   "metadata": {},
   "outputs": [
    {
     "data": {
      "text/plain": [
       "False"
      ]
     },
     "execution_count": 21,
     "metadata": {},
     "output_type": "execute_result"
    }
   ],
   "source": [
    "a = MATRICES[\"rollout\"]\n",
    "b = MATRICES[\"transitive\"]\n",
    "np.allclose(a, b)"
   ]
  },
  {
   "cell_type": "code",
   "execution_count": 22,
   "metadata": {},
   "outputs": [
    {
     "data": {
      "text/plain": [
       "(34, 380, 380)"
      ]
     },
     "execution_count": 22,
     "metadata": {},
     "output_type": "execute_result"
    }
   ],
   "source": [
    "a.shape"
   ]
  },
  {
   "cell_type": "code",
   "execution_count": 23,
   "metadata": {},
   "outputs": [
    {
     "data": {
      "text/plain": [
       "(34, 380, 380)"
      ]
     },
     "execution_count": 23,
     "metadata": {},
     "output_type": "execute_result"
    }
   ],
   "source": [
    "b.shape"
   ]
  },
  {
   "cell_type": "code",
   "execution_count": 24,
   "metadata": {},
   "outputs": [
    {
     "data": {
      "text/plain": [
       "False"
      ]
     },
     "execution_count": 24,
     "metadata": {},
     "output_type": "execute_result"
    }
   ],
   "source": [
    "np.allclose(a[-1], b[-1])"
   ]
  },
  {
   "cell_type": "code",
   "execution_count": 25,
   "metadata": {},
   "outputs": [
    {
     "data": {
      "text/plain": [
       "array([[1.00000000e+00, 0.00000000e+00, 0.00000000e+00, 0.00000000e+00,\n",
       "        0.00000000e+00],\n",
       "       [9.99999990e-01, 8.63766430e-42, 0.00000000e+00, 0.00000000e+00,\n",
       "        0.00000000e+00],\n",
       "       [9.99999974e-01, 7.06509061e-41, 5.46642566e-54, 0.00000000e+00,\n",
       "        0.00000000e+00],\n",
       "       [9.99999989e-01, 3.04282921e-38, 2.72268635e-40, 3.22577244e-41,\n",
       "        0.00000000e+00],\n",
       "       [9.99999927e-01, 1.89907754e-35, 7.80412707e-37, 1.19379603e-37,\n",
       "        1.16695021e-38]])"
      ]
     },
     "execution_count": 25,
     "metadata": {},
     "output_type": "execute_result"
    }
   ],
   "source": [
    "a[-1][:5, :5]"
   ]
  },
  {
   "cell_type": "code",
   "execution_count": 26,
   "metadata": {},
   "outputs": [
    {
     "data": {
      "text/plain": [
       "array([[3.9511625e+37, 0.0000000e+00, 0.0000000e+00, 0.0000000e+00,\n",
       "        0.0000000e+00],\n",
       "       [3.9511622e+37, 1.3380342e+04, 0.0000000e+00, 0.0000000e+00,\n",
       "        0.0000000e+00],\n",
       "       [3.9511625e+37, 6.5153156e+04, 4.5771151e+00, 0.0000000e+00,\n",
       "        0.0000000e+00],\n",
       "       [3.9511627e+37, 3.2311978e+06, 9.5773664e+04, 2.0191324e+04,\n",
       "        0.0000000e+00],\n",
       "       [3.9511620e+37, 2.3063386e+08, 1.6917076e+07, 4.2295890e+06,\n",
       "        6.1862412e+05]], dtype=float32)"
      ]
     },
     "execution_count": 26,
     "metadata": {},
     "output_type": "execute_result"
    }
   ],
   "source": [
    "b[-1][:5, :5]"
   ]
  },
  {
   "cell_type": "code",
   "execution_count": 27,
   "metadata": {},
   "outputs": [],
   "source": [
    "from attwizard.analysis_pass.transformation_functions import normalize_both_matrices_by_line"
   ]
  },
  {
   "cell_type": "code",
   "execution_count": 28,
   "metadata": {},
   "outputs": [
    {
     "name": "stderr",
     "output_type": "stream",
     "text": [
      "/home/eaftan/copilot-attention/venv/lib/python3.8/site-packages/numpy/core/_methods.py:48: RuntimeWarning: overflow encountered in reduce\n",
      "  return umr_sum(a, axis, dtype, out, keepdims, initial, where)\n"
     ]
    }
   ],
   "source": [
    "a2, b2 = normalize_both_matrices_by_line(a, b, None, None)"
   ]
  },
  {
   "cell_type": "code",
   "execution_count": 29,
   "metadata": {},
   "outputs": [
    {
     "data": {
      "text/plain": [
       "array([[2.63157894e-03, 0.00000000e+00, 0.00000000e+00, 0.00000000e+00,\n",
       "        0.00000000e+00],\n",
       "       [2.63157892e-03, 5.78185950e-30, 0.00000000e+00, 0.00000000e+00,\n",
       "        0.00000000e+00],\n",
       "       [2.63157887e-03, 4.72921381e-29, 4.50526143e-42, 0.00000000e+00,\n",
       "        0.00000000e+00],\n",
       "       [2.63157891e-03, 2.03680189e-26, 2.24395511e-28, 2.61737738e-29,\n",
       "        0.00000000e+00],\n",
       "       [2.63157875e-03, 1.27120008e-23, 6.43192369e-25, 9.68640777e-26,\n",
       "        9.27731150e-27]])"
      ]
     },
     "execution_count": 29,
     "metadata": {},
     "output_type": "execute_result"
    }
   ],
   "source": [
    "a2[-1][:5, :5]"
   ]
  },
  {
   "cell_type": "code",
   "execution_count": 30,
   "metadata": {},
   "outputs": [
    {
     "data": {
      "text/plain": [
       "array([[1.16114236e-01, 0.00000000e+00, 0.00000000e+00, 0.00000000e+00,\n",
       "        0.00000000e+00],\n",
       "       [1.16114229e-01, 1.96371114e-23, 0.00000000e+00, 0.00000000e+00,\n",
       "        0.00000000e+00],\n",
       "       [1.16114236e-01, 9.56193639e-23, 8.26275638e-27, 0.00000000e+00,\n",
       "        0.00000000e+00],\n",
       "       [1.16114244e-01, 4.74213517e-21, 1.72893723e-22, 3.57029674e-23,\n",
       "        0.00000000e+00],\n",
       "       [1.16114222e-01, 3.38480342e-19, 3.05392530e-20, 7.47889939e-21,\n",
       "        1.06240222e-21]], dtype=float32)"
      ]
     },
     "execution_count": 30,
     "metadata": {},
     "output_type": "execute_result"
    }
   ],
   "source": [
    "b2[-1][:5, :5]"
   ]
  },
  {
   "cell_type": "code",
   "execution_count": 80,
   "metadata": {},
   "outputs": [],
   "source": [
    "def normalize_machine_by_number_of_followers(a, b):\n",
    "    \"\"\"Normalize the columns times number of followers.\n",
    "    \n",
    "    This gives less weights to the columns with a lot of followers (e.g. the \n",
    "    first token).\n",
    "    \"\"\"\n",
    "    assert len(a.shape) == 2, \"machine data must be a matrix\"\n",
    "    n_tokens = a.shape[0]\n",
    "    normalizing_vector = np.arange(n_tokens, 0, step=-1)\n",
    "    # create a vector of squares\n",
    "    #normalizing_vector = normalizing_vector ** 3\n",
    "    normalizing_vector = np.broadcast_arrays(normalizing_vector, np.zeros((n_tokens, n_tokens)))[0]\n",
    "    a = a / normalizing_vector\n",
    "    return a, b"
   ]
  },
  {
   "cell_type": "code",
   "execution_count": 87,
   "metadata": {},
   "outputs": [
    {
     "name": "stderr",
     "output_type": "stream",
     "text": [
      "/tmp/ipykernel_957914/446228740.py:7: RuntimeWarning: divide by zero encountered in log\n",
      "  matrix = np.log(matrix)\n"
     ]
    },
    {
     "data": {
      "image/png": "[encoded data removed]",
      "text/plain": [
       "<Figure size 720x360 with 4 Axes>"
      ]
     },
     "metadata": {
      "needs_background": "light"
     },
     "output_type": "display_data"
    }
   ],
   "source": [
    "fig, axes = plt.subplots(1, 2, figsize=(10, 5))\n",
    "\n",
    "i = 0\n",
    "for m, title in zip([a, b], [\"rollout\", \"transitive\"]):\n",
    "    matrix = m[-1]\n",
    "    matrix = normalize_machine_by_number_of_followers(matrix, None)[0]\n",
    "    matrix = np.log(matrix)\n",
    "    # clip all the negative values\n",
    "    matrix[matrix < 0] = 0\n",
    "    sns.heatmap(\n",
    "        data=matrix, \n",
    "        cmap=\"Reds\",\n",
    "        ax=axes[i],\n",
    "    )\n",
    "    axes[i].set_title(title)\n",
    "    i += 1\n",
    "\n"
   ]
  },
  {
   "cell_type": "code",
   "execution_count": 96,
   "metadata": {},
   "outputs": [
    {
     "data": {
      "text/plain": [
       "(0.0, 1.0)"
      ]
     },
     "execution_count": 96,
     "metadata": {},
     "output_type": "execute_result"
    },
    {
     "data": {
      "image/png": "[encoded data removed]",
      "text/plain": [
       "<Figure size 432x288 with 1 Axes>"
      ]
     },
     "metadata": {
      "needs_background": "light"
     },
     "output_type": "display_data"
    }
   ],
   "source": [
    "N_SEC = 10\n",
    "# plot exponential decay function\n",
    "x = np.arange(0, N_SEC, 0.01)\n",
    "y = np.exp(-x)\n",
    "plt.plot(x, y)\n",
    "plt.xlim(0, N_SEC)\n",
    "plt.ylim(0, 1)"
   ]
  },
  {
   "cell_type": "code",
   "execution_count": 13,
   "metadata": {},
   "outputs": [
    {
     "data": {
      "text/plain": [
       "Text(0.5, 0, 'Time (sec.)')"
      ]
     },
     "execution_count": 13,
     "metadata": {},
     "output_type": "execute_result"
    },
    {
     "data": {
      "image/png": "[encoded data removed]",
      "text/plain": [
       "<Figure size 360x144 with 1 Axes>"
      ]
     },
     "metadata": {
      "needs_background": "light"
     },
     "output_type": "display_data"
    }
   ],
   "source": [
    "N_SEC = 10\n",
    "# plot exponential decay function\n",
    "t_i = 1\n",
    "t_i_end = 3\n",
    "t_j = 7.5\n",
    "t_j_end = 9\n",
    "x = np.arange(0, t_i_end + N_SEC, 0.01)\n",
    "y = np.exp(-0.1*(x - t_i_end))\n",
    "\n",
    "fix, ax = plt.subplots(figsize=(5, 2))\n",
    "# draw all the vertical lines\n",
    "ax.axvline(x=t_i, color=\"r\", linestyle=\"--\")\n",
    "ax.axvline(x=t_i_end, color=\"r\", linestyle=\"--\")\n",
    "ax.axvline(x=t_j, color=\"r\", linestyle=\"--\")\n",
    "ax.axvline(x=t_j_end, color=\"r\", linestyle=\"--\")\n",
    "ax.text(t_i + 0.25, 0.5, \"$\\mathregular{t_i}$\")\n",
    "ax.text(t_i_end + 0.25, 0.25, \"$\\mathregular{t_i + d_i}$\")\n",
    "ax.text(t_j + 0.25, 0.5, \"$\\mathregular{t_j}$\")\n",
    "ax.text(t_j_end + 0.25, 0.25, \"$\\mathregular{t_j + d_j}$\")\n",
    "\n",
    "ax.plot(x, y)\n",
    "# fill the plot between the last two vertical lines\n",
    "ax.fill_between(x, y, 0, where=(x > t_j) & (x < t_j_end), color=\"yellow\", alpha=0.5)\n",
    "ax.set_xlim(0, t_i_end + N_SEC)\n",
    "ax.set_ylim(0, 1)\n",
    "ax.set_ylabel(\"Weight\")\n",
    "ax.set_xlabel(\"Time (sec.)\")"
   ]
  },
  {
   "cell_type": "code",
   "execution_count": null,
   "metadata": {},
   "outputs": [],
   "source": []
  }
 ],
 "metadata": {
  "kernelspec": {
   "display_name": "Python 3.8.9 ('venv': venv)",
   "language": "python",
   "name": "python3"
  },
  "language_info": {
   "codemirror_mode": {
    "name": "ipython",
    "version": 3
   },
   "file_extension": ".py",
   "mimetype": "text/x-python",
   "name": "python",
   "nbconvert_exporter": "python",
   "pygments_lexer": "ipython3",
   "version": "3.8.9"
  },
  "orig_nbformat": 4,
  "vscode": {
   "interpreter": {
    "hash": "cdbdd4cf7f5282af921e9e9f8e89536c1a615a288e4742df81a89abd7b1a94fe"
   }
  }
 },
 "nbformat": 4,
 "nbformat_minor": 2
}
