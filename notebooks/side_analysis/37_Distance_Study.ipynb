{
 "cells": [
  {
   "cell_type": "code",
   "execution_count": 1,
   "metadata": {},
   "outputs": [],
   "source": [
    "import project_path\n",
    "import os\n",
    "import numpy as np\n",
    "import json\n",
    "from tqdm import tqdm\n",
    "from typing import List, Dict, Any, Union, Tuple\n",
    "import seaborn as sns\n",
    "import matplotlib.pyplot as plt\n",
    "import torch\n",
    "import pandas as pd\n",
    "\n",
    "from attwizard.decoder import get_attention_representation\n",
    "from attwizard.aligner import map_to_char_level\n",
    "from attwizard.aligner import tokenize_char_level\n",
    "\n",
    "from codeattention.source_code import SourceCode\n",
    "\n",
    "from scipy.stats import spearmanr\n",
    "from scipy.stats import kstest\n",
    "from scipy.spatial.distance import jensenshannon\n",
    "\n",
    "from attwizard.script.utils import read_data_in_parallel\n",
    "from attwizard.script.utils import load_json_file\n",
    "\n",
    "# EDA\n",
    "from attwizard.visualizer.eda import visualize_corr_vs\n",
    "from attwizard.visualizer.eda import visualize_code_heatmap_codegen\n",
    "from attwizard.visualizer.eda import plot_histogram_in_parallel"
   ]
  },
  {
   "cell_type": "markdown",
   "metadata": {},
   "source": [
    "# Goal\n",
    "Here we study how distant are the prediction of the next token of the followup and of the gaussian. \n",
    "But first we consider the ground tuth."
   ]
  },
  {
   "cell_type": "code",
   "execution_count": 2,
   "metadata": {},
   "outputs": [],
   "source": [
    "%load_ext autoreload\n",
    "%autoreload 2"
   ]
  },
  {
   "cell_type": "code",
   "execution_count": 3,
   "metadata": {},
   "outputs": [],
   "source": [
    "COMPARISON_FOLDER_CODEGEN = \"cmp_v05\"\n",
    "COMPARISON_FOLDER_GPTJ = \"cmp_v05_gptj\"\n",
    "OUT_PAPER_FOLDER = \"../data/paper_figures\""
   ]
  },
  {
   "cell_type": "code",
   "execution_count": 68,
   "metadata": {},
   "outputs": [],
   "source": [
    "# How far are the top 3 next positions in our ground truth?"
   ]
  },
  {
   "cell_type": "code",
   "execution_count": 69,
   "metadata": {},
   "outputs": [
    {
     "name": "stdout",
     "output_type": "stream",
     "text": [
      "n of data read:  92\n"
     ]
    }
   ],
   "source": [
    "#ground_truth_folder = \"../data/eye_tracking_attention/eye_v10/decay_0.1/data_followup_tokens_tokens_model/\"\n",
    "ground_truth_folder = \"../data/eye_tracking_attention/eye_v10/decay_0.1_Salesforce_codegen-16B-multi/data_followup_tokens_tokens_model\"\n",
    "#ground_truth_folder = \"../data/eye_tracking_attention/eye_v10/decay_0.1_EleutherAI_gpt-j-6B/data_followup_tokens_tokens_model\"\n",
    "ground_truth_matrices = read_data_in_parallel(\n",
    "    base_folder=ground_truth_folder, \n",
    "    file_type_extension=\".npy\",\n",
    "    read_function=np.load,)\n"
   ]
  },
  {
   "cell_type": "code",
   "execution_count": null,
   "metadata": {},
   "outputs": [],
   "source": [
    "\n",
    "# read metadata\n",
    "all_tokenization_codegen = read_data_in_parallel(\n",
    "    base_folder='../data/eye_tracking_attention/eye_v10/att_weights_Salesforce_codegen-16B-multi/metadata',\n",
    "    #base_folder='../data/eye_tracking_attention/eye_v10/decay_0.1_EleutherAI_gpt-j-6B/data_followup_tokens_tokens_model/metadata',\n",
    "    file_type_extension='.json',\n",
    "    read_function=load_json_file,\n",
    ")\n",
    "# read metadata\n",
    "all_human_metadata = read_data_in_parallel(\n",
    "    base_folder='../data/eye_tracking_attention/eye_v10/metadata',\n",
    "    file_type_extension='.json',\n",
    "    read_function=load_json_file,\n",
    ")"
   ]
  },
  {
   "cell_type": "code",
   "execution_count": 14,
   "metadata": {},
   "outputs": [
    {
     "name": "stdout",
     "output_type": "stream",
     "text": [
      "n of data read:  135\n"
     ]
    }
   ],
   "source": [
    "# read data\n",
    "gauss_matrices = read_data_in_parallel(\n",
    "    base_folder='../data/model_output/exp_v10/codegen/att_gaussian_neighbors_10',\n",
    "    file_type_extension='.npy',\n",
    "    read_function=np.load,\n",
    ")"
   ]
  },
  {
   "cell_type": "code",
   "execution_count": 15,
   "metadata": {},
   "outputs": [
    {
     "name": "stdout",
     "output_type": "stream",
     "text": [
      "n of data read:  135\n"
     ]
    }
   ],
   "source": [
    "# followup matrices \n",
    "followup_matrices = read_data_in_parallel(\n",
    "    base_folder='../data/model_output/exp_v10/codegen/followup_first_layer',\n",
    "    file_type_extension='.npy',\n",
    "    read_function=np.load,\n",
    ")"
   ]
  },
  {
   "cell_type": "code",
   "execution_count": 16,
   "metadata": {},
   "outputs": [
    {
     "data": {
      "text/plain": [
       "dict_keys(['user_name', 'task_number', 'source_code', 'tokenization', 'raw_text'])"
      ]
     },
     "execution_count": 16,
     "metadata": {},
     "output_type": "execute_result"
    }
   ],
   "source": [
    "all_human_metadata['0480e5'].keys()"
   ]
  },
  {
   "cell_type": "code",
   "execution_count": 70,
   "metadata": {},
   "outputs": [
    {
     "name": "stdout",
     "output_type": "stream",
     "text": [
      "tree_Q2.py_0_Salesforce_codegen-16B-multi\n",
      "Human: (507, 507), Machine: (526, 526)\n",
      "0480e5: followup: 507 == tokens: 507\n",
      "triangle_Q3.py_0_Salesforce_codegen-16B-multi\n",
      "Human: (518, 518), Machine: (617, 617)\n",
      "08147e: followup: 518 == tokens: 518\n",
      "triangle_Q3.cpp_0_Salesforce_codegen-16B-multi\n",
      "Human: (692, 692), Machine: (789, 789)\n",
      "09601c: followup: 692 == tokens: 692\n",
      "hannoi_Q2.py_0_Salesforce_codegen-16B-multi\n",
      "Human: (216, 216), Machine: (315, 315)\n",
      "0d7601: followup: 216 == tokens: 216\n",
      "multithread_Q2.py_0_Salesforce_codegen-16B-multi\n",
      "Human: (756, 756), Machine: (786, 786)\n",
      "1181b7: followup: 756 == tokens: 756\n",
      "hannoi_Q1.cs_0_Salesforce_codegen-16B-multi\n",
      "Human: (292, 292), Machine: (323, 323)\n",
      "155d45: followup: 292 == tokens: 292\n",
      "multithread_Q1.py_0_Salesforce_codegen-16B-multi\n",
      "Human: (768, 768), Machine: (866, 866)\n",
      "161f21: followup: 768 == tokens: 768\n",
      "hannoi_Q2.cpp_0_Salesforce_codegen-16B-multi\n",
      "Human: (283, 283), Machine: (380, 380)\n",
      "1d5b6a: followup: 283 == tokens: 283\n",
      "triangle_Q3.py_0_Salesforce_codegen-16B-multi\n",
      "Human: (518, 518), Machine: (617, 617)\n",
      "2babb5: followup: 518 == tokens: 518\n",
      "hannoi_Q1.cpp_0_Salesforce_codegen-16B-multi\n",
      "Human: (292, 292), Machine: (323, 323)\n",
      "300bd1: followup: 292 == tokens: 292\n",
      "tree_Q3.cpp_0_Salesforce_codegen-16B-multi\n",
      "Human: (611, 611), Machine: (708, 708)\n",
      "38606b: followup: 611 == tokens: 611\n",
      "triangle_Q1.cpp_0_Salesforce_codegen-16B-multi\n",
      "Human: (693, 693), Machine: (790, 790)\n",
      "3b0e57: followup: 693 == tokens: 693\n",
      "multithread_Q3.cs_0_Salesforce_codegen-16B-multi\n",
      "Human: (722, 722), Machine: (818, 818)\n",
      "3b39e2: followup: 722 == tokens: 722\n",
      "hannoi_Q2.py_0_Salesforce_codegen-16B-multi\n",
      "Human: (216, 216), Machine: (315, 315)\n",
      "3d9b54: followup: 216 == tokens: 216\n",
      "Nqueens_Q1.py_0_Salesforce_codegen-16B-multi\n",
      "Human: (450, 450), Machine: (456, 456)\n",
      "3e474f: followup: 450 == tokens: 450\n",
      "hannoi_Q2.cs_0_Salesforce_codegen-16B-multi\n",
      "Human: (283, 283), Machine: (380, 380)\n",
      "4022a9: followup: 283 == tokens: 283\n",
      "tree_Q2.cpp_0_Salesforce_codegen-16B-multi\n",
      "Human: (599, 599), Machine: (696, 696)\n",
      "403482: followup: 599 == tokens: 599\n",
      "tree_Q2.cs_0_Salesforce_codegen-16B-multi\n",
      "Human: (611, 611), Machine: (708, 708)\n",
      "43e18c: followup: 611 == tokens: 611\n",
      "tree_Q3.cpp_0_Salesforce_codegen-16B-multi\n",
      "Human: (611, 611), Machine: (708, 708)\n",
      "448383: followup: 611 == tokens: 611\n",
      "hannoi_Q1.cs_0_Salesforce_codegen-16B-multi\n",
      "Human: (292, 292), Machine: (323, 323)\n",
      "44d4f6: followup: 292 == tokens: 292\n",
      "triangle_Q1.py_0_Salesforce_codegen-16B-multi\n",
      "Human: (519, 519), Machine: (618, 618)\n",
      "44e060: followup: 519 == tokens: 519\n",
      "multithread_Q2.py_0_Salesforce_codegen-16B-multi\n",
      "Human: (756, 756), Machine: (786, 786)\n",
      "4a262b: followup: 756 == tokens: 756\n",
      "tree_Q1.cs_0_Salesforce_codegen-16B-multi\n",
      "Human: (622, 622), Machine: (624, 624)\n",
      "4a5896: followup: 622 == tokens: 622\n",
      "multithread_Q2.py_0_Salesforce_codegen-16B-multi\n",
      "Human: (756, 756), Machine: (786, 786)\n",
      "4c260d: followup: 756 == tokens: 756\n",
      "tree_Q1.py_0_Salesforce_codegen-16B-multi\n",
      "Human: (518, 518), Machine: (527, 527)\n",
      "500208: followup: 518 == tokens: 518\n",
      "hannoi_Q1.py_0_Salesforce_codegen-16B-multi\n",
      "Human: (226, 226), Machine: (324, 324)\n",
      "5403f5: followup: 226 == tokens: 226\n",
      "triangle_Q1.cs_0_Salesforce_codegen-16B-multi\n",
      "Human: (721, 721), Machine: (818, 818)\n",
      "545804: followup: 721 == tokens: 721\n",
      "hannoi_Q2.cs_0_Salesforce_codegen-16B-multi\n",
      "Human: (283, 283), Machine: (380, 380)\n",
      "548472: followup: 283 == tokens: 283\n",
      "Nqueens_Q3.cs_0_Salesforce_codegen-16B-multi\n",
      "Human: (635, 635), Machine: (732, 732)\n",
      "56f44e: followup: 635 == tokens: 635\n",
      "tree_Q2.py_0_Salesforce_codegen-16B-multi\n",
      "Human: (507, 507), Machine: (526, 526)\n",
      "5a70af: followup: 507 == tokens: 507\n",
      "triangle_Q2.cs_0_Salesforce_codegen-16B-multi\n",
      "Human: (725, 725), Machine: (785, 785)\n",
      "5bf279: followup: 725 == tokens: 725\n",
      "multithread_Q1.cs_0_Salesforce_codegen-16B-multi\n",
      "Human: (730, 730), Machine: (784, 784)\n",
      "639da1: followup: 730 == tokens: 730\n",
      "triangle_Q3.cs_0_Salesforce_codegen-16B-multi\n",
      "Human: (720, 720), Machine: (817, 817)\n",
      "653139: followup: 720 == tokens: 720\n",
      "hannoi_Q3.cs_0_Salesforce_codegen-16B-multi\n",
      "Human: (307, 307), Machine: (403, 403)\n",
      "6695fa: followup: 307 == tokens: 307\n",
      "triangle_Q1.py_0_Salesforce_codegen-16B-multi\n",
      "Human: (519, 519), Machine: (618, 618)\n",
      "675fc1: followup: 519 == tokens: 519\n",
      "triangle_Q3.cs_0_Salesforce_codegen-16B-multi\n",
      "Human: (720, 720), Machine: (817, 817)\n",
      "6831ef: followup: 720 == tokens: 720\n",
      "triangle_Q1.cpp_0_Salesforce_codegen-16B-multi\n",
      "Human: (693, 693), Machine: (790, 790)\n",
      "7740fd: followup: 693 == tokens: 693\n",
      "triangle_Q2.cs_0_Salesforce_codegen-16B-multi\n",
      "Human: (725, 725), Machine: (785, 785)\n",
      "7a600a: followup: 725 == tokens: 725\n",
      "tree_Q1.py_0_Salesforce_codegen-16B-multi\n",
      "Human: (518, 518), Machine: (527, 527)\n",
      "81a0b9: followup: 518 == tokens: 518\n",
      "multithread_Q1.cs_0_Salesforce_codegen-16B-multi\n",
      "Human: (730, 730), Machine: (784, 784)\n",
      "842f7a: followup: 730 == tokens: 730\n",
      "Nqueens_Q1.cs_0_Salesforce_codegen-16B-multi\n",
      "Human: (624, 624), Machine: (632, 632)\n",
      "88a0ee: followup: 624 == tokens: 624\n",
      "triangle_Q3.py_0_Salesforce_codegen-16B-multi\n",
      "Human: (518, 518), Machine: (617, 617)\n",
      "88a31c: followup: 518 == tokens: 518\n",
      "Nqueens_Q1.cs_0_Salesforce_codegen-16B-multi\n",
      "Human: (624, 624), Machine: (632, 632)\n",
      "93d2e1: followup: 624 == tokens: 624\n",
      "hannoi_Q1.py_0_Salesforce_codegen-16B-multi\n",
      "Human: (226, 226), Machine: (324, 324)\n",
      "95024d: followup: 226 == tokens: 226\n",
      "tree_Q1.py_0_Salesforce_codegen-16B-multi\n",
      "Human: (518, 518), Machine: (527, 527)\n",
      "97a19f: followup: 518 == tokens: 518\n",
      "tree_Q2.cs_0_Salesforce_codegen-16B-multi\n",
      "Human: (611, 611), Machine: (708, 708)\n",
      "98a211: followup: 611 == tokens: 611\n",
      "triangle_Q2.cs_0_Salesforce_codegen-16B-multi\n",
      "Human: (725, 725), Machine: (785, 785)\n",
      "9bcda0: followup: 725 == tokens: 725\n",
      "tree_Q2.cs_0_Salesforce_codegen-16B-multi\n",
      "Human: (611, 611), Machine: (708, 708)\n",
      "9e5778: followup: 611 == tokens: 611\n",
      "hannoi_Q1.py_0_Salesforce_codegen-16B-multi\n",
      "Human: (226, 226), Machine: (324, 324)\n",
      "9fd0c1: followup: 226 == tokens: 226\n",
      "multithread_Q2.cpp_0_Salesforce_codegen-16B-multi\n",
      "Human: (813, 813), Machine: (869, 869)\n",
      "a4a47a: followup: 813 == tokens: 813\n",
      "Nqueens_Q3.cpp_0_Salesforce_codegen-16B-multi\n",
      "Human: (599, 599), Machine: (696, 696)\n",
      "ab1e99: followup: 599 == tokens: 599\n",
      "hannoi_Q2.cs_0_Salesforce_codegen-16B-multi\n",
      "Human: (283, 283), Machine: (380, 380)\n",
      "ab3a90: followup: 283 == tokens: 283\n",
      "triangle_Q3.py_0_Salesforce_codegen-16B-multi\n",
      "Human: (518, 518), Machine: (617, 617)\n",
      "aecca4: followup: 518 == tokens: 518\n",
      "hannoi_Q2.py_0_Salesforce_codegen-16B-multi\n",
      "Human: (216, 216), Machine: (315, 315)\n",
      "afc047: followup: 216 == tokens: 216\n",
      "hannoi_Q1.cpp_0_Salesforce_codegen-16B-multi\n",
      "Human: (292, 292), Machine: (323, 323)\n",
      "b0172f: followup: 292 == tokens: 292\n",
      "hannoi_Q3.cs_0_Salesforce_codegen-16B-multi\n",
      "Human: (307, 307), Machine: (403, 403)\n",
      "b3a349: followup: 307 == tokens: 307\n",
      "triangle_Q2.cs_0_Salesforce_codegen-16B-multi\n",
      "Human: (725, 725), Machine: (785, 785)\n",
      "b595bc: followup: 725 == tokens: 725\n",
      "tree_Q2.cpp_0_Salesforce_codegen-16B-multi\n",
      "Human: (599, 599), Machine: (696, 696)\n",
      "b5c173: followup: 599 == tokens: 599\n",
      "triangle_Q3.py_0_Salesforce_codegen-16B-multi\n",
      "Human: (518, 518), Machine: (617, 617)\n",
      "b6cb6e: followup: 518 == tokens: 518\n",
      "hannoi_Q1.cs_0_Salesforce_codegen-16B-multi\n",
      "Human: (292, 292), Machine: (323, 323)\n",
      "b7971a: followup: 292 == tokens: 292\n",
      "multithread_Q1.cs_0_Salesforce_codegen-16B-multi\n",
      "Human: (730, 730), Machine: (784, 784)\n",
      "b7c85e: followup: 730 == tokens: 730\n",
      "triangle_Q3.py_0_Salesforce_codegen-16B-multi\n",
      "Human: (518, 518), Machine: (617, 617)\n",
      "b84310: followup: 518 == tokens: 518\n",
      "triangle_Q2.cs_0_Salesforce_codegen-16B-multi\n",
      "Human: (725, 725), Machine: (785, 785)\n",
      "b8a651: followup: 725 == tokens: 725\n",
      "multithread_Q2.py_0_Salesforce_codegen-16B-multi\n",
      "Human: (756, 756), Machine: (786, 786)\n",
      "b93c2f: followup: 756 == tokens: 756\n",
      "tree_Q1.cs_0_Salesforce_codegen-16B-multi\n",
      "Human: (622, 622), Machine: (624, 624)\n",
      "bda0b1: followup: 622 == tokens: 622\n",
      "tree_Q3.cs_0_Salesforce_codegen-16B-multi\n",
      "Human: (623, 623), Machine: (720, 720)\n",
      "be9283: followup: 623 == tokens: 623\n",
      "multithread_Q2.cs_0_Salesforce_codegen-16B-multi\n",
      "Human: (716, 716), Machine: (813, 813)\n",
      "bf760e: followup: 716 == tokens: 716\n",
      "hannoi_Q1.cpp_0_Salesforce_codegen-16B-multi\n",
      "Human: (292, 292), Machine: (323, 323)\n",
      "c35fdf: followup: 292 == tokens: 292\n",
      "hannoi_Q3.cs_0_Salesforce_codegen-16B-multi\n",
      "Human: (307, 307), Machine: (403, 403)\n",
      "c46e6d: followup: 307 == tokens: 307\n",
      "hannoi_Q3.py_0_Salesforce_codegen-16B-multi\n",
      "Human: (239, 239), Machine: (338, 338)\n",
      "c46f82: followup: 239 == tokens: 239\n",
      "hannoi_Q2.py_0_Salesforce_codegen-16B-multi\n",
      "Human: (216, 216), Machine: (315, 315)\n",
      "c6d8ff: followup: 216 == tokens: 216\n",
      "triangle_Q1.cpp_0_Salesforce_codegen-16B-multi\n",
      "Human: (693, 693), Machine: (790, 790)\n",
      "c7ca22: followup: 693 == tokens: 693\n",
      "tree_Q2.cs_0_Salesforce_codegen-16B-multi\n",
      "Human: (611, 611), Machine: (708, 708)\n",
      "cbdc06: followup: 611 == tokens: 611\n",
      "hannoi_Q3.py_0_Salesforce_codegen-16B-multi\n",
      "Human: (239, 239), Machine: (338, 338)\n",
      "d214ff: followup: 239 == tokens: 239\n",
      "tree_Q1.py_0_Salesforce_codegen-16B-multi\n",
      "Human: (518, 518), Machine: (527, 527)\n",
      "d27bf6: followup: 518 == tokens: 518\n",
      "tree_Q1.cs_0_Salesforce_codegen-16B-multi\n",
      "Human: (622, 622), Machine: (624, 624)\n",
      "d3a4b4: followup: 622 == tokens: 622\n",
      "multithread_Q1.py_0_Salesforce_codegen-16B-multi\n",
      "Human: (768, 768), Machine: (866, 866)\n",
      "d401e5: followup: 768 == tokens: 768\n",
      "multithread_Q2.py_0_Salesforce_codegen-16B-multi\n",
      "Human: (756, 756), Machine: (786, 786)\n",
      "d41dd8: followup: 756 == tokens: 756\n",
      "multithread_Q1.cs_0_Salesforce_codegen-16B-multi\n",
      "Human: (730, 730), Machine: (784, 784)\n",
      "d485dd: followup: 730 == tokens: 730\n",
      "multithread_Q1.py_0_Salesforce_codegen-16B-multi\n",
      "Human: (768, 768), Machine: (866, 866)\n",
      "d86a8d: followup: 768 == tokens: 768\n",
      "tree_Q3.py_0_Salesforce_codegen-16B-multi\n",
      "Human: (519, 519), Machine: (582, 582)\n",
      "dc14ad: followup: 519 == tokens: 519\n",
      "tree_Q1.py_0_Salesforce_codegen-16B-multi\n",
      "Human: (518, 518), Machine: (527, 527)\n",
      "debcce: followup: 518 == tokens: 518\n",
      "triangle_Q1.py_0_Salesforce_codegen-16B-multi\n",
      "Human: (519, 519), Machine: (618, 618)\n",
      "df2957: followup: 519 == tokens: 519\n",
      "tree_Q3.cs_0_Salesforce_codegen-16B-multi\n",
      "Human: (623, 623), Machine: (720, 720)\n",
      "df7ddd: followup: 623 == tokens: 623\n",
      "Nqueens_Q3.cpp_0_Salesforce_codegen-16B-multi\n",
      "Human: (599, 599), Machine: (696, 696)\n",
      "e0495f: followup: 599 == tokens: 599\n",
      "Nqueens_Q2.cpp_0_Salesforce_codegen-16B-multi\n",
      "Human: (588, 588), Machine: (685, 685)\n",
      "e33aac: followup: 588 == tokens: 588\n",
      "hannoi_Q2.cs_0_Salesforce_codegen-16B-multi\n",
      "Human: (283, 283), Machine: (380, 380)\n",
      "e63ddf: followup: 283 == tokens: 283\n",
      "multithread_Q3.py_0_Salesforce_codegen-16B-multi\n",
      "Human: (760, 760), Machine: (787, 787)\n",
      "e84aa9: followup: 760 == tokens: 760\n",
      "hannoi_Q1.cs_0_Salesforce_codegen-16B-multi\n",
      "Human: (292, 292), Machine: (323, 323)\n",
      "f4bbec: followup: 292 == tokens: 292\n",
      "multithread_Q1.cs_0_Salesforce_codegen-16B-multi\n",
      "Human: (730, 730), Machine: (784, 784)\n",
      "f5e35b: followup: 730 == tokens: 730\n",
      "Nqueens_Q1.cs_0_Salesforce_codegen-16B-multi\n",
      "Human: (624, 624), Machine: (632, 632)\n",
      "f7b913: followup: 624 == tokens: 624\n",
      "triangle_Q3.cs_0_Salesforce_codegen-16B-multi\n",
      "Human: (720, 720), Machine: (817, 817)\n",
      "f936ca: followup: 720 == tokens: 720\n"
     ]
    }
   ],
   "source": [
    "# check that the have the same length\n",
    "for k, matrix in ground_truth_matrices.items():\n",
    "    # get corresponding filename\n",
    "    filename = all_human_metadata[k]['source_code'].split('/')[1] + \"_0_Salesforce_codegen-16B-multi\"\n",
    "    print(filename)\n",
    "    # get corresponding matrix from the machine\n",
    "    machine_matrix = followup_matrices[filename]\n",
    "    # machine_matrix = gauss_matrices[filename]\n",
    "    print(f\"Human: {matrix.shape}, Machine: {machine_matrix.shape}\")\n",
    "    # get size of the followup matrix\n",
    "    size_followup = matrix.shape[1]\n",
    "    # check tha it is square\n",
    "    assert size_followup == matrix.shape[0]\n",
    "    # get the length of the tokenization\n",
    "    c_tokenization = all_tokenization_codegen[k]#['model_tokens']\n",
    "    len_tokenization = len(c_tokenization)\n",
    "    # check that the size of the followup matrix is the same \n",
    "    # as the length of the tokenization\n",
    "    print(f\"{k}: followup: {size_followup} == tokens: {len_tokenization}\")\n",
    "    assert size_followup == len_tokenization"
   ]
  },
  {
   "cell_type": "code",
   "execution_count": 45,
   "metadata": {},
   "outputs": [],
   "source": [
    "# average distance between current token and next token?"
   ]
  },
  {
   "cell_type": "code",
   "execution_count": 22,
   "metadata": {},
   "outputs": [
    {
     "data": {
      "text/html": [
       "<div>\n",
       "<style scoped>\n",
       "    .dataframe tbody tr th:only-of-type {\n",
       "        vertical-align: middle;\n",
       "    }\n",
       "\n",
       "    .dataframe tbody tr th {\n",
       "        vertical-align: top;\n",
       "    }\n",
       "\n",
       "    .dataframe thead th {\n",
       "        text-align: right;\n",
       "    }\n",
       "</style>\n",
       "<table border=\"1\" class=\"dataframe\">\n",
       "  <thead>\n",
       "    <tr style=\"text-align: right;\">\n",
       "      <th></th>\n",
       "      <th>unique_data_id</th>\n",
       "      <th>current_token_position</th>\n",
       "      <th>target_position</th>\n",
       "      <th>att_value_in_target</th>\n",
       "      <th>total_tokens</th>\n",
       "      <th>distance_current_to_target</th>\n",
       "    </tr>\n",
       "  </thead>\n",
       "  <tbody>\n",
       "    <tr>\n",
       "      <th>0</th>\n",
       "      <td>0480e5</td>\n",
       "      <td>0</td>\n",
       "      <td>0</td>\n",
       "      <td>0.000000</td>\n",
       "      <td>507</td>\n",
       "      <td>0</td>\n",
       "    </tr>\n",
       "    <tr>\n",
       "      <th>1</th>\n",
       "      <td>0480e5</td>\n",
       "      <td>1</td>\n",
       "      <td>0</td>\n",
       "      <td>0.000000</td>\n",
       "      <td>507</td>\n",
       "      <td>-1</td>\n",
       "    </tr>\n",
       "    <tr>\n",
       "      <th>2</th>\n",
       "      <td>0480e5</td>\n",
       "      <td>2</td>\n",
       "      <td>0</td>\n",
       "      <td>0.000000</td>\n",
       "      <td>507</td>\n",
       "      <td>-2</td>\n",
       "    </tr>\n",
       "    <tr>\n",
       "      <th>3</th>\n",
       "      <td>0480e5</td>\n",
       "      <td>3</td>\n",
       "      <td>0</td>\n",
       "      <td>0.000000</td>\n",
       "      <td>507</td>\n",
       "      <td>-3</td>\n",
       "    </tr>\n",
       "    <tr>\n",
       "      <th>4</th>\n",
       "      <td>0480e5</td>\n",
       "      <td>4</td>\n",
       "      <td>0</td>\n",
       "      <td>0.000000</td>\n",
       "      <td>507</td>\n",
       "      <td>-4</td>\n",
       "    </tr>\n",
       "    <tr>\n",
       "      <th>...</th>\n",
       "      <td>...</td>\n",
       "      <td>...</td>\n",
       "      <td>...</td>\n",
       "      <td>...</td>\n",
       "      <td>...</td>\n",
       "      <td>...</td>\n",
       "    </tr>\n",
       "    <tr>\n",
       "      <th>135</th>\n",
       "      <td>0480e5</td>\n",
       "      <td>135</td>\n",
       "      <td>149</td>\n",
       "      <td>10.098278</td>\n",
       "      <td>507</td>\n",
       "      <td>14</td>\n",
       "    </tr>\n",
       "    <tr>\n",
       "      <th>136</th>\n",
       "      <td>0480e5</td>\n",
       "      <td>136</td>\n",
       "      <td>149</td>\n",
       "      <td>5.073014</td>\n",
       "      <td>507</td>\n",
       "      <td>13</td>\n",
       "    </tr>\n",
       "    <tr>\n",
       "      <th>137</th>\n",
       "      <td>0480e5</td>\n",
       "      <td>137</td>\n",
       "      <td>0</td>\n",
       "      <td>0.000000</td>\n",
       "      <td>507</td>\n",
       "      <td>-137</td>\n",
       "    </tr>\n",
       "    <tr>\n",
       "      <th>138</th>\n",
       "      <td>0480e5</td>\n",
       "      <td>138</td>\n",
       "      <td>132</td>\n",
       "      <td>2.507711</td>\n",
       "      <td>507</td>\n",
       "      <td>-6</td>\n",
       "    </tr>\n",
       "    <tr>\n",
       "      <th>139</th>\n",
       "      <td>0480e5</td>\n",
       "      <td>139</td>\n",
       "      <td>169</td>\n",
       "      <td>24.143812</td>\n",
       "      <td>507</td>\n",
       "      <td>30</td>\n",
       "    </tr>\n",
       "  </tbody>\n",
       "</table>\n",
       "<p>140 rows × 6 columns</p>\n",
       "</div>"
      ],
      "text/plain": [
       "    unique_data_id  current_token_position  target_position  \\\n",
       "0           0480e5                       0                0   \n",
       "1           0480e5                       1                0   \n",
       "2           0480e5                       2                0   \n",
       "3           0480e5                       3                0   \n",
       "4           0480e5                       4                0   \n",
       "..             ...                     ...              ...   \n",
       "135         0480e5                     135              149   \n",
       "136         0480e5                     136              149   \n",
       "137         0480e5                     137                0   \n",
       "138         0480e5                     138              132   \n",
       "139         0480e5                     139              169   \n",
       "\n",
       "     att_value_in_target  total_tokens  distance_current_to_target  \n",
       "0               0.000000           507                           0  \n",
       "1               0.000000           507                          -1  \n",
       "2               0.000000           507                          -2  \n",
       "3               0.000000           507                          -3  \n",
       "4               0.000000           507                          -4  \n",
       "..                   ...           ...                         ...  \n",
       "135            10.098278           507                          14  \n",
       "136             5.073014           507                          13  \n",
       "137             0.000000           507                        -137  \n",
       "138             2.507711           507                          -6  \n",
       "139            24.143812           507                          30  \n",
       "\n",
       "[140 rows x 6 columns]"
      ]
     },
     "execution_count": 22,
     "metadata": {},
     "output_type": "execute_result"
    }
   ],
   "source": [
    "all_records = []\n",
    "for k, matrix in list(ground_truth_matrices.items())[:]:\n",
    "    #print(k)\n",
    "    #print(matrix)\n",
    "    # for each line in the matrix\n",
    "    for i in range(matrix.shape[0]):\n",
    "        line = matrix[i]\n",
    "        # get the position of the maximum value\n",
    "        max_pos = np.argmax(line)\n",
    "        distance_from_max = max_pos - i\n",
    "        all_records.append({\n",
    "            'unique_data_id': k,\n",
    "            'current_token_position': i,\n",
    "            'target_position': max_pos,\n",
    "            'att_value_in_target': line[max_pos],\n",
    "            'total_tokens': len(line),\n",
    "            'distance_current_to_target': distance_from_max,\n",
    "        })\n",
    "df_distance_in_tokens = pd.DataFrame.from_records(all_records)\n",
    "df_distance_in_tokens.head(140)"
   ]
  },
  {
   "cell_type": "code",
   "execution_count": 23,
   "metadata": {},
   "outputs": [
    {
     "data": {
      "text/plain": [
       "<AxesSubplot:xlabel='distance_current_to_target', ylabel='att_value_in_target'>"
      ]
     },
     "execution_count": 23,
     "metadata": {},
     "output_type": "execute_result"
    },
    {
     "data": {
      "image/png": "[encoded data removed]",
      "text/plain": [
       "<Figure size 432x288 with 1 Axes>"
      ]
     },
     "metadata": {
      "needs_background": "light"
     },
     "output_type": "display_data"
    }
   ],
   "source": [
    "sns.scatterplot(\n",
    "    data=df_distance_in_tokens,\n",
    "    y='att_value_in_target',\n",
    "    x='distance_current_to_target',\n",
    ")\n",
    "# normalize this to sum up tp 1 before subtracting it from the followup/better to divide it."
   ]
  },
  {
   "cell_type": "code",
   "execution_count": 81,
   "metadata": {},
   "outputs": [
    {
     "data": {
      "text/plain": [
       "<AxesSubplot:xlabel='distance_curent_to_target', ylabel='att_value_in_target'>"
      ]
     },
     "execution_count": 81,
     "metadata": {},
     "output_type": "execute_result"
    },
    {
     "data": {
      "image/png": "[encoded data removed]",
      "text/plain": [
       "<Figure size 432x288 with 1 Axes>"
      ]
     },
     "metadata": {
      "needs_background": "light"
     },
     "output_type": "display_data"
    }
   ],
   "source": [
    "sns.barplot(\n",
    "    data=df_distance_in_tokens,\n",
    "    y='att_value_in_target',\n",
    "    x='distance_current_to_target',\n",
    ")"
   ]
  },
  {
   "cell_type": "code",
   "execution_count": 42,
   "metadata": {},
   "outputs": [
    {
     "data": {
      "text/plain": [
       "<AxesSubplot:xlabel='distance_current_to_target', ylabel='mean_att_value_in_target'>"
      ]
     },
     "execution_count": 42,
     "metadata": {},
     "output_type": "execute_result"
    },
    {
     "data": {
      "image/png": "[encoded data removed]",
      "text/plain": [
       "<Figure size 432x288 with 1 Axes>"
      ]
     },
     "metadata": {
      "needs_background": "light"
     },
     "output_type": "display_data"
    }
   ],
   "source": [
    "df_grouped = df_distance_in_tokens.groupby('distance_current_to_target').agg({\n",
    "    'att_value_in_target': ['mean', 'count'],})\n",
    "df_grouped.columns = ['mean_att_value_in_target', 'number_of_samples']\n",
    "df_grouped = df_grouped.reset_index()\n",
    "df_grouped.head()\n",
    "# plot\n",
    "sns.scatterplot(\n",
    "    data=df_grouped,\n",
    "    x='distance_current_to_target',\n",
    "    y='mean_att_value_in_target',\n",
    "    hue='number_of_samples',\n",
    ")   "
   ]
  },
  {
   "cell_type": "code",
   "execution_count": 89,
   "metadata": {},
   "outputs": [
    {
     "data": {
      "text/plain": [
       "1422"
      ]
     },
     "execution_count": 89,
     "metadata": {},
     "output_type": "execute_result"
    }
   ],
   "source": [
    "len(df_grouped)"
   ]
  },
  {
   "cell_type": "code",
   "execution_count": 98,
   "metadata": {},
   "outputs": [
    {
     "data": {
      "text/plain": [
       "1422"
      ]
     },
     "execution_count": 98,
     "metadata": {},
     "output_type": "execute_result"
    }
   ],
   "source": [
    "len(df_grouped['distance_current_to_target'].unique())"
   ]
  },
  {
   "cell_type": "code",
   "execution_count": 99,
   "metadata": {},
   "outputs": [
    {
     "data": {
      "text/plain": [
       "-1545"
      ]
     },
     "execution_count": 99,
     "metadata": {},
     "output_type": "execute_result"
    }
   ],
   "source": [
    "df_grouped['distance_current_to_target'].min() - df_grouped['distance_current_to_target'].max()"
   ]
  },
  {
   "cell_type": "code",
   "execution_count": 100,
   "metadata": {},
   "outputs": [
    {
     "data": {
      "text/html": [
       "<div>\n",
       "<style scoped>\n",
       "    .dataframe tbody tr th:only-of-type {\n",
       "        vertical-align: middle;\n",
       "    }\n",
       "\n",
       "    .dataframe tbody tr th {\n",
       "        vertical-align: top;\n",
       "    }\n",
       "\n",
       "    .dataframe thead th {\n",
       "        text-align: right;\n",
       "    }\n",
       "</style>\n",
       "<table border=\"1\" class=\"dataframe\">\n",
       "  <thead>\n",
       "    <tr style=\"text-align: right;\">\n",
       "      <th></th>\n",
       "      <th>distance_current_to_target</th>\n",
       "      <th>mean_att_value_in_target</th>\n",
       "      <th>number_of_samples</th>\n",
       "    </tr>\n",
       "  </thead>\n",
       "  <tbody>\n",
       "    <tr>\n",
       "      <th>0</th>\n",
       "      <td>-812</td>\n",
       "      <td>0.0</td>\n",
       "      <td>1</td>\n",
       "    </tr>\n",
       "    <tr>\n",
       "      <th>1</th>\n",
       "      <td>-811</td>\n",
       "      <td>0.0</td>\n",
       "      <td>1</td>\n",
       "    </tr>\n",
       "    <tr>\n",
       "      <th>2</th>\n",
       "      <td>-810</td>\n",
       "      <td>0.0</td>\n",
       "      <td>1</td>\n",
       "    </tr>\n",
       "    <tr>\n",
       "      <th>3</th>\n",
       "      <td>-809</td>\n",
       "      <td>0.0</td>\n",
       "      <td>1</td>\n",
       "    </tr>\n",
       "    <tr>\n",
       "      <th>4</th>\n",
       "      <td>-808</td>\n",
       "      <td>0.0</td>\n",
       "      <td>1</td>\n",
       "    </tr>\n",
       "  </tbody>\n",
       "</table>\n",
       "</div>"
      ],
      "text/plain": [
       "   distance_current_to_target  mean_att_value_in_target  number_of_samples\n",
       "0                        -812                       0.0                  1\n",
       "1                        -811                       0.0                  1\n",
       "2                        -810                       0.0                  1\n",
       "3                        -809                       0.0                  1\n",
       "4                        -808                       0.0                  1"
      ]
     },
     "execution_count": 100,
     "metadata": {},
     "output_type": "execute_result"
    }
   ],
   "source": [
    "df_grouped.head()"
   ]
  },
  {
   "cell_type": "code",
   "execution_count": 101,
   "metadata": {},
   "outputs": [],
   "source": [
    "df_base = df_grouped\n",
    "min_position = df_base[\"distance_current_to_target\"].min()\n",
    "max_position = df_base[\"distance_current_to_target\"].max()\n",
    "values_sum = df_base[\"mean_att_value_in_target\"].sum()\n",
    "positions = np.arange(min_position, max_position + 1)\n",
    "values = np.array([\n",
    "    df_base[df_base[\"distance_current_to_target\"] == p][\"mean_att_value_in_target\"].values[0] / values_sum\n",
    "    if p in df_base[\"distance_current_to_target\"].unique() else 0\n",
    "    for p in positions\n",
    "]) \n",
    "assert len(positions) == len(values)"
   ]
  },
  {
   "cell_type": "code",
   "execution_count": 49,
   "metadata": {},
   "outputs": [
    {
     "data": {
      "text/plain": [
       "Text(0.5, 0, 'Distance from top-1 reccomendation and current token')"
      ]
     },
     "execution_count": 49,
     "metadata": {},
     "output_type": "execute_result"
    },
    {
     "data": {
      "image/png": "[encoded data removed]",
      "text/plain": [
       "<Figure size 432x288 with 1 Axes>"
      ]
     },
     "metadata": {
      "needs_background": "light"
     },
     "output_type": "display_data"
    }
   ],
   "source": [
    "sns.histplot(\n",
    "    data=df_distance_in_tokens,\n",
    "    x='distance_from_target',\n",
    ")\n",
    "plt.xlabel(\"Distance from top-1 reccomendation and current token\")"
   ]
  },
  {
   "cell_type": "code",
   "execution_count": 32,
   "metadata": {},
   "outputs": [],
   "source": [
    "# how about the average distance in terms of line?"
   ]
  },
  {
   "cell_type": "code",
   "execution_count": 33,
   "metadata": {},
   "outputs": [
    {
     "ename": "AssertionError",
     "evalue": "The length of the line_indices must match the length of the target dimension of the att_tensor.Got 862 and 837",
     "output_type": "error",
     "traceback": [
      "\u001b[0;31m---------------------------------------------------------------------------\u001b[0m",
      "\u001b[0;31mAssertionError\u001b[0m                            Traceback (most recent call last)",
      "\u001b[1;32m/home/eaftan/copilot-attention/notebooks/37_Distance_Study.ipynb Cell 12\u001b[0m in \u001b[0;36m<cell line: 4>\u001b[0;34m()\u001b[0m\n\u001b[1;32m      <a href='vscode-notebook-cell://ssh-remote%2Bgpt-j-3/home/eaftan/copilot-attention/notebooks/37_Distance_Study.ipynb#Y103sdnNjb2RlLXJlbW90ZQ%3D%3D?line=5'>6</a>\u001b[0m line_indices \u001b[39m=\u001b[39m np\u001b[39m.\u001b[39marray([t[\u001b[39m'\u001b[39m\u001b[39ml\u001b[39m\u001b[39m'\u001b[39m] \u001b[39mfor\u001b[39;00m t \u001b[39min\u001b[39;00m tokenization])\n\u001b[1;32m      <a href='vscode-notebook-cell://ssh-remote%2Bgpt-j-3/home/eaftan/copilot-attention/notebooks/37_Distance_Study.ipynb#Y103sdnNjb2RlLXJlbW90ZQ%3D%3D?line=6'>7</a>\u001b[0m \u001b[39m# aggregate the matrix by line\u001b[39;00m\n\u001b[0;32m----> <a href='vscode-notebook-cell://ssh-remote%2Bgpt-j-3/home/eaftan/copilot-attention/notebooks/37_Distance_Study.ipynb#Y103sdnNjb2RlLXJlbW90ZQ%3D%3D?line=7'>8</a>\u001b[0m matrix_by_line \u001b[39m=\u001b[39m aggregate_dim_tokens_to_line(\n\u001b[1;32m      <a href='vscode-notebook-cell://ssh-remote%2Bgpt-j-3/home/eaftan/copilot-attention/notebooks/37_Distance_Study.ipynb#Y103sdnNjb2RlLXJlbW90ZQ%3D%3D?line=8'>9</a>\u001b[0m     matrix, \n\u001b[1;32m     <a href='vscode-notebook-cell://ssh-remote%2Bgpt-j-3/home/eaftan/copilot-attention/notebooks/37_Distance_Study.ipynb#Y103sdnNjb2RlLXJlbW90ZQ%3D%3D?line=9'>10</a>\u001b[0m     dim\u001b[39m=\u001b[39;49m\u001b[39m1\u001b[39;49m,\n\u001b[1;32m     <a href='vscode-notebook-cell://ssh-remote%2Bgpt-j-3/home/eaftan/copilot-attention/notebooks/37_Distance_Study.ipynb#Y103sdnNjb2RlLXJlbW90ZQ%3D%3D?line=10'>11</a>\u001b[0m     line_indices\u001b[39m=\u001b[39;49mline_indices)\n\u001b[1;32m     <a href='vscode-notebook-cell://ssh-remote%2Bgpt-j-3/home/eaftan/copilot-attention/notebooks/37_Distance_Study.ipynb#Y103sdnNjb2RlLXJlbW90ZQ%3D%3D?line=11'>12</a>\u001b[0m total_lines \u001b[39m=\u001b[39m \u001b[39mlen\u001b[39m(\u001b[39mset\u001b[39m(line_indices))\n\u001b[1;32m     <a href='vscode-notebook-cell://ssh-remote%2Bgpt-j-3/home/eaftan/copilot-attention/notebooks/37_Distance_Study.ipynb#Y103sdnNjb2RlLXJlbW90ZQ%3D%3D?line=12'>13</a>\u001b[0m size_new_matrix \u001b[39m=\u001b[39m matrix_by_line\u001b[39m.\u001b[39mshape[\u001b[39m0\u001b[39m]\n",
      "File \u001b[0;32m~/copilot-attention/attwizard/shaper.py:32\u001b[0m, in \u001b[0;36maggregate_dim_tokens_to_line\u001b[0;34m(att_tensor, dim, agg_fn, line_indices)\u001b[0m\n\u001b[1;32m      8\u001b[0m \u001b[39mdef\u001b[39;00m \u001b[39maggregate_dim_tokens_to_line\u001b[39m(\n\u001b[1;32m      9\u001b[0m         att_tensor: Union[np\u001b[39m.\u001b[39mndarray, ForwardRef(\u001b[39m'\u001b[39m\u001b[39mtorch.Tensor\u001b[39m\u001b[39m'\u001b[39m)],\n\u001b[1;32m     10\u001b[0m         dim: \u001b[39mint\u001b[39m,\n\u001b[1;32m     11\u001b[0m         agg_fn: Callable \u001b[39m=\u001b[39m torch\u001b[39m.\u001b[39msum,\n\u001b[1;32m     12\u001b[0m         line_indices: List[\u001b[39mint\u001b[39m] \u001b[39m=\u001b[39m \u001b[39mNone\u001b[39;00m):\n\u001b[1;32m     13\u001b[0m     \u001b[39m\"\"\"Aggregate the given dimension according to the line list.\u001b[39;00m\n\u001b[1;32m     14\u001b[0m \n\u001b[1;32m     15\u001b[0m \u001b[39m    Note that the line_indices is a list of line indices, not line numbers.\u001b[39;00m\n\u001b[0;32m   (...)\u001b[0m\n\u001b[1;32m     30\u001b[0m \u001b[39m    together.\u001b[39;00m\n\u001b[1;32m     31\u001b[0m \u001b[39m    \"\"\"\u001b[39;00m\n\u001b[0;32m---> 32\u001b[0m     \u001b[39massert\u001b[39;00m \u001b[39mlen\u001b[39m(line_indices) \u001b[39m==\u001b[39m att_tensor\u001b[39m.\u001b[39mshape[dim], \\\n\u001b[1;32m     33\u001b[0m         \u001b[39m\"\u001b[39m\u001b[39mThe length of the line_indices must match the \u001b[39m\u001b[39m\"\u001b[39m \u001b[39m+\u001b[39m \\\n\u001b[1;32m     34\u001b[0m         \u001b[39m\"\u001b[39m\u001b[39mlength of the target dimension of the att_tensor.\u001b[39m\u001b[39m\"\u001b[39m \\\n\u001b[1;32m     35\u001b[0m         \u001b[39m\"\u001b[39m\u001b[39mGot \u001b[39m\u001b[39m{}\u001b[39;00m\u001b[39m and \u001b[39m\u001b[39m{}\u001b[39;00m\u001b[39m\"\u001b[39m\u001b[39m.\u001b[39mformat(\u001b[39mlen\u001b[39m(line_indices), att_tensor\u001b[39m.\u001b[39mshape[dim])\n\u001b[1;32m     36\u001b[0m     \u001b[39m# assert max(np.diff(line_indices)) == 1, \\\u001b[39;00m\n\u001b[1;32m     37\u001b[0m     \u001b[39m#     \"The line indices must be in ascending order and there must be no gaps.\" + \\\u001b[39;00m\n\u001b[1;32m     38\u001b[0m     \u001b[39m#     \"Got {}\".format(line_indices)\u001b[39;00m\n\u001b[1;32m     39\u001b[0m     \u001b[39m# convert att_tensor to torch.Tensor if necessary\u001b[39;00m\n\u001b[1;32m     40\u001b[0m     \u001b[39mif\u001b[39;00m \u001b[39mnot\u001b[39;00m \u001b[39misinstance\u001b[39m(att_tensor, torch\u001b[39m.\u001b[39mTensor):\n",
      "\u001b[0;31mAssertionError\u001b[0m: The length of the line_indices must match the length of the target dimension of the att_tensor.Got 862 and 837"
     ]
    }
   ],
   "source": [
    "from attwizard.shaper import aggregate_dim_tokens_to_line\n",
    "\n",
    "all_records_line = []\n",
    "for k, matrix in list(ground_truth_matrices.items())[:1]:\n",
    "    tokenization = all_tokenization_codegen[k]['tokenization']\n",
    "    line_indices = np.array([t['l'] for t in tokenization])\n",
    "    # aggregate the matrix by line\n",
    "    matrix_by_line = aggregate_dim_tokens_to_line(\n",
    "        matrix, \n",
    "        dim=1,\n",
    "        line_indices=line_indices)\n",
    "    total_lines = len(set(line_indices))\n",
    "    size_new_matrix = matrix_by_line.shape[0]\n",
    "    assert total_lines == size_new_matrix\n",
    "    print(f\"total_lines: {total_lines} == size_new_matrix: {size_new_matrix}\")\n",
    "    # for each line in the matrix\n",
    "    for i in range(matrix_by_line.shape[0]):\n",
    "        line = matrix_by_line[i]\n",
    "        # get the position of the maximum value\n",
    "        max_pos = np.argmax(line)\n",
    "        distance_from_max = max_pos - i\n",
    "        all_records.append({\n",
    "            'file': k,\n",
    "            'line': i,\n",
    "            'max_pos': max_pos,\n",
    "            'total_tokens': len(line),\n",
    "            'distance_from_max': distance_from_max,\n",
    "        })"
   ]
  },
  {
   "cell_type": "markdown",
   "metadata": {},
   "source": [
    "# Experiment with Removing Base"
   ]
  },
  {
   "cell_type": "code",
   "execution_count": 5,
   "metadata": {},
   "outputs": [
    {
     "data": {
      "text/plain": [
       "array([0, 0, 0, 0, 0, 1, 2, 3, 0, 0, 0, 0, 0])"
      ]
     },
     "execution_count": 5,
     "metadata": {},
     "output_type": "execute_result"
    }
   ],
   "source": [
    "values = np.array([1, 2, 3])\n",
    "pad_length = 5\n",
    "res = np.pad(values, (pad_length, pad_length), \"constant\")\n",
    "res "
   ]
  },
  {
   "cell_type": "code",
   "execution_count": 6,
   "metadata": {},
   "outputs": [],
   "source": [
    "df_base = pd.read_csv('../data/eye_tracking_attention/eye_v10/decay_0.1_Salesforce_codegen-16B-multi/data_avg_followup/df_base_att_based_on_distance.csv')"
   ]
  },
  {
   "cell_type": "code",
   "execution_count": 8,
   "metadata": {},
   "outputs": [
    {
     "data": {
      "text/plain": [
       "<AxesSubplot:xlabel='distance_current_to_target', ylabel='mean_att_value_in_target'>"
      ]
     },
     "execution_count": 8,
     "metadata": {},
     "output_type": "execute_result"
    },
    {
     "data": {
      "image/png": "[encoded data removed]",
      "text/plain": [
       "<Figure size 432x288 with 1 Axes>"
      ]
     },
     "metadata": {
      "needs_background": "light"
     },
     "output_type": "display_data"
    }
   ],
   "source": [
    "sns.scatterplot(\n",
    "    data=df_base,\n",
    "    x='distance_current_to_target',\n",
    "    y='mean_att_value_in_target',\n",
    ")"
   ]
  },
  {
   "cell_type": "code",
   "execution_count": 4,
   "metadata": {},
   "outputs": [],
   "source": [
    "df_base = pd.read_csv('../data/eye_tracking_attention/eye_v10/decay_0.1_Salesforce_codegen-16B-multi/data_avg_followup/df_base_top1_prob_based_on_distance.csv')"
   ]
  },
  {
   "cell_type": "code",
   "execution_count": 6,
   "metadata": {},
   "outputs": [
    {
     "data": {
      "text/plain": [
       "<AxesSubplot:xlabel='distance_current_to_target', ylabel='mean_prob_to_go_to_top1_target'>"
      ]
     },
     "execution_count": 6,
     "metadata": {},
     "output_type": "execute_result"
    },
    {
     "data": {
      "image/png": "[encoded data removed]",
      "text/plain": [
       "<Figure size 432x288 with 1 Axes>"
      ]
     },
     "metadata": {
      "needs_background": "light"
     },
     "output_type": "display_data"
    }
   ],
   "source": [
    "sns.scatterplot(\n",
    "    data=df_base,\n",
    "    x='distance_current_to_target',\n",
    "    y='mean_prob_to_go_to_top1_target',\n",
    "    hue='number_of_samples',\n",
    ")"
   ]
  },
  {
   "cell_type": "code",
   "execution_count": 7,
   "metadata": {},
   "outputs": [
    {
     "data": {
      "text/html": [
       "<div>\n",
       "<style scoped>\n",
       "    .dataframe tbody tr th:only-of-type {\n",
       "        vertical-align: middle;\n",
       "    }\n",
       "\n",
       "    .dataframe tbody tr th {\n",
       "        vertical-align: top;\n",
       "    }\n",
       "\n",
       "    .dataframe thead th {\n",
       "        text-align: right;\n",
       "    }\n",
       "</style>\n",
       "<table border=\"1\" class=\"dataframe\">\n",
       "  <thead>\n",
       "    <tr style=\"text-align: right;\">\n",
       "      <th></th>\n",
       "      <th>distance_current_to_target</th>\n",
       "      <th>mean_prob_to_go_to_top1_target</th>\n",
       "      <th>number_of_samples</th>\n",
       "    </tr>\n",
       "  </thead>\n",
       "  <tbody>\n",
       "    <tr>\n",
       "      <th>784</th>\n",
       "      <td>0</td>\n",
       "      <td>0.036514</td>\n",
       "      <td>525</td>\n",
       "    </tr>\n",
       "  </tbody>\n",
       "</table>\n",
       "</div>"
      ],
      "text/plain": [
       "     distance_current_to_target  mean_prob_to_go_to_top1_target  \\\n",
       "784                           0                        0.036514   \n",
       "\n",
       "     number_of_samples  \n",
       "784                525  "
      ]
     },
     "execution_count": 7,
     "metadata": {},
     "output_type": "execute_result"
    }
   ],
   "source": [
    "df_base[df_base['distance_current_to_target'] == 0].head()"
   ]
  },
  {
   "cell_type": "code",
   "execution_count": 48,
   "metadata": {},
   "outputs": [],
   "source": [
    "# compare matrices\n",
    "FODLER_A = '../data/eye_tracking_attention/eye_v10/decay_0.1_Salesforce_codegen-16B-multi/data_followup_tokens_tokens_model/'\n",
    "FOLDER_B = '../data/eye_tracking_attention/eye_v10/decay_0.1/data_followup_tokens_tokens_model/'\n",
    "a = np.load(\"../data/eye_tracking_attention/eye_v10/decay_0.1_Salesforce_codegen-16B-multi/data_followup_tokens_tokens_model/0d7601.npy\")\n",
    "b = np.load(\"../data/eye_tracking_attention/eye_v10/decay_0.1/data_followup_tokens_tokens_model/0d7601.npy\")\n",
    "assert a.shape == b.shape"
   ]
  },
  {
   "cell_type": "code",
   "execution_count": 26,
   "metadata": {},
   "outputs": [
    {
     "data": {
      "text/plain": [
       "True"
      ]
     },
     "execution_count": 26,
     "metadata": {},
     "output_type": "execute_result"
    }
   ],
   "source": [
    "# check that the two matrices are identical\n",
    "np.all(a == b)"
   ]
  },
  {
   "cell_type": "code",
   "execution_count": 49,
   "metadata": {},
   "outputs": [
    {
     "name": "stdout",
     "output_type": "stream",
     "text": [
      "n of data read:  92\n",
      "n of data read:  92\n"
     ]
    }
   ],
   "source": [
    "all_a = read_data_in_parallel(\n",
    "    FODLER_A,\n",
    "    file_type_extension='.npy',\n",
    "    read_function=np.load,\n",
    ")\n",
    "all_b = read_data_in_parallel(\n",
    "    FOLDER_B,\n",
    "    file_type_extension='.npy',\n",
    "    read_function=np.load,\n",
    ")"
   ]
  },
  {
   "cell_type": "code",
   "execution_count": 50,
   "metadata": {},
   "outputs": [
    {
     "name": "stdout",
     "output_type": "stream",
     "text": [
      "True\n",
      "True\n",
      "True\n",
      "False\n",
      "key: 97a19f\n",
      "True\n",
      "True\n",
      "True\n",
      "True\n",
      "True\n",
      "True\n",
      "False\n",
      "key: 500208\n",
      "True\n",
      "True\n",
      "False\n",
      "key: cbdc06\n",
      "True\n",
      "True\n",
      "True\n",
      "True\n",
      "True\n",
      "True\n",
      "True\n",
      "True\n",
      "True\n",
      "True\n",
      "False\n",
      "key: f5e35b\n",
      "True\n",
      "True\n",
      "True\n",
      "True\n",
      "True\n",
      "True\n",
      "True\n",
      "True\n",
      "True\n",
      "True\n",
      "True\n",
      "True\n",
      "True\n",
      "True\n",
      "True\n",
      "True\n",
      "True\n",
      "True\n",
      "True\n",
      "True\n",
      "True\n",
      "False\n",
      "key: b6cb6e\n",
      "True\n",
      "True\n",
      "True\n",
      "True\n",
      "True\n",
      "True\n",
      "True\n",
      "True\n",
      "True\n",
      "True\n",
      "True\n",
      "True\n",
      "True\n",
      "True\n",
      "True\n",
      "False\n",
      "key: b595bc\n",
      "True\n",
      "False\n",
      "key: 9e5778\n",
      "True\n",
      "True\n",
      "True\n",
      "True\n",
      "True\n",
      "False\n",
      "key: e84aa9\n",
      "True\n",
      "False\n",
      "key: 4a262b\n",
      "True\n",
      "True\n",
      "True\n",
      "False\n",
      "key: 44d4f6\n",
      "True\n",
      "True\n",
      "True\n",
      "True\n",
      "True\n",
      "True\n",
      "True\n",
      "True\n",
      "False\n",
      "key: 2babb5\n",
      "True\n",
      "True\n",
      "True\n",
      "True\n",
      "True\n",
      "False\n",
      "key: f4bbec\n",
      "count false: 12\n"
     ]
    }
   ],
   "source": [
    "# iterate over all the keys and check that the matrices are identical\n",
    "count = 0\n",
    "for k in all_a.keys():\n",
    "    # same shape\n",
    "    assert all_a[k].shape == all_b[k].shape\n",
    "    print(np.all(all_a[k] == all_b[k]))\n",
    "    if not np.all(all_a[k] == all_b[k]):\n",
    "        count += 1\n",
    "        print(f\"key: {k}\")\n",
    "print(f\"count false: {count}\")\n",
    "\n"
   ]
  },
  {
   "cell_type": "markdown",
   "metadata": {},
   "source": [
    "# Create baseline depending on all positions"
   ]
  },
  {
   "cell_type": "code",
   "execution_count": 12,
   "metadata": {},
   "outputs": [
    {
     "name": "stderr",
     "output_type": "stream",
     "text": [
      "/tmp/ipykernel_3341239/998211907.py:1: DtypeWarning: Columns (0) have mixed types. Specify dtype option on import or set low_memory=False.\n",
      "  df_followup = pd.read_csv('../data/eye_tracking_attention/eye_v10/decay_0.1_Salesforce_codegen-16B-multi/data_avg_followup/df_entire_followup.csv')\n"
     ]
    },
    {
     "data": {
      "text/html": [
       "<div>\n",
       "<style scoped>\n",
       "    .dataframe tbody tr th:only-of-type {\n",
       "        vertical-align: middle;\n",
       "    }\n",
       "\n",
       "    .dataframe tbody tr th {\n",
       "        vertical-align: top;\n",
       "    }\n",
       "\n",
       "    .dataframe thead th {\n",
       "        text-align: right;\n",
       "    }\n",
       "</style>\n",
       "<table border=\"1\" class=\"dataframe\">\n",
       "  <thead>\n",
       "    <tr style=\"text-align: right;\">\n",
       "      <th></th>\n",
       "      <th>unique_data_id</th>\n",
       "      <th>current_token_position</th>\n",
       "      <th>target_position</th>\n",
       "      <th>total_tokens</th>\n",
       "      <th>distance_current_to_target</th>\n",
       "      <th>prob_to_go_to_target</th>\n",
       "      <th>followup_abs_value</th>\n",
       "      <th>total_followup_abs_value</th>\n",
       "    </tr>\n",
       "  </thead>\n",
       "  <tbody>\n",
       "    <tr>\n",
       "      <th>0</th>\n",
       "      <td>f4bbec</td>\n",
       "      <td>0</td>\n",
       "      <td>0</td>\n",
       "      <td>292</td>\n",
       "      <td>0</td>\n",
       "      <td>0.0</td>\n",
       "      <td>0.0</td>\n",
       "      <td>30.21977</td>\n",
       "    </tr>\n",
       "    <tr>\n",
       "      <th>1</th>\n",
       "      <td>f4bbec</td>\n",
       "      <td>0</td>\n",
       "      <td>1</td>\n",
       "      <td>292</td>\n",
       "      <td>-1</td>\n",
       "      <td>0.0</td>\n",
       "      <td>0.0</td>\n",
       "      <td>30.21977</td>\n",
       "    </tr>\n",
       "    <tr>\n",
       "      <th>2</th>\n",
       "      <td>f4bbec</td>\n",
       "      <td>0</td>\n",
       "      <td>2</td>\n",
       "      <td>292</td>\n",
       "      <td>-2</td>\n",
       "      <td>0.0</td>\n",
       "      <td>0.0</td>\n",
       "      <td>30.21977</td>\n",
       "    </tr>\n",
       "    <tr>\n",
       "      <th>3</th>\n",
       "      <td>f4bbec</td>\n",
       "      <td>0</td>\n",
       "      <td>3</td>\n",
       "      <td>292</td>\n",
       "      <td>-3</td>\n",
       "      <td>0.0</td>\n",
       "      <td>0.0</td>\n",
       "      <td>30.21977</td>\n",
       "    </tr>\n",
       "    <tr>\n",
       "      <th>4</th>\n",
       "      <td>f4bbec</td>\n",
       "      <td>0</td>\n",
       "      <td>4</td>\n",
       "      <td>292</td>\n",
       "      <td>-4</td>\n",
       "      <td>0.0</td>\n",
       "      <td>0.0</td>\n",
       "      <td>30.21977</td>\n",
       "    </tr>\n",
       "  </tbody>\n",
       "</table>\n",
       "</div>"
      ],
      "text/plain": [
       "  unique_data_id  current_token_position  target_position  total_tokens  \\\n",
       "0         f4bbec                       0                0           292   \n",
       "1         f4bbec                       0                1           292   \n",
       "2         f4bbec                       0                2           292   \n",
       "3         f4bbec                       0                3           292   \n",
       "4         f4bbec                       0                4           292   \n",
       "\n",
       "   distance_current_to_target  prob_to_go_to_target  followup_abs_value  \\\n",
       "0                           0                   0.0                 0.0   \n",
       "1                          -1                   0.0                 0.0   \n",
       "2                          -2                   0.0                 0.0   \n",
       "3                          -3                   0.0                 0.0   \n",
       "4                          -4                   0.0                 0.0   \n",
       "\n",
       "   total_followup_abs_value  \n",
       "0                  30.21977  \n",
       "1                  30.21977  \n",
       "2                  30.21977  \n",
       "3                  30.21977  \n",
       "4                  30.21977  "
      ]
     },
     "execution_count": 12,
     "metadata": {},
     "output_type": "execute_result"
    }
   ],
   "source": [
    "df_followup = pd.read_csv('../data/eye_tracking_attention/eye_v10/decay_0.1_Salesforce_codegen-16B-multi/data_avg_followup/df_entire_followup.csv')\n",
    "df_followup.head()"
   ]
  },
  {
   "cell_type": "code",
   "execution_count": 37,
   "metadata": {},
   "outputs": [],
   "source": [
    "# group by distance current to target and ge the average probability\n",
    "df_grouped = df_followup.groupby('distance_current_to_target').agg({\n",
    "    \"prob_to_go_to_target\": [\"mean\", \"count\"]})\n",
    "# collapse the multiindex \n",
    "# FutureWarning: Index.ravel returning ndarray is deprecated; in a future version this will return a view on self.\n",
    "df_grouped.columns = df_grouped.columns.to_flat_index()\n",
    "# normalize column names\n",
    "df_grouped.columns = ['_'.join(col).strip() for col in df_grouped.columns.values]\n",
    "df_grouped = df_grouped.reset_index()\n",
    "# invert the distance\n",
    "df_grouped['distance_current_to_target'] = df_grouped['distance_current_to_target'] * -1"
   ]
  },
  {
   "cell_type": "code",
   "execution_count": 38,
   "metadata": {},
   "outputs": [
    {
     "data": {
      "text/html": [
       "<div>\n",
       "<style scoped>\n",
       "    .dataframe tbody tr th:only-of-type {\n",
       "        vertical-align: middle;\n",
       "    }\n",
       "\n",
       "    .dataframe tbody tr th {\n",
       "        vertical-align: top;\n",
       "    }\n",
       "\n",
       "    .dataframe thead th {\n",
       "        text-align: right;\n",
       "    }\n",
       "</style>\n",
       "<table border=\"1\" class=\"dataframe\">\n",
       "  <thead>\n",
       "    <tr style=\"text-align: right;\">\n",
       "      <th></th>\n",
       "      <th>distance_current_to_target</th>\n",
       "      <th>prob_to_go_to_target_mean</th>\n",
       "      <th>prob_to_go_to_target_count</th>\n",
       "    </tr>\n",
       "  </thead>\n",
       "  <tbody>\n",
       "    <tr>\n",
       "      <th>0</th>\n",
       "      <td>812</td>\n",
       "      <td>0.0</td>\n",
       "      <td>1</td>\n",
       "    </tr>\n",
       "    <tr>\n",
       "      <th>1</th>\n",
       "      <td>811</td>\n",
       "      <td>0.0</td>\n",
       "      <td>2</td>\n",
       "    </tr>\n",
       "    <tr>\n",
       "      <th>2</th>\n",
       "      <td>810</td>\n",
       "      <td>0.0</td>\n",
       "      <td>3</td>\n",
       "    </tr>\n",
       "    <tr>\n",
       "      <th>3</th>\n",
       "      <td>809</td>\n",
       "      <td>0.0</td>\n",
       "      <td>4</td>\n",
       "    </tr>\n",
       "    <tr>\n",
       "      <th>4</th>\n",
       "      <td>808</td>\n",
       "      <td>0.0</td>\n",
       "      <td>5</td>\n",
       "    </tr>\n",
       "  </tbody>\n",
       "</table>\n",
       "</div>"
      ],
      "text/plain": [
       "   distance_current_to_target  prob_to_go_to_target_mean  \\\n",
       "0                         812                        0.0   \n",
       "1                         811                        0.0   \n",
       "2                         810                        0.0   \n",
       "3                         809                        0.0   \n",
       "4                         808                        0.0   \n",
       "\n",
       "   prob_to_go_to_target_count  \n",
       "0                           1  \n",
       "1                           2  \n",
       "2                           3  \n",
       "3                           4  \n",
       "4                           5  "
      ]
     },
     "execution_count": 38,
     "metadata": {},
     "output_type": "execute_result"
    }
   ],
   "source": [
    "df_grouped.head()"
   ]
  },
  {
   "cell_type": "code",
   "execution_count": 39,
   "metadata": {},
   "outputs": [
    {
     "data": {
      "text/plain": [
       "<AxesSubplot:xlabel='distance_current_to_target', ylabel='prob_to_go_to_target_mean'>"
      ]
     },
     "execution_count": 39,
     "metadata": {},
     "output_type": "execute_result"
    },
    {
     "data": {
      "image/png": "[encoded data removed]",
      "text/plain": [
       "<Figure size 432x288 with 1 Axes>"
      ]
     },
     "metadata": {
      "needs_background": "light"
     },
     "output_type": "display_data"
    }
   ],
   "source": [
    "sns.scatterplot(\n",
    "    data=df_grouped,\n",
    "    x='distance_current_to_target',\n",
    "    y='prob_to_go_to_target_mean',\n",
    "    hue='prob_to_go_to_target_count'\n",
    ")"
   ]
  },
  {
   "cell_type": "code",
   "execution_count": 40,
   "metadata": {},
   "outputs": [],
   "source": [
    "# save to file\n",
    "df_grouped.to_csv(\n",
    "    '../data/eye_tracking_attention/eye_v10/decay_0.1_Salesforce_codegen-16B-multi/data_avg_followup/df_base_all_prob_based_on_distance.csv',\n",
    "    index=False)"
   ]
  },
  {
   "cell_type": "markdown",
   "metadata": {},
   "source": [
    "# Compute followup distance (machine)"
   ]
  },
  {
   "cell_type": "code",
   "execution_count": 4,
   "metadata": {},
   "outputs": [
    {
     "name": "stdout",
     "output_type": "stream",
     "text": [
      "n of data read:  135\n"
     ]
    },
    {
     "name": "stderr",
     "output_type": "stream",
     "text": [
      "100%|██████████| 135/135 [05:25<00:00,  2.41s/it]\n"
     ]
    },
    {
     "data": {
      "text/html": [
       "<div>\n",
       "<style scoped>\n",
       "    .dataframe tbody tr th:only-of-type {\n",
       "        vertical-align: middle;\n",
       "    }\n",
       "\n",
       "    .dataframe tbody tr th {\n",
       "        vertical-align: top;\n",
       "    }\n",
       "\n",
       "    .dataframe thead th {\n",
       "        text-align: right;\n",
       "    }\n",
       "</style>\n",
       "<table border=\"1\" class=\"dataframe\">\n",
       "  <thead>\n",
       "    <tr style=\"text-align: right;\">\n",
       "      <th></th>\n",
       "      <th>unique_data_id</th>\n",
       "      <th>current_token_position</th>\n",
       "      <th>target_position</th>\n",
       "      <th>total_tokens</th>\n",
       "      <th>prob_to_go_to_target</th>\n",
       "      <th>distance_current_to_target</th>\n",
       "      <th>followup_abs_value</th>\n",
       "      <th>total_followup_abs_value</th>\n",
       "    </tr>\n",
       "  </thead>\n",
       "  <tbody>\n",
       "    <tr>\n",
       "      <th>0</th>\n",
       "      <td>Nqueens_Q1.cpp_0_Salesforce_codegen-16B-multi</td>\n",
       "      <td>0</td>\n",
       "      <td>0</td>\n",
       "      <td>625</td>\n",
       "      <td>0.004542</td>\n",
       "      <td>0</td>\n",
       "      <td>32.397919</td>\n",
       "      <td>7132.937012</td>\n",
       "    </tr>\n",
       "    <tr>\n",
       "      <th>1</th>\n",
       "      <td>Nqueens_Q1.cpp_0_Salesforce_codegen-16B-multi</td>\n",
       "      <td>0</td>\n",
       "      <td>1</td>\n",
       "      <td>625</td>\n",
       "      <td>0.002073</td>\n",
       "      <td>1</td>\n",
       "      <td>14.788752</td>\n",
       "      <td>7132.937012</td>\n",
       "    </tr>\n",
       "    <tr>\n",
       "      <th>2</th>\n",
       "      <td>Nqueens_Q1.cpp_0_Salesforce_codegen-16B-multi</td>\n",
       "      <td>0</td>\n",
       "      <td>2</td>\n",
       "      <td>625</td>\n",
       "      <td>0.001885</td>\n",
       "      <td>2</td>\n",
       "      <td>13.445631</td>\n",
       "      <td>7132.937012</td>\n",
       "    </tr>\n",
       "    <tr>\n",
       "      <th>3</th>\n",
       "      <td>Nqueens_Q1.cpp_0_Salesforce_codegen-16B-multi</td>\n",
       "      <td>0</td>\n",
       "      <td>3</td>\n",
       "      <td>625</td>\n",
       "      <td>0.001946</td>\n",
       "      <td>3</td>\n",
       "      <td>13.883986</td>\n",
       "      <td>7132.937012</td>\n",
       "    </tr>\n",
       "    <tr>\n",
       "      <th>4</th>\n",
       "      <td>Nqueens_Q1.cpp_0_Salesforce_codegen-16B-multi</td>\n",
       "      <td>0</td>\n",
       "      <td>4</td>\n",
       "      <td>625</td>\n",
       "      <td>0.002354</td>\n",
       "      <td>4</td>\n",
       "      <td>16.794365</td>\n",
       "      <td>7132.937012</td>\n",
       "    </tr>\n",
       "  </tbody>\n",
       "</table>\n",
       "</div>"
      ],
      "text/plain": [
       "                                  unique_data_id  current_token_position  \\\n",
       "0  Nqueens_Q1.cpp_0_Salesforce_codegen-16B-multi                       0   \n",
       "1  Nqueens_Q1.cpp_0_Salesforce_codegen-16B-multi                       0   \n",
       "2  Nqueens_Q1.cpp_0_Salesforce_codegen-16B-multi                       0   \n",
       "3  Nqueens_Q1.cpp_0_Salesforce_codegen-16B-multi                       0   \n",
       "4  Nqueens_Q1.cpp_0_Salesforce_codegen-16B-multi                       0   \n",
       "\n",
       "   target_position  total_tokens  prob_to_go_to_target  \\\n",
       "0                0           625              0.004542   \n",
       "1                1           625              0.002073   \n",
       "2                2           625              0.001885   \n",
       "3                3           625              0.001946   \n",
       "4                4           625              0.002354   \n",
       "\n",
       "   distance_current_to_target  followup_abs_value  total_followup_abs_value  \n",
       "0                           0           32.397919               7132.937012  \n",
       "1                           1           14.788752               7132.937012  \n",
       "2                           2           13.445631               7132.937012  \n",
       "3                           3           13.883986               7132.937012  \n",
       "4                           4           16.794365               7132.937012  "
      ]
     },
     "execution_count": 4,
     "metadata": {},
     "output_type": "execute_result"
    }
   ],
   "source": [
    "# followup matrices \n",
    "machine_followup_matrices = read_data_in_parallel(\n",
    "    base_folder='../data/model_output/exp_v10/codegen/followup',\n",
    "    file_type_extension='.npy',\n",
    "    read_function=np.load,\n",
    ")\n",
    "\n",
    "# import scipy coo matrix\n",
    "from scipy.sparse import coo_matrix\n",
    "\n",
    "all_coordinates = []\n",
    "# iterate over all the keys and conver the matrices to coordinates format\n",
    "for k in tqdm(machine_followup_matrices.keys()):\n",
    "    m = machine_followup_matrices[k]\n",
    "    # normalize matrices by line, dividing by the sum\n",
    "    # if the sum is 0, then convert to 1 to avoid division by 0\n",
    "    sum_of_each_row = np.sum(m, axis=1)\n",
    "    sum_of_each_row[sum_of_each_row == 0] = 1\n",
    "    norm_m = m / sum_of_each_row[:, None]\n",
    "    # assert that each row must sum to 1\n",
    "    assert np.all([np.isclose(np.sum(norm_m[i, :]), 1) for i in range(m.shape[0])])\n",
    "    # convert to coordinate matrix\n",
    "    norm_m = coo_matrix(norm_m)\n",
    "    #print(f\"key: {k} - shape: {m.shape}\")\n",
    "    # unique_data_id\tcurrent_token_position\ttarget_position\ttotal_tokens\t\n",
    "    # distance_current_to_target\tprob_to_go_to_target\tfollowup_abs_value\ttotal_followup_abs_value\n",
    "    new_coordinates = [\n",
    "        {\n",
    "            'unique_data_id': k,\n",
    "            'current_token_position': row,\n",
    "            'target_position': col,\n",
    "            'total_tokens': norm_m.shape[0],\n",
    "            'prob_to_go_to_target': value,\n",
    "            'distance_current_to_target': col - row,\n",
    "            'followup_abs_value': m[row][col],\n",
    "            'total_followup_abs_value': np.sum(m[row, :]),\n",
    "        } for row, col, value in zip(norm_m.row, norm_m.col, norm_m.data)\n",
    "    ]\n",
    "    all_coordinates.extend(new_coordinates)\n",
    "df_all_followup = pd.DataFrame.from_records(all_coordinates)\n",
    "df_all_followup.head()"
   ]
  },
  {
   "cell_type": "code",
   "execution_count": 5,
   "metadata": {},
   "outputs": [],
   "source": [
    "df_all_followup.to_csv(\n",
    "    '../data/model_output/exp_v10/codegen/df_all_followup_codegen.csv',\n",
    "    index=False\n",
    ")"
   ]
  },
  {
   "cell_type": "markdown",
   "metadata": {},
   "source": [
    "# Compute the same for different matrices"
   ]
  },
  {
   "cell_type": "code",
   "execution_count": 57,
   "metadata": {},
   "outputs": [],
   "source": [
    "def see_base_distribution_of(machine_att_folder):\n",
    "    \"\"\"Plot the average machine attention distribution.\"\"\"\n",
    "    print(f\"machine_att_folder: {machine_att_folder}\")\n",
    "    # read data\n",
    "    matrices = read_data_in_parallel(\n",
    "        base_folder=f'../data/model_output/exp_v10/codegen/{machine_att_folder}',\n",
    "        file_type_extension='.npy',\n",
    "        read_function=np.load,\n",
    "    )\n",
    "\n",
    "    # import scipy coo matrix\n",
    "    from scipy.sparse import coo_matrix\n",
    "\n",
    "    all_coordinates = []\n",
    "    # iterate over all the keys and conver the matrices to coordinates format\n",
    "    for k in tqdm(matrices.keys()):\n",
    "        m = matrices[k]\n",
    "        # normalize matrices by line, dividing by the sum\n",
    "        # if the sum is 0, then convert to 1 to avoid division by 0\n",
    "        sum_of_each_row = np.sum(m, axis=1)\n",
    "        sum_of_each_row[sum_of_each_row == 0] = 1\n",
    "        m = m / sum_of_each_row[:, None]\n",
    "        # assert that each row must sum to 1\n",
    "        assert np.all([np.isclose(np.sum(m[i, :]), 1) for i in range(m.shape[0])])\n",
    "        # convert to coordinate matrix\n",
    "        m = coo_matrix(m)\n",
    "        #print(f\"key: {k} - shape: {m.shape}\")\n",
    "        new_coordinates = [\n",
    "            {\n",
    "                'unique_data_id': k,\n",
    "                'current_token_position': row,\n",
    "                'target_position': col,\n",
    "                'total_tokens': m.shape[0],\n",
    "                'prob_to_go_to_target': value,\n",
    "                'distance_current_to_target': col - row,\n",
    "            } for row, col, value in zip(m.row, m.col, m.data)\n",
    "        ]\n",
    "        all_coordinates.extend(new_coordinates)\n",
    "    df_gauss_all = pd.DataFrame.from_records(all_coordinates)\n",
    "    df_gauss_all.head()\n",
    "\n",
    "    # group by distance current to target and ge the average probability\n",
    "    df_grouped = df_gauss_all.groupby('distance_current_to_target').agg({\n",
    "        \"prob_to_go_to_target\": [\"mean\", \"count\"]})\n",
    "    # collapse the multiindex \n",
    "    # FutureWarning: Index.ravel returning ndarray is deprecated; in a future version this will return a view on self.\n",
    "    df_grouped.columns = df_grouped.columns.to_flat_index()\n",
    "    # normalize column names\n",
    "    df_grouped.columns = ['_'.join(col).strip() for col in df_grouped.columns.values]\n",
    "    df_grouped = df_grouped.reset_index()\n",
    "    # invert the distance\n",
    "    sns.scatterplot(\n",
    "        data=df_grouped,\n",
    "        x='distance_current_to_target',\n",
    "        y='prob_to_go_to_target_mean',\n",
    "        hue='prob_to_go_to_target_count'\n",
    "    )\n",
    "    plt.xlim(-1000, 1000)\n",
    "    plt.title(machine_att_folder)\n",
    "    plt.show()\n",
    "    return df_grouped"
   ]
  },
  {
   "cell_type": "code",
   "execution_count": 58,
   "metadata": {},
   "outputs": [
    {
     "name": "stdout",
     "output_type": "stream",
     "text": [
      "machine_att_folder: att_gaussian_neighbors_30\n",
      "n of data read:  135\n"
     ]
    },
    {
     "name": "stderr",
     "output_type": "stream",
     "text": [
      "100%|██████████| 135/135 [00:16<00:00,  7.96it/s]\n"
     ]
    },
    {
     "data": {
      "image/png": "[encoded data removed]",
      "text/plain": [
       "<Figure size 432x288 with 1 Axes>"
      ]
     },
     "metadata": {
      "needs_background": "light"
     },
     "output_type": "display_data"
    },
    {
     "name": "stdout",
     "output_type": "stream",
     "text": [
      "machine_att_folder: followup\n",
      "n of data read:  135\n"
     ]
    },
    {
     "name": "stderr",
     "output_type": "stream",
     "text": [
      "100%|██████████| 135/135 [00:54<00:00,  2.48it/s]\n"
     ]
    },
    {
     "data": {
      "image/png": "[encoded data removed]",
      "text/plain": [
       "<Figure size 432x288 with 1 Axes>"
      ]
     },
     "metadata": {
      "needs_background": "light"
     },
     "output_type": "display_data"
    },
    {
     "name": "stdout",
     "output_type": "stream",
     "text": [
      "machine_att_folder: naive_max\n",
      "n of data read:  135\n"
     ]
    },
    {
     "name": "stderr",
     "output_type": "stream",
     "text": [
      "100%|██████████| 135/135 [00:29<00:00,  4.63it/s]\n"
     ]
    },
    {
     "data": {
      "image/png": "[encoded data removed]",
      "text/plain": [
       "<Figure size 432x288 with 1 Axes>"
      ]
     },
     "metadata": {
      "needs_background": "light"
     },
     "output_type": "display_data"
    },
    {
     "name": "stdout",
     "output_type": "stream",
     "text": [
      "machine_att_folder: rollout_condensed_all\n",
      "n of data read:  135\n"
     ]
    },
    {
     "name": "stderr",
     "output_type": "stream",
     "text": [
      "100%|██████████| 135/135 [00:28<00:00,  4.70it/s]\n"
     ]
    },
    {
     "data": {
      "image/png": "[encoded data removed]",
      "text/plain": [
       "<Figure size 432x288 with 1 Axes>"
      ]
     },
     "metadata": {
      "needs_background": "light"
     },
     "output_type": "display_data"
    }
   ],
   "source": [
    "all_base_distrib = {}\n",
    "\n",
    "folders_to_see = [\n",
    "    'att_gaussian_neighbors_30',\n",
    "    'followup',\n",
    "    'naive_max',\n",
    "    'rollout_condensed_all',\n",
    "]\n",
    "\n",
    "for folder in folders_to_see:\n",
    "    all_base_distrib[folder] = see_base_distribution_of(machine_att_folder=folder)"
   ]
  },
  {
   "cell_type": "code",
   "execution_count": 59,
   "metadata": {},
   "outputs": [
    {
     "data": {
      "text/plain": [
       "array([1., 1., 1., 1., 1., 1., 1., 1., 1., 1., 1., 1., 1., 1., 1., 1., 1.,\n",
       "       1., 1., 1.])"
      ]
     },
     "execution_count": 59,
     "metadata": {},
     "output_type": "execute_result"
    }
   ],
   "source": [
    "np.ones(20)"
   ]
  },
  {
   "cell_type": "code",
   "execution_count": 60,
   "metadata": {},
   "outputs": [],
   "source": [
    "df_full_modeling = pd.read_csv('../data/eye_tracking_attention/eye_v10/decay_0.1_Salesforce_codegen-16B-multi/data_avg_followup/baseline_ground_truth.csv')"
   ]
  },
  {
   "cell_type": "code",
   "execution_count": 71,
   "metadata": {},
   "outputs": [
    {
     "data": {
      "text/html": [
       "<div>\n",
       "<style scoped>\n",
       "    .dataframe tbody tr th:only-of-type {\n",
       "        vertical-align: middle;\n",
       "    }\n",
       "\n",
       "    .dataframe tbody tr th {\n",
       "        vertical-align: top;\n",
       "    }\n",
       "\n",
       "    .dataframe thead th {\n",
       "        text-align: right;\n",
       "    }\n",
       "</style>\n",
       "<table border=\"1\" class=\"dataframe\">\n",
       "  <thead>\n",
       "    <tr style=\"text-align: right;\">\n",
       "      <th></th>\n",
       "      <th>current_token_position</th>\n",
       "      <th>total_tokens</th>\n",
       "      <th>target_position</th>\n",
       "      <th>p_target</th>\n",
       "    </tr>\n",
       "  </thead>\n",
       "  <tbody>\n",
       "    <tr>\n",
       "      <th>8551</th>\n",
       "      <td>0</td>\n",
       "      <td>693</td>\n",
       "      <td>0</td>\n",
       "      <td>0.007267</td>\n",
       "    </tr>\n",
       "    <tr>\n",
       "      <th>8552</th>\n",
       "      <td>1</td>\n",
       "      <td>693</td>\n",
       "      <td>0</td>\n",
       "      <td>0.000782</td>\n",
       "    </tr>\n",
       "    <tr>\n",
       "      <th>8553</th>\n",
       "      <td>2</td>\n",
       "      <td>693</td>\n",
       "      <td>0</td>\n",
       "      <td>0.000744</td>\n",
       "    </tr>\n",
       "    <tr>\n",
       "      <th>8554</th>\n",
       "      <td>3</td>\n",
       "      <td>693</td>\n",
       "      <td>0</td>\n",
       "      <td>0.000723</td>\n",
       "    </tr>\n",
       "    <tr>\n",
       "      <th>8555</th>\n",
       "      <td>4</td>\n",
       "      <td>693</td>\n",
       "      <td>0</td>\n",
       "      <td>0.000709</td>\n",
       "    </tr>\n",
       "  </tbody>\n",
       "</table>\n",
       "</div>"
      ],
      "text/plain": [
       "      current_token_position  total_tokens  target_position  p_target\n",
       "8551                       0           693                0  0.007267\n",
       "8552                       1           693                0  0.000782\n",
       "8553                       2           693                0  0.000744\n",
       "8554                       3           693                0  0.000723\n",
       "8555                       4           693                0  0.000709"
      ]
     },
     "execution_count": 71,
     "metadata": {},
     "output_type": "execute_result"
    }
   ],
   "source": [
    "df_full_modeling[\n",
    "    (df_full_modeling['total_tokens'] == 693)\n",
    "].head()"
   ]
  },
  {
   "cell_type": "code",
   "execution_count": 62,
   "metadata": {},
   "outputs": [
    {
     "data": {
      "text/html": [
       "<div>\n",
       "<style scoped>\n",
       "    .dataframe tbody tr th:only-of-type {\n",
       "        vertical-align: middle;\n",
       "    }\n",
       "\n",
       "    .dataframe tbody tr th {\n",
       "        vertical-align: top;\n",
       "    }\n",
       "\n",
       "    .dataframe thead th {\n",
       "        text-align: right;\n",
       "    }\n",
       "</style>\n",
       "<table border=\"1\" class=\"dataframe\">\n",
       "  <thead>\n",
       "    <tr style=\"text-align: right;\">\n",
       "      <th></th>\n",
       "      <th>unique_data_id</th>\n",
       "      <th>current_token_position</th>\n",
       "      <th>target_position</th>\n",
       "      <th>total_tokens</th>\n",
       "      <th>distance_current_to_target</th>\n",
       "      <th>prob_to_go_to_target</th>\n",
       "      <th>followup_abs_value</th>\n",
       "      <th>total_followup_abs_value</th>\n",
       "    </tr>\n",
       "  </thead>\n",
       "  <tbody>\n",
       "  </tbody>\n",
       "</table>\n",
       "</div>"
      ],
      "text/plain": [
       "Empty DataFrame\n",
       "Columns: [unique_data_id, current_token_position, target_position, total_tokens, distance_current_to_target, prob_to_go_to_target, followup_abs_value, total_followup_abs_value]\n",
       "Index: []"
      ]
     },
     "execution_count": 62,
     "metadata": {},
     "output_type": "execute_result"
    }
   ],
   "source": [
    "df_followup[\n",
    "    (df_followup['total_tokens'] == 690)\n",
    "].head()"
   ]
  },
  {
   "cell_type": "code",
   "execution_count": 64,
   "metadata": {},
   "outputs": [
    {
     "name": "stdout",
     "output_type": "stream",
     "text": [
      "n of data read:  135\n"
     ]
    }
   ],
   "source": [
    "followup_matrices = read_data_in_parallel(\n",
    "        base_folder=f'../data/model_output/exp_v10/codegen/followup',\n",
    "        file_type_extension='.npy',\n",
    "        read_function=np.load,\n",
    "    )"
   ]
  },
  {
   "cell_type": "code",
   "execution_count": 70,
   "metadata": {},
   "outputs": [
    {
     "name": "stdout",
     "output_type": "stream",
     "text": [
      "key: 0480e5 - shape: (507, 507)\n",
      "key: 08147e - shape: (518, 518)\n",
      "key: 09601c - shape: (692, 692)\n",
      "key: 0d7601 - shape: (216, 216)\n",
      "key: 1181b7 - shape: (756, 756)\n",
      "key: 155d45 - shape: (292, 292)\n",
      "key: 161f21 - shape: (768, 768)\n",
      "key: 1d5b6a - shape: (283, 283)\n",
      "key: 2babb5 - shape: (518, 518)\n",
      "key: 300bd1 - shape: (292, 292)\n",
      "key: 38606b - shape: (611, 611)\n",
      "key: 3b0e57 - shape: (693, 693)\n",
      "key: 3b39e2 - shape: (722, 722)\n",
      "key: 3d9b54 - shape: (216, 216)\n",
      "key: 3e474f - shape: (450, 450)\n",
      "key: 4022a9 - shape: (283, 283)\n",
      "key: 403482 - shape: (599, 599)\n",
      "key: 43e18c - shape: (611, 611)\n",
      "key: 448383 - shape: (611, 611)\n",
      "key: 44d4f6 - shape: (292, 292)\n",
      "key: 44e060 - shape: (519, 519)\n",
      "key: 4a262b - shape: (756, 756)\n",
      "key: 4a5896 - shape: (622, 622)\n",
      "key: 4c260d - shape: (756, 756)\n",
      "key: 500208 - shape: (518, 518)\n",
      "key: 5403f5 - shape: (226, 226)\n",
      "key: 545804 - shape: (721, 721)\n",
      "key: 548472 - shape: (283, 283)\n",
      "key: 56f44e - shape: (635, 635)\n",
      "key: 5a70af - shape: (507, 507)\n",
      "key: 5bf279 - shape: (725, 725)\n",
      "key: 639da1 - shape: (730, 730)\n",
      "key: 653139 - shape: (720, 720)\n",
      "key: 6695fa - shape: (307, 307)\n",
      "key: 675fc1 - shape: (519, 519)\n",
      "key: 6831ef - shape: (720, 720)\n",
      "key: 7740fd - shape: (693, 693)\n",
      "key: 7a600a - shape: (725, 725)\n",
      "key: 81a0b9 - shape: (518, 518)\n",
      "key: 842f7a - shape: (730, 730)\n",
      "key: 88a0ee - shape: (624, 624)\n",
      "key: 88a31c - shape: (518, 518)\n",
      "key: 93d2e1 - shape: (624, 624)\n",
      "key: 95024d - shape: (226, 226)\n",
      "key: 97a19f - shape: (518, 518)\n",
      "key: 98a211 - shape: (611, 611)\n",
      "key: 9bcda0 - shape: (725, 725)\n",
      "key: 9e5778 - shape: (611, 611)\n",
      "key: 9fd0c1 - shape: (226, 226)\n",
      "key: a4a47a - shape: (813, 813)\n",
      "key: ab1e99 - shape: (599, 599)\n",
      "key: ab3a90 - shape: (283, 283)\n",
      "key: aecca4 - shape: (518, 518)\n",
      "key: afc047 - shape: (216, 216)\n",
      "key: b0172f - shape: (292, 292)\n",
      "key: b3a349 - shape: (307, 307)\n",
      "key: b595bc - shape: (725, 725)\n",
      "key: b5c173 - shape: (599, 599)\n",
      "key: b6cb6e - shape: (518, 518)\n",
      "key: b7971a - shape: (292, 292)\n",
      "key: b7c85e - shape: (730, 730)\n",
      "key: b84310 - shape: (518, 518)\n",
      "key: b8a651 - shape: (725, 725)\n",
      "key: b93c2f - shape: (756, 756)\n",
      "key: bda0b1 - shape: (622, 622)\n",
      "key: be9283 - shape: (623, 623)\n",
      "key: bf760e - shape: (716, 716)\n",
      "key: c35fdf - shape: (292, 292)\n",
      "key: c46e6d - shape: (307, 307)\n",
      "key: c46f82 - shape: (239, 239)\n",
      "key: c6d8ff - shape: (216, 216)\n",
      "key: c7ca22 - shape: (693, 693)\n",
      "key: cbdc06 - shape: (611, 611)\n",
      "key: d214ff - shape: (239, 239)\n",
      "key: d27bf6 - shape: (518, 518)\n",
      "key: d3a4b4 - shape: (622, 622)\n",
      "key: d401e5 - shape: (768, 768)\n",
      "key: d41dd8 - shape: (756, 756)\n",
      "key: d485dd - shape: (730, 730)\n",
      "key: d86a8d - shape: (768, 768)\n",
      "key: dc14ad - shape: (519, 519)\n",
      "key: debcce - shape: (518, 518)\n",
      "key: df2957 - shape: (519, 519)\n",
      "key: df7ddd - shape: (623, 623)\n",
      "key: e0495f - shape: (599, 599)\n",
      "key: e33aac - shape: (588, 588)\n",
      "key: e63ddf - shape: (283, 283)\n",
      "key: e84aa9 - shape: (760, 760)\n",
      "key: f4bbec - shape: (292, 292)\n",
      "key: f5e35b - shape: (730, 730)\n",
      "key: f7b913 - shape: (624, 624)\n",
      "key: f936ca - shape: (720, 720)\n"
     ]
    }
   ],
   "source": [
    "for k, m in ground_truth_matrices.items():\n",
    "    print(f\"key: {k} - shape: {m.shape}\")\n",
    "    if m.shape[0] == 690:\n",
    "        break "
   ]
  },
  {
   "cell_type": "code",
   "execution_count": null,
   "metadata": {},
   "outputs": [],
   "source": []
  }
 ],
 "metadata": {
  "kernelspec": {
   "display_name": "Python 3.8.9 ('venv': venv)",
   "language": "python",
   "name": "python3"
  },
  "language_info": {
   "codemirror_mode": {
    "name": "ipython",
    "version": 3
   },
   "file_extension": ".py",
   "mimetype": "text/x-python",
   "name": "python",
   "nbconvert_exporter": "python",
   "pygments_lexer": "ipython3",
   "version": "3.8.9"
  },
  "orig_nbformat": 4,
  "vscode": {
   "interpreter": {
    "hash": "cdbdd4cf7f5282af921e9e9f8e89536c1a615a288e4742df81a89abd7b1a94fe"
   }
  }
 },
 "nbformat": 4,
 "nbformat_minor": 2
}
