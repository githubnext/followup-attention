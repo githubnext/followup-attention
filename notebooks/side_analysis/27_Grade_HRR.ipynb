{
 "cells": [
  {
   "cell_type": "code",
   "execution_count": 1,
   "metadata": {},
   "outputs": [],
   "source": [
    "import project_path\n",
    "import pandas as pd\n",
    "import numpy as np\n",
    "import matplotlib.pyplot as plt\n",
    "import seaborn as sns\n",
    "import os\n",
    "import sys"
   ]
  },
  {
   "cell_type": "code",
   "execution_count": 2,
   "metadata": {},
   "outputs": [],
   "source": [
    "%load_ext autoreload\n",
    "%autoreload 2"
   ]
  },
  {
   "cell_type": "code",
   "execution_count": 3,
   "metadata": {},
   "outputs": [],
   "source": [
    "from attwizard.script.utils import load_json_file"
   ]
  },
  {
   "cell_type": "markdown",
   "metadata": {},
   "source": [
    "**Goal**:\n",
    "1. create a dataset with the submitted/approved users (e.g. workerId, task name, submission_time, randomcode, google form score of first submission, approved column, etc.)\n",
    "1. derive a the intermediate char events form the main task of the users in the dataset"
   ]
  },
  {
   "cell_type": "markdown",
   "metadata": {},
   "source": [
    "# Dataset Creation"
   ]
  },
  {
   "cell_type": "code",
   "execution_count": 4,
   "metadata": {},
   "outputs": [],
   "source": [
    "EXP_NAME = \"hum_v06\"\n",
    "AMTURK_DOWNLOADABLE_CSV = \"Batch_4818333_batch_results.csv\""
   ]
  },
  {
   "cell_type": "code",
   "execution_count": 6,
   "metadata": {},
   "outputs": [
    {
     "name": "stdout",
     "output_type": "stream",
     "text": [
      "../data/hrr/hum_v06/user_evaluation/user_summary/ALPE04K0ED0RZ.csv is empty\n"
     ]
    },
    {
     "data": {
      "text/html": [
       "<div>\n",
       "<style scoped>\n",
       "    .dataframe tbody tr th:only-of-type {\n",
       "        vertical-align: middle;\n",
       "    }\n",
       "\n",
       "    .dataframe tbody tr th {\n",
       "        vertical-align: top;\n",
       "    }\n",
       "\n",
       "    .dataframe thead th {\n",
       "        text-align: right;\n",
       "    }\n",
       "</style>\n",
       "<table border=\"1\" class=\"dataframe\">\n",
       "  <thead>\n",
       "    <tr style=\"text-align: right;\">\n",
       "      <th></th>\n",
       "      <th>nickname</th>\n",
       "      <th>approved</th>\n",
       "      <th>message</th>\n",
       "      <th>reason</th>\n",
       "    </tr>\n",
       "  </thead>\n",
       "  <tbody>\n",
       "    <tr>\n",
       "      <th>0</th>\n",
       "      <td>AYSTMCRE2AE7T</td>\n",
       "      <td>True</td>\n",
       "      <td>Approved. Good Job.</td>\n",
       "      <td>average_time_per_task: 842.5496666666667, min_...</td>\n",
       "    </tr>\n",
       "    <tr>\n",
       "      <th>1</th>\n",
       "      <td>A3QXI7YJY3WS4K</td>\n",
       "      <td>False</td>\n",
       "      <td>You spent too little time to be compatible wit...</td>\n",
       "      <td>average_time_per_task: 119.20333333333333, min...</td>\n",
       "    </tr>\n",
       "    <tr>\n",
       "      <th>2</th>\n",
       "      <td>A392YUIHKW8SFN</td>\n",
       "      <td>False</td>\n",
       "      <td>Your first submission to the warm-up task cont...</td>\n",
       "      <td>survey_score: 5</td>\n",
       "    </tr>\n",
       "    <tr>\n",
       "      <th>3</th>\n",
       "      <td>A3GUC6GIB2HKZB</td>\n",
       "      <td>False</td>\n",
       "      <td>Your first submission to the warm-up task cont...</td>\n",
       "      <td>survey_score: 3</td>\n",
       "    </tr>\n",
       "    <tr>\n",
       "      <th>4</th>\n",
       "      <td>A3GS427QFCU7IZ</td>\n",
       "      <td>False</td>\n",
       "      <td>Your first submission to the warm-up task cont...</td>\n",
       "      <td>survey_score: 1</td>\n",
       "    </tr>\n",
       "    <tr>\n",
       "      <th>5</th>\n",
       "      <td>A2P2GJ3TLYTWW3</td>\n",
       "      <td>False</td>\n",
       "      <td>You spent too little time to be compatible wit...</td>\n",
       "      <td>average_time_per_task: 119.76299999999999, min...</td>\n",
       "    </tr>\n",
       "    <tr>\n",
       "      <th>6</th>\n",
       "      <td>A2CA27PX9YR73X</td>\n",
       "      <td>False</td>\n",
       "      <td>Your first submission to the warm-up task cont...</td>\n",
       "      <td>survey_score: 3</td>\n",
       "    </tr>\n",
       "    <tr>\n",
       "      <th>7</th>\n",
       "      <td>A371SNJNNUY9Z6</td>\n",
       "      <td>False</td>\n",
       "      <td>Some questions of the main task (if not all) w...</td>\n",
       "      <td>answers:  How would you expect the run time of...</td>\n",
       "    </tr>\n",
       "    <tr>\n",
       "      <th>8</th>\n",
       "      <td>A17IPELR5NC2LZ</td>\n",
       "      <td>False</td>\n",
       "      <td>Your first submission to the warm-up task cont...</td>\n",
       "      <td>survey_score: 5</td>\n",
       "    </tr>\n",
       "    <tr>\n",
       "      <th>9</th>\n",
       "      <td>A2TEPB7EVBFEZR</td>\n",
       "      <td>False</td>\n",
       "      <td>Some questions of the main task (if not all) w...</td>\n",
       "      <td>answers:  Which is the base case of the algori...</td>\n",
       "    </tr>\n",
       "    <tr>\n",
       "      <th>10</th>\n",
       "      <td>A16HPI1KY7EIO6</td>\n",
       "      <td>False</td>\n",
       "      <td>Your first submission to the warm-up task cont...</td>\n",
       "      <td>survey_score: 3</td>\n",
       "    </tr>\n",
       "    <tr>\n",
       "      <th>11</th>\n",
       "      <td>A1YFA3HQGD93R</td>\n",
       "      <td>False</td>\n",
       "      <td>Your first submission to the warm-up task cont...</td>\n",
       "      <td>survey_score: 6</td>\n",
       "    </tr>\n",
       "    <tr>\n",
       "      <th>12</th>\n",
       "      <td>A77YYQ35GWQ4S</td>\n",
       "      <td>False</td>\n",
       "      <td>Your first submission to the warm-up task cont...</td>\n",
       "      <td>survey_score: 5</td>\n",
       "    </tr>\n",
       "    <tr>\n",
       "      <th>13</th>\n",
       "      <td>ACC67C294M03Q</td>\n",
       "      <td>False</td>\n",
       "      <td>Your first submission to the warm-up task cont...</td>\n",
       "      <td>survey_score: 5</td>\n",
       "    </tr>\n",
       "    <tr>\n",
       "      <th>14</th>\n",
       "      <td>A21UJGH4E9LLA7</td>\n",
       "      <td>False</td>\n",
       "      <td>Your first submission to the warm-up task cont...</td>\n",
       "      <td>survey_score: 2</td>\n",
       "    </tr>\n",
       "    <tr>\n",
       "      <th>15</th>\n",
       "      <td>A2COCSUGZV28X</td>\n",
       "      <td>True</td>\n",
       "      <td>Approved. Good Job.</td>\n",
       "      <td>average_time_per_task: 411.519, min_time_per_t...</td>\n",
       "    </tr>\n",
       "    <tr>\n",
       "      <th>16</th>\n",
       "      <td>A2ATMJRPF86PSM</td>\n",
       "      <td>True</td>\n",
       "      <td>Approved. Good Job.</td>\n",
       "      <td>average_time_per_task: 205.44333333333336, min...</td>\n",
       "    </tr>\n",
       "    <tr>\n",
       "      <th>17</th>\n",
       "      <td>A2MEF2PMF5YZ0X</td>\n",
       "      <td>True</td>\n",
       "      <td>Approved. Good Job.</td>\n",
       "      <td>average_time_per_task: 183.05166666666665, min...</td>\n",
       "    </tr>\n",
       "    <tr>\n",
       "      <th>18</th>\n",
       "      <td>A2P5TZOFBLWU2Q</td>\n",
       "      <td>False</td>\n",
       "      <td>Your first submission to the warm-up task cont...</td>\n",
       "      <td>survey_score: 4</td>\n",
       "    </tr>\n",
       "    <tr>\n",
       "      <th>19</th>\n",
       "      <td>A3N9CPYZPX7OZE</td>\n",
       "      <td>False</td>\n",
       "      <td>Your first submission to the warm-up task cont...</td>\n",
       "      <td>survey_score: 4</td>\n",
       "    </tr>\n",
       "  </tbody>\n",
       "</table>\n",
       "</div>"
      ],
      "text/plain": [
       "          nickname  approved  \\\n",
       "0    AYSTMCRE2AE7T      True   \n",
       "1   A3QXI7YJY3WS4K     False   \n",
       "2   A392YUIHKW8SFN     False   \n",
       "3   A3GUC6GIB2HKZB     False   \n",
       "4   A3GS427QFCU7IZ     False   \n",
       "5   A2P2GJ3TLYTWW3     False   \n",
       "6   A2CA27PX9YR73X     False   \n",
       "7   A371SNJNNUY9Z6     False   \n",
       "8   A17IPELR5NC2LZ     False   \n",
       "9   A2TEPB7EVBFEZR     False   \n",
       "10  A16HPI1KY7EIO6     False   \n",
       "11   A1YFA3HQGD93R     False   \n",
       "12   A77YYQ35GWQ4S     False   \n",
       "13   ACC67C294M03Q     False   \n",
       "14  A21UJGH4E9LLA7     False   \n",
       "15   A2COCSUGZV28X      True   \n",
       "16  A2ATMJRPF86PSM      True   \n",
       "17  A2MEF2PMF5YZ0X      True   \n",
       "18  A2P5TZOFBLWU2Q     False   \n",
       "19  A3N9CPYZPX7OZE     False   \n",
       "\n",
       "                                              message  \\\n",
       "0                                 Approved. Good Job.   \n",
       "1   You spent too little time to be compatible wit...   \n",
       "2   Your first submission to the warm-up task cont...   \n",
       "3   Your first submission to the warm-up task cont...   \n",
       "4   Your first submission to the warm-up task cont...   \n",
       "5   You spent too little time to be compatible wit...   \n",
       "6   Your first submission to the warm-up task cont...   \n",
       "7   Some questions of the main task (if not all) w...   \n",
       "8   Your first submission to the warm-up task cont...   \n",
       "9   Some questions of the main task (if not all) w...   \n",
       "10  Your first submission to the warm-up task cont...   \n",
       "11  Your first submission to the warm-up task cont...   \n",
       "12  Your first submission to the warm-up task cont...   \n",
       "13  Your first submission to the warm-up task cont...   \n",
       "14  Your first submission to the warm-up task cont...   \n",
       "15                                Approved. Good Job.   \n",
       "16                                Approved. Good Job.   \n",
       "17                                Approved. Good Job.   \n",
       "18  Your first submission to the warm-up task cont...   \n",
       "19  Your first submission to the warm-up task cont...   \n",
       "\n",
       "                                               reason  \n",
       "0   average_time_per_task: 842.5496666666667, min_...  \n",
       "1   average_time_per_task: 119.20333333333333, min...  \n",
       "2                                     survey_score: 5  \n",
       "3                                     survey_score: 3  \n",
       "4                                     survey_score: 1  \n",
       "5   average_time_per_task: 119.76299999999999, min...  \n",
       "6                                     survey_score: 3  \n",
       "7   answers:  How would you expect the run time of...  \n",
       "8                                     survey_score: 5  \n",
       "9   answers:  Which is the base case of the algori...  \n",
       "10                                    survey_score: 3  \n",
       "11                                    survey_score: 6  \n",
       "12                                    survey_score: 5  \n",
       "13                                    survey_score: 5  \n",
       "14                                    survey_score: 2  \n",
       "15  average_time_per_task: 411.519, min_time_per_t...  \n",
       "16  average_time_per_task: 205.44333333333336, min...  \n",
       "17  average_time_per_task: 183.05166666666665, min...  \n",
       "18                                    survey_score: 4  \n",
       "19                                    survey_score: 4  "
      ]
     },
     "execution_count": 6,
     "metadata": {},
     "output_type": "execute_result"
    }
   ],
   "source": [
    "from hrr.validator import evaluate_user\n",
    "from pandas.errors import EmptyDataError\n",
    "\n",
    "user_summary_dir = f\"../data/hrr/{EXP_NAME}/user_evaluation/user_summary\"\n",
    "all_csv_files = [\n",
    "    os.path.join(user_summary_dir, f)\n",
    "    for f in os.listdir(user_summary_dir)\n",
    "    if f.endswith(\".csv\")\n",
    "]\n",
    "\n",
    "all_dfs = []\n",
    "for f in all_csv_files:\n",
    "    try: \n",
    "        df = pd.read_csv(f)\n",
    "        all_dfs.append(df)\n",
    "    except EmptyDataError as e:\n",
    "        print(f\"{f} is empty\")\n",
    "decisions = []\n",
    "for df_user in all_dfs:\n",
    "    nickname = df_user[\"nickname\"].iloc[0]\n",
    "    decision_dict = evaluate_user(df_user)\n",
    "    #print(f\"{nickname} | Accepted: {decision} {message}\")\n",
    "    decisions.append({\n",
    "        \"nickname\": nickname,\n",
    "        **decision_dict\n",
    "    })\n",
    "\n",
    "df_all = pd.DataFrame.from_records(decisions)\n",
    "df_all.head(20)"
   ]
  },
  {
   "cell_type": "code",
   "execution_count": 7,
   "metadata": {},
   "outputs": [
    {
     "data": {
      "text/plain": [
       "<AxesSubplot:xlabel='approved', ylabel='count'>"
      ]
     },
     "execution_count": 7,
     "metadata": {},
     "output_type": "execute_result"
    },
    {
     "data": {
      "image/png": "[encoded data removed]",
      "text/plain": [
       "<Figure size 432x288 with 1 Axes>"
      ]
     },
     "metadata": {
      "needs_background": "light"
     },
     "output_type": "display_data"
    }
   ],
   "source": [
    "import seaborn as sns\n",
    "sns.countplot(x=\"approved\", data=df_all)"
   ]
  },
  {
   "cell_type": "code",
   "execution_count": 8,
   "metadata": {},
   "outputs": [
    {
     "data": {
      "text/plain": [
       "<AxesSubplot:xlabel='count', ylabel='message'>"
      ]
     },
     "execution_count": 8,
     "metadata": {},
     "output_type": "execute_result"
    },
    {
     "data": {
      "image/png": "[encoded data removed]",
      "text/plain": [
       "<Figure size 432x288 with 1 Axes>"
      ]
     },
     "metadata": {
      "needs_background": "light"
     },
     "output_type": "display_data"
    }
   ],
   "source": [
    "df_rejected = df_all[df_all[\"approved\"] == False]\n",
    "df_approved = df_all[df_all[\"approved\"] == True]\n",
    "\n",
    "sns.countplot(\n",
    "    data=df_rejected,\n",
    "    y=\"message\",\n",
    ")"
   ]
  },
  {
   "cell_type": "markdown",
   "metadata": {},
   "source": [
    "## Inspect data"
   ]
  },
  {
   "cell_type": "code",
   "execution_count": 9,
   "metadata": {},
   "outputs": [
    {
     "name": "stdout",
     "output_type": "stream",
     "text": [
      "****************************************************************************************************\n",
      "Approved. Good Job.\n",
      "====================================================================================================\n",
      "AYSTMCRE2AE7T\n",
      "True\n",
      "Approved. Good Job.\n",
      "average_time_per_task: 842.5496666666667, min_time_per_task: 496.638 : [{'randomcode': '5d8d12319d5ef611fe978d93c5bca73c', 'openedPageDatetime': Timestamp('2022-09-05 21:27:16.253000'), 'completejsexecution': 1, 'completed': True, 'task_duration_seconds': 496.638}, {'randomcode': '5d8d12319d5ef611fe978d93c5bca73c', 'openedPageDatetime': Timestamp('2022-09-05 21:36:02.687000'), 'completejsexecution': 1, 'completed': True, 'task_duration_seconds': 762.54}, {'randomcode': '5d8d12319d5ef611fe978d93c5bca73c', 'openedPageDatetime': Timestamp('2022-09-05 21:05:26.321000'), 'completejsexecution': 1, 'completed': True, 'task_duration_seconds': 1268.471}]answers:  What are valid dimensions and values for the array `board`?  - # Answer:1,1; 2,3;3,2;4,4                                                                             \n",
      " How does the algorithm moves disks from the starting rod to the ending rod?  - # Answer the aux_rod aways receive the smaller and passes it to from_rod until the first recursivity stops, when both changes places                                                                   \n",
      " Which of the functions have side effects (namely it modifies some state variable value outside its local environment?  - # Answer:order                                                                             \n",
      "====================================================================================================\n",
      "A2COCSUGZV28X\n",
      "True\n",
      "Approved. Good Job.\n",
      "average_time_per_task: 411.519, min_time_per_task: 166.152 : [{'randomcode': '6e25186fb7df809b571f6f9ef528cd6f', 'openedPageDatetime': Timestamp('2022-09-06 03:13:01.939000'), 'completejsexecution': 1, 'completed': True, 'task_duration_seconds': 243.709}, {'randomcode': '6e25186fb7df809b571f6f9ef528cd6f', 'openedPageDatetime': Timestamp('2022-09-06 03:21:24.509000'), 'completejsexecution': 1, 'completed': True, 'task_duration_seconds': 824.696}, {'randomcode': '6e25186fb7df809b571f6f9ef528cd6f', 'openedPageDatetime': Timestamp('2022-09-06 03:18:22.144000'), 'completejsexecution': 1, 'completed': True, 'task_duration_seconds': 166.152}]answers:  is it possible that consumer and producers threads end up in a deadlock state, namely they both wait for each other to finish, but none of them is doing anything?  - #Yes, based on the random number:                                                                             \n",
      " Which output will you get for the three points [1, 2], [1, 3], and [1, 4]?  - #Triangle is Isocles isosceles and right:                                                                             \n",
      " How many calls to `constructTreeUtil` will `constructTree([1, 2, 3], [ 1, 2, 3], 2)` make?  - # A9nswer:                                                                             \n",
      "====================================================================================================\n",
      "A2ATMJRPF86PSM\n",
      "True\n",
      "Approved. Good Job.\n",
      "average_time_per_task: 205.44333333333336, min_time_per_task: 145.097 : [{'randomcode': 'fe0517cfc78698943cadd3145729b768', 'openedPageDatetime': Timestamp('2022-09-05 20:06:49.624000'), 'completejsexecution': 1, 'completed': True, 'task_duration_seconds': 191.361}, {'randomcode': 'fe0517cfc78698943cadd3145729b768', 'openedPageDatetime': Timestamp('2022-09-05 20:10:10.671000'), 'completejsexecution': 1, 'completed': True, 'task_duration_seconds': 279.872}, {'randomcode': 'fe0517cfc78698943cadd3145729b768', 'openedPageDatetime': Timestamp('2022-09-05 20:15:01.996000'), 'completejsexecution': 1, 'completed': True, 'task_duration_seconds': 145.097}]answers:  How would you expect the run time of `solveNQ(n)` to scale with `n`?  - Solution does not exist                                                                           \n",
      " Which is the base case of the algorithm?  - A tower of one disk                                                                       \n",
      " is it possible that consumer and producers threads end up in a deadlock state, namely they both wait for each other to finish, but none of them is doing anything?  - Yes, Deadlock will occur                                                                         \n",
      "====================================================================================================\n",
      "A2MEF2PMF5YZ0X\n",
      "True\n",
      "Approved. Good Job.\n",
      "average_time_per_task: 183.05166666666665, min_time_per_task: 94.217 : [{'randomcode': '387bead44bece350b6bbdaffaa22b367', 'openedPageDatetime': Timestamp('2022-09-08 21:54:15.752000'), 'completejsexecution': 1, 'completed': True, 'task_duration_seconds': 164.975}, {'randomcode': '387bead44bece350b6bbdaffaa22b367', 'openedPageDatetime': Timestamp('2022-09-08 21:46:50.789000'), 'completejsexecution': 1, 'completed': True, 'task_duration_seconds': 94.217}, {'randomcode': '387bead44bece350b6bbdaffaa22b367', 'openedPageDatetime': Timestamp('2022-09-08 21:48:59.317000'), 'completejsexecution': 1, 'completed': True, 'task_duration_seconds': 289.963}]answers:  How many calls to `constructTreeUtil` will `constructTree([1, 2, 3], [ 1, 2, 3], 2)` make?  - # Answer:  2                                                                           \n",
      " which is the name of the auxiliary rod in the call TowerOfHanoi(n, 'Mark', 'Mat', 'Luke')?  - # Answer: 'Luke'                                                                            \n",
      " is there any line of code in the consumer or producer code which will never be executed? If yes, report it below.  - # Answer:   The init (constructor) function for the  ProducerThread function                                                                          \n",
      "====================================================================================================\n",
      "A2D749IVOS2YZ4\n",
      "True\n",
      "Approved. Good Job.\n",
      "average_time_per_task: 168.49866666666665, min_time_per_task: 108.193 : [{'randomcode': '30b459c6a50e4e36b3b6f63f5ec8a3e8', 'openedPageDatetime': Timestamp('2022-09-05 21:06:52.689000'), 'completejsexecution': 1, 'completed': True, 'task_duration_seconds': 108.877}, {'randomcode': '30b459c6a50e4e36b3b6f63f5ec8a3e8', 'openedPageDatetime': Timestamp('2022-09-05 21:04:45.829000'), 'completejsexecution': 1, 'completed': True, 'task_duration_seconds': 108.193}, {'randomcode': '30b459c6a50e4e36b3b6f63f5ec8a3e8', 'openedPageDatetime': Timestamp('2022-09-05 20:58:56.293000'), 'completejsexecution': 1, 'completed': True, 'task_duration_seconds': 288.426}]answers:  What does `solveNQ(-13)` return?  - Solution does not exist                                                                         \n",
      " Which of the functions have side effects (namely it modifies some state variable value outside its local environment?  - clasifyTriangle                                                                             \n",
      " A part of the code you don't have direct access to has called `constructTree` with unknown parameters. What can you find out about those parameters?  - pre: list post: lost size                                                                            \n",
      "====================================================================================================\n",
      "A258PTOZ3D2TQR\n",
      "True\n",
      "Approved. Good Job.\n",
      "average_time_per_task: 1038.5383333333334, min_time_per_task: 62.994 : [{'randomcode': '1ebcc3454c39ce315eb4d99915202b2a', 'openedPageDatetime': Timestamp('2022-09-06 07:43:49.245000'), 'completejsexecution': 1, 'completed': True, 'task_duration_seconds': 62.994}, {'randomcode': '1ebcc3454c39ce315eb4d99915202b2a', 'openedPageDatetime': Timestamp('2022-09-06 06:55:37.547000'), 'completejsexecution': 1, 'completed': True, 'task_duration_seconds': 2867.77}, {'randomcode': '1ebcc3454c39ce315eb4d99915202b2a', 'openedPageDatetime': Timestamp('2022-09-06 07:45:00.376000'), 'completejsexecution': 1, 'completed': True, 'task_duration_seconds': 184.851}]answers:  Under which conditions could the check `if i <= h` in `constructTreeUtil` be false?  - # Answer:          yes                                                                   \n",
      " is there any line of code in the consumer or producer code which will never be executed? If yes, report it below.  - # Answer: Due to queue is always fill, thread is engaged. never be executed                                                                            \n",
      " What could happen if the call to `order()` were omitted from `classifyTriangle`?  - # Answer:    nothing ishappend.                                                                          \n",
      "====================================================================================================\n",
      "AXMTB3Z1SCJWR\n",
      "True\n",
      "Approved. Good Job.\n",
      "average_time_per_task: 138.23666666666665, min_time_per_task: 59.2 : [{'randomcode': 'ef286c79a8533066363da4499316f1a9', 'openedPageDatetime': Timestamp('2022-09-05 18:16:23.612000'), 'completejsexecution': 1, 'completed': True, 'task_duration_seconds': 236.981}, {'randomcode': 'ef286c79a8533066363da4499316f1a9', 'openedPageDatetime': Timestamp('2022-09-05 18:20:43.516000'), 'completejsexecution': 1, 'completed': True, 'task_duration_seconds': 118.529}, {'randomcode': 'ef286c79a8533066363da4499316f1a9', 'openedPageDatetime': Timestamp('2022-09-05 18:22:54.537000'), 'completejsexecution': 1, 'completed': True, 'task_duration_seconds': 59.2}]answers:  What could happen if the call to `order()` were omitted from `classifyTriangle`?  - EQUILLATERAL                                                                          \n",
      " How would you expect the run time of `solveNQ(n)` to scale with `n`?  - # Answer:    10                                                                         \n",
      " which is the name of the auxiliary rod in the call TowerOfHanoi(n, 'Mark', 'Mat', 'Luke')?  - # Answer:MAT                                                                             \n",
      "****************************************************************************************************\n",
      "You spent too little time to be compatible with a credible code inspection.\n",
      "====================================================================================================\n",
      "A3QXI7YJY3WS4K\n",
      "False\n",
      "You spent too little time to be compatible with a credible code inspection.\n",
      "average_time_per_task: 119.20333333333333, min_time_per_task: 64.784 : [{'randomcode': 'e19fdb7482e9edba9097aa500ca5629a', 'openedPageDatetime': Timestamp('2022-09-05 20:30:39.461000'), 'completejsexecution': 1, 'completed': True, 'task_duration_seconds': 103.411}, {'randomcode': 'e19fdb7482e9edba9097aa500ca5629a', 'openedPageDatetime': Timestamp('2022-09-05 20:32:35.908000'), 'completejsexecution': 1, 'completed': True, 'task_duration_seconds': 189.415}, {'randomcode': 'e19fdb7482e9edba9097aa500ca5629a', 'openedPageDatetime': Timestamp('2022-09-05 20:35:54.032000'), 'completejsexecution': 1, 'completed': True, 'task_duration_seconds': 64.784}]\n",
      "====================================================================================================\n",
      "A2P2GJ3TLYTWW3\n",
      "False\n",
      "You spent too little time to be compatible with a credible code inspection.\n",
      "average_time_per_task: 119.76299999999999, min_time_per_task: 79.788 : [{'randomcode': '4096c8c0eb60fc132f8c2a00de28095a', 'openedPageDatetime': Timestamp('2022-09-07 18:12:23.503000'), 'completejsexecution': 1, 'completed': True, 'task_duration_seconds': 79.788}, {'randomcode': '4096c8c0eb60fc132f8c2a00de28095a', 'openedPageDatetime': Timestamp('2022-09-07 18:07:12.471000'), 'completejsexecution': 1, 'completed': True, 'task_duration_seconds': 163.046}, {'randomcode': '4096c8c0eb60fc132f8c2a00de28095a', 'openedPageDatetime': Timestamp('2022-09-07 18:10:14.163000'), 'completejsexecution': 1, 'completed': True, 'task_duration_seconds': 116.455}]\n",
      "****************************************************************************************************\n",
      "Your first submission to the warm-up task contained mistakes that showed how you did not have the sufficient knowledge to perform the task. You ignored the warning provided at the end of the warm-up task task and submitted your work even if you could have realized that you did not completed all the answers correctly.\n",
      "====================================================================================================\n",
      "A392YUIHKW8SFN\n",
      "False\n",
      "Your first submission to the warm-up task contained mistakes that showed how you did not have the sufficient knowledge to perform the task. You ignored the warning provided at the end of the warm-up task task and submitted your work even if you could have realized that you did not completed all the answers correctly.\n",
      "survey_score: 5\n",
      "====================================================================================================\n",
      "A9E64KJFTV4F1\n",
      "False\n",
      "Your first submission to the warm-up task contained mistakes that showed how you did not have the sufficient knowledge to perform the task. You ignored the warning provided at the end of the warm-up task task and submitted your work even if you could have realized that you did not completed all the answers correctly.\n",
      "survey_score: 5\n",
      "====================================================================================================\n",
      "A2DIVWCLCEJQZ1\n",
      "False\n",
      "Your first submission to the warm-up task contained mistakes that showed how you did not have the sufficient knowledge to perform the task. You ignored the warning provided at the end of the warm-up task task and submitted your work even if you could have realized that you did not completed all the answers correctly.\n",
      "survey_score: 6\n",
      "====================================================================================================\n",
      "A1ZLSCWRCVDPDS\n",
      "False\n",
      "Your first submission to the warm-up task contained mistakes that showed how you did not have the sufficient knowledge to perform the task. You ignored the warning provided at the end of the warm-up task task and submitted your work even if you could have realized that you did not completed all the answers correctly.\n",
      "survey_score: 5\n",
      "====================================================================================================\n",
      "A38KKBCQ8KGBGK\n",
      "False\n",
      "Your first submission to the warm-up task contained mistakes that showed how you did not have the sufficient knowledge to perform the task. You ignored the warning provided at the end of the warm-up task task and submitted your work even if you could have realized that you did not completed all the answers correctly.\n",
      "survey_score: 5\n",
      "====================================================================================================\n",
      "A3TQSHAQXPIH82\n",
      "False\n",
      "Your first submission to the warm-up task contained mistakes that showed how you did not have the sufficient knowledge to perform the task. You ignored the warning provided at the end of the warm-up task task and submitted your work even if you could have realized that you did not completed all the answers correctly.\n",
      "survey_score: 3\n",
      "====================================================================================================\n",
      "A1ALRR1J25RBYX\n",
      "False\n",
      "Your first submission to the warm-up task contained mistakes that showed how you did not have the sufficient knowledge to perform the task. You ignored the warning provided at the end of the warm-up task task and submitted your work even if you could have realized that you did not completed all the answers correctly.\n",
      "survey_score: 3\n",
      "====================================================================================================\n",
      "A38YPLBS1IF3DX\n",
      "False\n",
      "Your first submission to the warm-up task contained mistakes that showed how you did not have the sufficient knowledge to perform the task. You ignored the warning provided at the end of the warm-up task task and submitted your work even if you could have realized that you did not completed all the answers correctly.\n",
      "survey_score: 5\n",
      "====================================================================================================\n",
      "A2DVFHQ0MPXVRS\n",
      "False\n",
      "Your first submission to the warm-up task contained mistakes that showed how you did not have the sufficient knowledge to perform the task. You ignored the warning provided at the end of the warm-up task task and submitted your work even if you could have realized that you did not completed all the answers correctly.\n",
      "survey_score: 3\n",
      "====================================================================================================\n",
      "A9V4LUL69IZUZ\n",
      "False\n",
      "Your first submission to the warm-up task contained mistakes that showed how you did not have the sufficient knowledge to perform the task. You ignored the warning provided at the end of the warm-up task task and submitted your work even if you could have realized that you did not completed all the answers correctly.\n",
      "survey_score: 3\n",
      "====================================================================================================\n",
      "A2IA0G5TWATGB2\n",
      "False\n",
      "Your first submission to the warm-up task contained mistakes that showed how you did not have the sufficient knowledge to perform the task. You ignored the warning provided at the end of the warm-up task task and submitted your work even if you could have realized that you did not completed all the answers correctly.\n",
      "survey_score: 2\n",
      "====================================================================================================\n",
      "A2V3UQYZK4FL4I\n",
      "False\n",
      "Your first submission to the warm-up task contained mistakes that showed how you did not have the sufficient knowledge to perform the task. You ignored the warning provided at the end of the warm-up task task and submitted your work even if you could have realized that you did not completed all the answers correctly.\n",
      "survey_score: 4\n",
      "====================================================================================================\n",
      "A2K6636ADV0TWC\n",
      "False\n",
      "Your first submission to the warm-up task contained mistakes that showed how you did not have the sufficient knowledge to perform the task. You ignored the warning provided at the end of the warm-up task task and submitted your work even if you could have realized that you did not completed all the answers correctly.\n",
      "survey_score: 4\n",
      "====================================================================================================\n",
      "A17LI0UQ4AAX96\n",
      "False\n",
      "Your first submission to the warm-up task contained mistakes that showed how you did not have the sufficient knowledge to perform the task. You ignored the warning provided at the end of the warm-up task task and submitted your work even if you could have realized that you did not completed all the answers correctly.\n",
      "survey_score: 6\n",
      "====================================================================================================\n",
      "A1A3X87ELKFV00\n",
      "False\n",
      "Your first submission to the warm-up task contained mistakes that showed how you did not have the sufficient knowledge to perform the task. You ignored the warning provided at the end of the warm-up task task and submitted your work even if you could have realized that you did not completed all the answers correctly.\n",
      "survey_score: 3\n",
      "====================================================================================================\n",
      "A3N9CPYZPX7OZE\n",
      "False\n",
      "Your first submission to the warm-up task contained mistakes that showed how you did not have the sufficient knowledge to perform the task. You ignored the warning provided at the end of the warm-up task task and submitted your work even if you could have realized that you did not completed all the answers correctly.\n",
      "survey_score: 4\n",
      "====================================================================================================\n",
      "A2P5TZOFBLWU2Q\n",
      "False\n",
      "Your first submission to the warm-up task contained mistakes that showed how you did not have the sufficient knowledge to perform the task. You ignored the warning provided at the end of the warm-up task task and submitted your work even if you could have realized that you did not completed all the answers correctly.\n",
      "survey_score: 4\n",
      "====================================================================================================\n",
      "A21UJGH4E9LLA7\n",
      "False\n",
      "Your first submission to the warm-up task contained mistakes that showed how you did not have the sufficient knowledge to perform the task. You ignored the warning provided at the end of the warm-up task task and submitted your work even if you could have realized that you did not completed all the answers correctly.\n",
      "survey_score: 2\n",
      "====================================================================================================\n",
      "ACC67C294M03Q\n",
      "False\n",
      "Your first submission to the warm-up task contained mistakes that showed how you did not have the sufficient knowledge to perform the task. You ignored the warning provided at the end of the warm-up task task and submitted your work even if you could have realized that you did not completed all the answers correctly.\n",
      "survey_score: 5\n",
      "====================================================================================================\n",
      "A77YYQ35GWQ4S\n",
      "False\n",
      "Your first submission to the warm-up task contained mistakes that showed how you did not have the sufficient knowledge to perform the task. You ignored the warning provided at the end of the warm-up task task and submitted your work even if you could have realized that you did not completed all the answers correctly.\n",
      "survey_score: 5\n",
      "====================================================================================================\n",
      "A1YFA3HQGD93R\n",
      "False\n",
      "Your first submission to the warm-up task contained mistakes that showed how you did not have the sufficient knowledge to perform the task. You ignored the warning provided at the end of the warm-up task task and submitted your work even if you could have realized that you did not completed all the answers correctly.\n",
      "survey_score: 6\n",
      "====================================================================================================\n",
      "A16HPI1KY7EIO6\n",
      "False\n",
      "Your first submission to the warm-up task contained mistakes that showed how you did not have the sufficient knowledge to perform the task. You ignored the warning provided at the end of the warm-up task task and submitted your work even if you could have realized that you did not completed all the answers correctly.\n",
      "survey_score: 3\n",
      "====================================================================================================\n",
      "A17IPELR5NC2LZ\n",
      "False\n",
      "Your first submission to the warm-up task contained mistakes that showed how you did not have the sufficient knowledge to perform the task. You ignored the warning provided at the end of the warm-up task task and submitted your work even if you could have realized that you did not completed all the answers correctly.\n",
      "survey_score: 5\n",
      "====================================================================================================\n",
      "A2CA27PX9YR73X\n",
      "False\n",
      "Your first submission to the warm-up task contained mistakes that showed how you did not have the sufficient knowledge to perform the task. You ignored the warning provided at the end of the warm-up task task and submitted your work even if you could have realized that you did not completed all the answers correctly.\n",
      "survey_score: 3\n",
      "====================================================================================================\n",
      "A3GS427QFCU7IZ\n",
      "False\n",
      "Your first submission to the warm-up task contained mistakes that showed how you did not have the sufficient knowledge to perform the task. You ignored the warning provided at the end of the warm-up task task and submitted your work even if you could have realized that you did not completed all the answers correctly.\n",
      "survey_score: 1\n",
      "====================================================================================================\n",
      "A3GUC6GIB2HKZB\n",
      "False\n",
      "Your first submission to the warm-up task contained mistakes that showed how you did not have the sufficient knowledge to perform the task. You ignored the warning provided at the end of the warm-up task task and submitted your work even if you could have realized that you did not completed all the answers correctly.\n",
      "survey_score: 3\n",
      "====================================================================================================\n",
      "A2MX5YW3DSQ61W\n",
      "False\n",
      "Your first submission to the warm-up task contained mistakes that showed how you did not have the sufficient knowledge to perform the task. You ignored the warning provided at the end of the warm-up task task and submitted your work even if you could have realized that you did not completed all the answers correctly.\n",
      "survey_score: 6\n",
      "====================================================================================================\n",
      "A1HO986V3ZW4I3\n",
      "False\n",
      "Your first submission to the warm-up task contained mistakes that showed how you did not have the sufficient knowledge to perform the task. You ignored the warning provided at the end of the warm-up task task and submitted your work even if you could have realized that you did not completed all the answers correctly.\n",
      "survey_score: 4\n",
      "****************************************************************************************************\n",
      "Some questions of the main task (if not all) were not answered.\n",
      "====================================================================================================\n",
      "A371SNJNNUY9Z6\n",
      "False\n",
      "Some questions of the main task (if not all) were not answered.\n",
      "answers:  How would you expect the run time of `solveNQ(n)` to scale with `n`?  - # Answer:                                                                             \n",
      " which is the name of the auxiliary rod in the call TowerOfHanoi(n, 'Mark', 'Mat', 'Luke')?  - # Answer:                                                                             \n",
      " is there any line of code in the consumer or producer code which will never be executed? If yes, report it below.  - # Answer:                                                                             \n",
      "====================================================================================================\n",
      "A2TEPB7EVBFEZR\n",
      "False\n",
      "Some questions of the main task (if not all) were not answered.\n",
      "answers:  Which is the base case of the algorithm?  - # Answer:                                                                             \n",
      " How would you expect the run time of `solveNQ(n)` to scale with `n`?  - # Answer:                                                                             \n",
      " is there any line of code in the consumer or producer code which will never be executed? If yes, report it below.  - # Answer:                                                                             \n",
      "====================================================================================================\n",
      "APVYKFMTDKI7C\n",
      "False\n",
      "Some questions of the main task (if not all) were not answered.\n",
      "answers:  Which output will you get for the three points [1, 2], [1, 3], and [1, 4]?  - # Answer:                                                                             \n",
      " How many calls to `constructTreeUtil` will `constructTree([1, 2, 3], [ 1, 2, 3], 2)` make?  - # Answer:                                                                             \n",
      " is there any line of code in the consumer or producer code which will never be executed? If yes, report it below.  - # Answer:                                                                             \n",
      "====================================================================================================\n",
      "APVM1YOQCNM4T\n",
      "False\n",
      "Some questions of the main task (if not all) were not answered.\n",
      "answers:  Which output will you get for the three points [1, 2], [1, 3], and [1, 4]?  - # Answer:                                                                             \n",
      " How many calls to `constructTreeUtil` will `constructTree([1, 2, 3], [ 1, 2, 3], 2)` make?  - # Answer:                                                                             \n",
      " is there any line of code in the consumer or producer code which will never be executed? If yes, report it below.  - # Answer:                                                                             \n",
      "****************************************************************************************************\n",
      "Your workid appears at least twice in the main task, breaking the requirement that the submitted answer must be from a participant who has never seen those code snippets before.\n",
      "====================================================================================================\n",
      "A2N65Y36YB347W\n",
      "False\n",
      "Your workid appears at least twice in the main task, breaking the requirement that the submitted answer must be from a participant who has never seen those code snippets before.\n",
      "submissions: [{'randomcode': '8675b71fb3f5d6b333fbfedfb1118738', 'openedPageDatetime': Timestamp('2022-09-05 19:33:42.233000'), 'completejsexecution': 1, 'completed': True, 'task_duration_seconds': 332.96}, {'randomcode': 'c961e4db0c70891d162cb58014c8697e', 'openedPageDatetime': Timestamp('2022-09-05 18:57:42.745000'), 'completejsexecution': 1, 'completed': True, 'task_duration_seconds': 380.894}, {'randomcode': 'c961e4db0c70891d162cb58014c8697e', 'openedPageDatetime': Timestamp('2022-09-05 19:10:56.480000'), 'completejsexecution': 1, 'completed': False, 'task_duration_seconds': 81.029}, {'randomcode': '8675b71fb3f5d6b333fbfedfb1118738', 'openedPageDatetime': Timestamp('2022-09-05 19:24:57.059000'), 'completejsexecution': 1, 'completed': True, 'task_duration_seconds': 509.743}, {'randomcode': '8675b71fb3f5d6b333fbfedfb1118738', 'openedPageDatetime': Timestamp('2022-09-05 19:39:51.972000'), 'completejsexecution': 1, 'completed': True, 'task_duration_seconds': 158.661}, {'randomcode': 'c961e4db0c70891d162cb58014c8697e', 'openedPageDatetime': Timestamp('2022-09-05 19:04:32.056000'), 'completejsexecution': 1, 'completed': True, 'task_duration_seconds': 232.43}]\n"
     ]
    }
   ],
   "source": [
    "for reason in df_all[\"message\"].unique():\n",
    "    df_reason = df_all[df_all[\"message\"] == reason]\n",
    "    print(\"*\" * 100)\n",
    "    print(f\"{reason}\")\n",
    "    for i, row in df_reason.sort_values(by=\"approved\").iterrows():\n",
    "        print(\"=\" * 100)\n",
    "        print(row[\"nickname\"])\n",
    "        print(row[\"approved\"])\n",
    "        print(row[\"message\"])\n",
    "        print(row[\"reason\"])"
   ]
  },
  {
   "cell_type": "code",
   "execution_count": 10,
   "metadata": {},
   "outputs": [
    {
     "data": {
      "text/plain": [
       "35"
      ]
     },
     "execution_count": 10,
     "metadata": {},
     "output_type": "execute_result"
    }
   ],
   "source": [
    "len(df_rejected)"
   ]
  },
  {
   "cell_type": "code",
   "execution_count": 11,
   "metadata": {},
   "outputs": [
    {
     "data": {
      "text/plain": [
       "0    NaN\n",
       "1    NaN\n",
       "3    NaN\n",
       "6    NaN\n",
       "9    NaN\n",
       "10   NaN\n",
       "11   NaN\n",
       "13   NaN\n",
       "14   NaN\n",
       "15   NaN\n",
       "19   NaN\n",
       "20   NaN\n",
       "22   NaN\n",
       "24   NaN\n",
       "27   NaN\n",
       "32   NaN\n",
       "33   NaN\n",
       "34   NaN\n",
       "38   NaN\n",
       "40   NaN\n",
       "42   NaN\n",
       "Name: Reject, dtype: float64"
      ]
     },
     "metadata": {},
     "output_type": "display_data"
    }
   ],
   "source": [
    "df_downloaded = pd.read_csv(f\"../data/hrr/{EXP_NAME}/results/{AMTURK_DOWNLOADABLE_CSV}\")\n",
    "# keep only those lines with empty RequesterFeedback column\n",
    "df_downloaded = df_downloaded[df_downloaded[\"RequesterFeedback\"].isna()]\n",
    "display(df_downloaded[\"Reject\"])\n",
    "# remove Reject column\n",
    "df_downloaded.drop(columns=[\"Reject\"], inplace=True)"
   ]
  },
  {
   "cell_type": "code",
   "execution_count": 13,
   "metadata": {},
   "outputs": [
    {
     "data": {
      "text/plain": [
       "21"
      ]
     },
     "execution_count": 13,
     "metadata": {},
     "output_type": "execute_result"
    }
   ],
   "source": [
    "len(df_downloaded)"
   ]
  },
  {
   "cell_type": "code",
   "execution_count": 15,
   "metadata": {},
   "outputs": [
    {
     "data": {
      "text/plain": [
       "array(['A38KKBCQ8KGBGK', 'A1ZLSCWRCVDPDS', 'A77YYQ35GWQ4S',\n",
       "       'A258PTOZ3D2TQR', 'A392YUIHKW8SFN', 'ALPE04K0ED0RZ',\n",
       "       'AYSTMCRE2AE7T', 'ACC67C294M03Q', 'A2P5TZOFBLWU2Q',\n",
       "       'A2CA27PX9YR73X', 'A17LI0UQ4AAX96', 'A16HPI1KY7EIO6',\n",
       "       'A2P2GJ3TLYTWW3', 'A2ATMJRPF86PSM', 'A1ALRR1J25RBYX',\n",
       "       'AXMTB3Z1SCJWR', 'A2D749IVOS2YZ4', 'A2COCSUGZV28X',\n",
       "       'A2MEF2PMF5YZ0X', 'A1YFA3HQGD93R', 'A38YPLBS1IF3DX'], dtype=object)"
      ]
     },
     "execution_count": 15,
     "metadata": {},
     "output_type": "execute_result"
    }
   ],
   "source": [
    "df_downloaded[\"WorkerId\"].unique()"
   ]
  },
  {
   "cell_type": "code",
   "execution_count": 14,
   "metadata": {},
   "outputs": [
    {
     "name": "stdout",
     "output_type": "stream",
     "text": [
      "13\n"
     ]
    }
   ],
   "source": [
    "from time import time\n",
    "current_timestamp = int(time()) \n",
    "df_to_submit = df_rejected[[\"nickname\", \"message\"]].rename(\n",
    "    columns={\n",
    "        \"nickname\": \"WorkerId\",\n",
    "        \"message\": \"Reject\",\n",
    "    }\n",
    ")\n",
    "\n",
    "df_to_submit = pd.merge(df_to_submit, df_downloaded, on=\"WorkerId\")\n",
    "print(len(df_to_submit))\n",
    "\n",
    "df_to_submit.to_csv(f\"../data/hrr/{EXP_NAME}/results/rejected_users_{current_timestamp}.csv\", index=False)"
   ]
  },
  {
   "cell_type": "code",
   "execution_count": 17,
   "metadata": {},
   "outputs": [
    {
     "data": {
      "text/plain": [
       "{'A258PTOZ3D2TQR',\n",
       " 'A2ATMJRPF86PSM',\n",
       " 'A2COCSUGZV28X',\n",
       " 'A2D749IVOS2YZ4',\n",
       " 'A2MEF2PMF5YZ0X',\n",
       " 'ALPE04K0ED0RZ',\n",
       " 'AXMTB3Z1SCJWR',\n",
       " 'AYSTMCRE2AE7T'}"
      ]
     },
     "execution_count": 17,
     "metadata": {},
     "output_type": "execute_result"
    }
   ],
   "source": [
    "set(df_downloaded[\"WorkerId\"]) - set(df_to_submit[\"WorkerId\"])"
   ]
  }
 ],
 "metadata": {
  "kernelspec": {
   "display_name": "Python 3.8.9 ('venv': venv)",
   "language": "python",
   "name": "python3"
  },
  "language_info": {
   "codemirror_mode": {
    "name": "ipython",
    "version": 3
   },
   "file_extension": ".py",
   "mimetype": "text/x-python",
   "name": "python",
   "nbconvert_exporter": "python",
   "pygments_lexer": "ipython3",
   "version": "3.8.9"
  },
  "orig_nbformat": 4,
  "vscode": {
   "interpreter": {
    "hash": "cdbdd4cf7f5282af921e9e9f8e89536c1a615a288e4742df81a89abd7b1a94fe"
   }
  }
 },
 "nbformat": 4,
 "nbformat_minor": 2
}
