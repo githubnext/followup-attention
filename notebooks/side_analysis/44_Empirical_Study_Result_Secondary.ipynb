{
 "cells": [
  {
   "cell_type": "code",
   "execution_count": 1,
   "metadata": {},
   "outputs": [],
   "source": [
    "import project_path\n",
    "import os\n",
    "import numpy as np\n",
    "import json\n",
    "from tqdm import tqdm\n",
    "from typing import List, Dict, Any, Union, Tuple\n",
    "import seaborn as sns\n",
    "import matplotlib.pyplot as plt\n",
    "import torch\n",
    "import pandas as pd\n",
    "import re\n",
    "\n",
    "from attwizard.decoder import get_attention_representation\n",
    "from attwizard.aligner import map_to_char_level\n",
    "from attwizard.aligner import tokenize_char_level\n",
    "\n",
    "from codeattention.source_code import SourceCode\n",
    "\n",
    "from scipy.stats import spearmanr\n",
    "from scipy.stats import kstest\n",
    "from scipy.spatial.distance import jensenshannon\n",
    "\n",
    "from attwizard.script.utils import read_data_in_parallel\n",
    "from attwizard.script.utils import load_json_file\n",
    "\n",
    "# EDA\n",
    "from attwizard.visualizer.eda import visualize_corr_vs\n",
    "from attwizard.visualizer.eda import visualize_code_heatmap_codegen\n",
    "from attwizard.visualizer.eda import plot_histogram_in_parallel\n",
    "from attwizard.visualizer.eda import plot_100_perc_stacked_bar"
   ]
  },
  {
   "cell_type": "code",
   "execution_count": 3,
   "metadata": {},
   "outputs": [
    {
     "name": "stdout",
     "output_type": "stream",
     "text": [
      "The autoreload extension is already loaded. To reload it, use:\n",
      "  %reload_ext autoreload\n"
     ]
    }
   ],
   "source": [
    "%load_ext autoreload\n",
    "%autoreload 2"
   ]
  },
  {
   "cell_type": "code",
   "execution_count": 4,
   "metadata": {},
   "outputs": [],
   "source": [
    "# Comparisons DATA\n",
    "COMPARISON_FOLDER_CODEGEN = \"../data/comparisons/cmp_v06/codegen_rebuttal\"\n",
    "COMPARISON_FOLDER_GPTJ = \"../data/comparisons/cmp_v06/gptj_rebuttal\"\n",
    "COMPARISON_FOLDER_INCODER = \"../data/comparisons/cmp_v06/incoder_rebuttal\"\n",
    "COMPARISON_VECTORS_FOLDERS = [COMPARISON_FOLDER_CODEGEN, COMPARISON_FOLDER_GPTJ, COMPARISON_FOLDER_INCODER]\n",
    "COMPARISON_VECTORS_MODEL_NAMES = [\n",
    "    \"codegen\",\n",
    "    \"gptj\",\n",
    "    \"incoder\"\n",
    "]\n",
    "\n",
    "# VISUAL COMPARISON CSVs\n",
    "COMPARISON_NAMES = [\n",
    "    'plain_weights_humans.csv', \n",
    "    'plain_weights_meanfollowers.csv', \n",
    "    'plain_weights_mean_meanfollowers.csv',\n",
    "    'plain_weights_tokens_at_least_a_letter_humans.csv', \n",
    "    'plain_weights_tokens_at_least_a_letter_meanfollowers.csv', \n",
    "    'plain_weights_tokens_at_least_a_letter_mean_meanfollowers.csv']\n",
    "OUT_PAPER_FOLDER = \"../data/paper_figures/rebuttal\"\n",
    "\n",
    "# ANNOTATION - ACCURACY \n",
    "CODEGEN_ANNOTATIONS = \"../data/annotations/2022-09-18/Answer Evaluation - Users - CODEGEN_SCORE.csv\"\n",
    "GPTJ_ANNOTATIONS = \"../data/annotations/2022-09-18/Answer Evaluation - Users - GPTJ_SCORE.csv\"\n",
    "INCODER_ANNOTATIONS = \"../data/annotations/2022-11-11/Answer Evaluation - Users - INCODER_SCORE.csv\"\n",
    "HUMAN_ANNOTATIONS = \"../data/annotations/2022-09-18/Answer Evaluation - Users - HUMAN_SCORE.csv\""
   ]
  },
  {
   "cell_type": "markdown",
   "metadata": {},
   "source": [
    "# Answer Correctness"
   ]
  },
  {
   "cell_type": "code",
   "execution_count": 5,
   "metadata": {},
   "outputs": [
    {
     "name": "stdout",
     "output_type": "stream",
     "text": [
      "497\n"
     ]
    },
    {
     "data": {
      "text/html": [
       "<div>\n",
       "<style scoped>\n",
       "    .dataframe tbody tr th:only-of-type {\n",
       "        vertical-align: middle;\n",
       "    }\n",
       "\n",
       "    .dataframe tbody tr th {\n",
       "        vertical-align: top;\n",
       "    }\n",
       "\n",
       "    .dataframe thead th {\n",
       "        text-align: right;\n",
       "    }\n",
       "</style>\n",
       "<table border=\"1\" class=\"dataframe\">\n",
       "  <thead>\n",
       "    <tr style=\"text-align: right;\">\n",
       "      <th></th>\n",
       "      <th>user</th>\n",
       "      <th>filename</th>\n",
       "      <th>score</th>\n",
       "      <th>unique_data_id</th>\n",
       "      <th>provenance</th>\n",
       "    </tr>\n",
       "  </thead>\n",
       "  <tbody>\n",
       "    <tr>\n",
       "      <th>0</th>\n",
       "      <td>UbeerU</td>\n",
       "      <td>multithread_Q2.py</td>\n",
       "      <td>Wrong</td>\n",
       "      <td>d41dd8</td>\n",
       "      <td>Developers</td>\n",
       "    </tr>\n",
       "    <tr>\n",
       "      <th>1</th>\n",
       "      <td>UpassionU</td>\n",
       "      <td>hannoi_Q3.cs</td>\n",
       "      <td>Correct</td>\n",
       "      <td>6695fa</td>\n",
       "      <td>Developers</td>\n",
       "    </tr>\n",
       "    <tr>\n",
       "      <th>2</th>\n",
       "      <td>UcamelionU</td>\n",
       "      <td>hannoi_Q1.py</td>\n",
       "      <td>Correct</td>\n",
       "      <td>5403f5</td>\n",
       "      <td>Developers</td>\n",
       "    </tr>\n",
       "    <tr>\n",
       "      <th>3</th>\n",
       "      <td>UsleepU</td>\n",
       "      <td>hannoi_Q2.py</td>\n",
       "      <td>Correct</td>\n",
       "      <td>0d7601</td>\n",
       "      <td>Developers</td>\n",
       "    </tr>\n",
       "    <tr>\n",
       "      <th>4</th>\n",
       "      <td>UscoopU</td>\n",
       "      <td>triangle_Q3.cs</td>\n",
       "      <td>Partial</td>\n",
       "      <td>f936ca</td>\n",
       "      <td>Developers</td>\n",
       "    </tr>\n",
       "  </tbody>\n",
       "</table>\n",
       "</div>"
      ],
      "text/plain": [
       "         user           filename    score unique_data_id  provenance\n",
       "0      UbeerU  multithread_Q2.py    Wrong         d41dd8  Developers\n",
       "1   UpassionU       hannoi_Q3.cs  Correct         6695fa  Developers\n",
       "2  UcamelionU       hannoi_Q1.py  Correct         5403f5  Developers\n",
       "3     UsleepU       hannoi_Q2.py  Correct         0d7601  Developers\n",
       "4     UscoopU     triangle_Q3.cs  Partial         f936ca  Developers"
      ]
     },
     "execution_count": 5,
     "metadata": {},
     "output_type": "execute_result"
    }
   ],
   "source": [
    "df_codegen_score = pd.read_csv(CODEGEN_ANNOTATIONS)\n",
    "df_human_score = pd.read_csv(HUMAN_ANNOTATIONS)\n",
    "df_gptj_score = pd.read_csv(GPTJ_ANNOTATIONS)\n",
    "df_incoder_score = pd.read_csv(INCODER_ANNOTATIONS)\n",
    "\n",
    "# rename filename to unique_data_id\n",
    "df_codegen_score = df_codegen_score.rename(columns={\"filename\": \"unique_data_id\"})\n",
    "# extract the filename\n",
    "# tree_Q3.py_0_Salesforce_codegen-16B-multi --> tree_Q3.py\n",
    "df_codegen_score[\"filename\"] = df_codegen_score[\"unique_data_id\"].apply(\n",
    "    lambda x: re.findall(r\"(.*)_[0-9]+_Salesforce_codegen-[0-9]+\", x)[0]\n",
    ")\n",
    "# rename column model_name --> provenance\n",
    "# rename column n_try --> user\n",
    "df_codegen_score = df_codegen_score.rename(columns={\n",
    "    \"model_name\": \"provenance\",\n",
    "    \"n_try\": \"user\"})\n",
    "df_codegen_score[\"provenance\"] = \"CodeGen\"\n",
    "\n",
    "# rename filename to unique_data_id\n",
    "df_gptj_score = df_gptj_score.rename(columns={\"filename\": \"unique_data_id\"})\n",
    "df_gptj_score[\"filename\"] = df_gptj_score[\"unique_data_id\"].apply(\n",
    "    lambda x: re.findall(r\"(.*)_[0-9]+_EleutherAI_gpt-j-6B\", x)[0]\n",
    ")\n",
    "# rename column model_name --> provenance\n",
    "# rename column n_try --> user\n",
    "df_gptj_score = df_gptj_score.rename(columns={\n",
    "    \"model_name\": \"provenance\",\n",
    "    \"n_try\": \"user\"})\n",
    "df_gptj_score[\"provenance\"] = \"Gpt-j\"\n",
    "\n",
    "# rename filename to unique_data_id\n",
    "df_incoder_score = df_incoder_score.rename(columns={\"filename\": \"unique_data_id\"})\n",
    "df_incoder_score[\"filename\"] = df_incoder_score[\"unique_data_id\"].apply(\n",
    "    lambda x: re.findall(r\"(.*)_[0-9]+_facebook_incoder-6B+\", x)[0]\n",
    ")\n",
    "# rename column model_name --> provenance\n",
    "# rename column n_try --> user\n",
    "df_incoder_score = df_incoder_score.rename(columns={\n",
    "    \"model_name\": \"provenance\",\n",
    "    \"n_try\": \"user\"})\n",
    "df_incoder_score[\"provenance\"] = \"Incoder\"\n",
    "\n",
    "\n",
    "# keep columns: user, filename, score, unique_data_id\n",
    "df_human_score = df_human_score[[\"user\", \"filename\", \"score\", \"unique_data_id\"]]\n",
    "# add provenance with human \n",
    "df_human_score[\"provenance\"] = \"Developers\"\n",
    "\n",
    "# concatenate the two dataframes\n",
    "df_score = pd.concat([df_human_score, df_gptj_score, df_codegen_score, df_incoder_score], axis=0)\n",
    "print(len(df_score))\n",
    "replacement_dict = {\n",
    "    0: \"Wrong\",\n",
    "    1: \"Partial\",\n",
    "    2: \"Correct\",\n",
    "}\n",
    "df_score[\"score\"] = df_score[\"score\"].replace(replacement_dict)\n",
    "df_score.head()"
   ]
  },
  {
   "cell_type": "code",
   "execution_count": 6,
   "metadata": {},
   "outputs": [
    {
     "data": {
      "image/png": "[encoded data removed]",
      "text/plain": [
       "<Figure size 936x360 with 4 Axes>"
      ]
     },
     "metadata": {
      "needs_background": "light"
     },
     "output_type": "display_data"
    }
   ],
   "source": [
    "fig, axes = plt.subplots(1, 4, figsize=(13, 5))\n",
    "for i, provenance in enumerate([\"Developers\", \"Gpt-j\", \"CodeGen\", \"Incoder\"]):\n",
    "    df_tmp = df_score[df_score[\"provenance\"] == provenance].copy()\n",
    "    df_tmp[\"filename_pl_agnostic\"] = df_tmp[\"filename\"].apply(\n",
    "        lambda x: x.split(\".\")[0])\n",
    "    fig, ax = plot_100_perc_stacked_bar(\n",
    "        df=df_tmp,\n",
    "        col_name_group=\"filename_pl_agnostic\",\n",
    "        col_name_category_in_group=\"score\",\n",
    "        group_order=list(sorted(df_tmp[\"filename_pl_agnostic\"].unique(), reverse=True)),\n",
    "        direction=\"horizontal\",\n",
    "        convert_x_to_perc=False,\n",
    "        color=[\"limegreen\", \"lightgrey\", \"salmon\"],\n",
    "        ax=axes[i],\n",
    "    )\n",
    "    ax.set_ylabel(\"\")\n",
    "    ax.set_title(provenance)\n",
    "    ax.set_xlabel(\"Percentage of answers\")\n",
    "    ax.set_xlim(0, 1)\n",
    "# remove legend \n",
    "axes[1].legend().remove()\n",
    "axes[2].legend().remove()\n",
    "axes[3].legend().remove()\n",
    "axes[0].legend(\n",
    "    bbox_to_anchor=(0.5, 1.1),\n",
    "    loc=\"lower center\",\n",
    "    borderaxespad=0,\n",
    "    frameon=False,\n",
    "    ncol=3,\n",
    ")\n",
    "\n",
    "plt.tight_layout()\n",
    "fig.savefig(os.path.join(OUT_PAPER_FOLDER, \"RQ1_correctness_per_task.pdf\"), bbox_inches=\"tight\")"
   ]
  },
  {
   "cell_type": "code",
   "execution_count": 7,
   "metadata": {},
   "outputs": [
    {
     "name": "stderr",
     "output_type": "stream",
     "text": [
      "/home/eaftan/copilot-attention/attwizard/visualizer/eda.py:276: UserWarning: FixedFormatter should only be used together with FixedLocator\n",
      "  ax.set_xticklabels(\n"
     ]
    },
    {
     "data": {
      "image/png": "[encoded data removed]",
      "text/plain": [
       "<Figure size 360x144 with 1 Axes>"
      ]
     },
     "metadata": {
      "needs_background": "light"
     },
     "output_type": "display_data"
    }
   ],
   "source": [
    "fig, ax = plot_100_perc_stacked_bar(\n",
    "    df=df_score,\n",
    "    col_name_group=\"provenance\",\n",
    "    col_name_category_in_group=\"score\",\n",
    "    group_order=[\"Incoder\", \"Gpt-j\", \"CodeGen\", \"Developers\"],\n",
    "    direction=\"horizontal\",\n",
    "    color=[\"limegreen\", \"lightgrey\", \"salmon\"],\n",
    "    fmt=\"{:.1%}\"\n",
    ")\n",
    "# change size \n",
    "fig.set_size_inches(5, 2)\n",
    "# remove ylabel\n",
    "ax.set_ylabel(\"\")\n",
    "ax.set_xlabel(\"Percentage of answers\")\n",
    "plt.tight_layout()\n",
    "\n",
    "plt.savefig(os.path.join(OUT_PAPER_FOLDER, \"RQ1_correctness.pdf\"))"
   ]
  },
  {
   "cell_type": "markdown",
   "metadata": {},
   "source": [
    "# Dataset Stats"
   ]
  },
  {
   "cell_type": "code",
   "execution_count": 16,
   "metadata": {},
   "outputs": [
    {
     "data": {
      "text/html": [
       "<div>\n",
       "<style scoped>\n",
       "    .dataframe tbody tr th:only-of-type {\n",
       "        vertical-align: middle;\n",
       "    }\n",
       "\n",
       "    .dataframe tbody tr th {\n",
       "        vertical-align: top;\n",
       "    }\n",
       "\n",
       "    .dataframe thead th {\n",
       "        text-align: right;\n",
       "    }\n",
       "</style>\n",
       "<table border=\"1\" class=\"dataframe\">\n",
       "  <thead>\n",
       "    <tr style=\"text-align: right;\">\n",
       "      <th>language</th>\n",
       "      <th>filename_pl_agnostic</th>\n",
       "      <th>cpp</th>\n",
       "      <th>cs</th>\n",
       "      <th>py</th>\n",
       "    </tr>\n",
       "  </thead>\n",
       "  <tbody>\n",
       "    <tr>\n",
       "      <th>0</th>\n",
       "      <td>Nqueens_Q1</td>\n",
       "      <td>0.0</td>\n",
       "      <td>3.0</td>\n",
       "      <td>1.0</td>\n",
       "    </tr>\n",
       "    <tr>\n",
       "      <th>1</th>\n",
       "      <td>Nqueens_Q2</td>\n",
       "      <td>1.0</td>\n",
       "      <td>0.0</td>\n",
       "      <td>0.0</td>\n",
       "    </tr>\n",
       "    <tr>\n",
       "      <th>2</th>\n",
       "      <td>Nqueens_Q3</td>\n",
       "      <td>2.0</td>\n",
       "      <td>1.0</td>\n",
       "      <td>0.0</td>\n",
       "    </tr>\n",
       "    <tr>\n",
       "      <th>3</th>\n",
       "      <td>hannoi_Q1</td>\n",
       "      <td>3.0</td>\n",
       "      <td>4.0</td>\n",
       "      <td>3.0</td>\n",
       "    </tr>\n",
       "    <tr>\n",
       "      <th>4</th>\n",
       "      <td>hannoi_Q2</td>\n",
       "      <td>1.0</td>\n",
       "      <td>4.0</td>\n",
       "      <td>4.0</td>\n",
       "    </tr>\n",
       "  </tbody>\n",
       "</table>\n",
       "</div>"
      ],
      "text/plain": [
       "language filename_pl_agnostic  cpp   cs   py\n",
       "0                  Nqueens_Q1  0.0  3.0  1.0\n",
       "1                  Nqueens_Q2  1.0  0.0  0.0\n",
       "2                  Nqueens_Q3  2.0  1.0  0.0\n",
       "3                   hannoi_Q1  3.0  4.0  3.0\n",
       "4                   hannoi_Q2  1.0  4.0  4.0"
      ]
     },
     "metadata": {},
     "output_type": "display_data"
    },
    {
     "name": "stdout",
     "output_type": "stream",
     "text": [
      "Percentage of C++ answers: 17.4%\n",
      "\\newcommand{\\datasetPercCpp}{17.4\\%}\n",
      "\\newcommand{\\datasetPercCs}{43.5\\%}\n",
      "\\newcommand{\\datasetPercPy}{39.1\\%}\n"
     ]
    },
    {
     "data": {
      "image/png": "[encoded data removed]",
      "text/plain": [
       "<Figure size 360x230.4 with 1 Axes>"
      ]
     },
     "metadata": {
      "needs_background": "light"
     },
     "output_type": "display_data"
    }
   ],
   "source": [
    "fig, ax =  plt.subplots(1, 1, figsize=(5, 3.2))\n",
    "df_tmp = df_score[df_score[\"provenance\"] == \"Developers\"].copy()\n",
    "df_tmp[\"filename_pl_agnostic\"] = df_tmp[\"filename\"].apply(\n",
    "    lambda x: x.split(\".\")[0])\n",
    "df_tmp[\"language\"] = df_tmp[\"filename\"].apply(\n",
    "    lambda x: x.split(\".\")[1])\n",
    "\n",
    "# pivot table to have one column per language and one row per filename\n",
    "# the value is the counting of each filename with the corresponding language\n",
    "df_tmp = df_tmp.pivot_table(\n",
    "    index=\"filename_pl_agnostic\",\n",
    "    columns=\"language\",\n",
    "    values=\"score\",\n",
    "    aggfunc=\"count\",\n",
    ")\n",
    "# fill NaN with 0\n",
    "df_tmp = df_tmp.fillna(0)\n",
    "df_tmp.reset_index(inplace=True)\n",
    "display(df_tmp.head())\n",
    "\n",
    "# create stacked bar plot\n",
    "# sort index alphabetically\n",
    "df_tmp.set_index(\"filename_pl_agnostic\", inplace=True)\n",
    "df_tmp = df_tmp.reindex(sorted(df_tmp.index, reverse=True), axis=0)\n",
    "df_tmp.plot(\n",
    "    kind='barh',\n",
    "    stacked=True,\n",
    "    color=[\"royalblue\", \"mediumorchid\", \"gold\"],\n",
    "    ax=ax,\n",
    ")\n",
    "# plot a red line to indicate the mean of the number of answers per snippet\n",
    "# sum the columns to get the number of answers per snippet\n",
    "df_tmp[\"total\"] = df_tmp[\"cpp\"] + df_tmp[\"cs\"] + df_tmp[\"py\"]\n",
    "mean = df_tmp[\"total\"].mean()\n",
    "ax.axvline(mean, color=\"red\", linestyle=\"--\")\n",
    "# add mean to the legend\n",
    "ax.legend(\n",
    "    bbox_to_anchor=(0.5, 1.05),\n",
    "    loc=\"lower center\",\n",
    "    borderaxespad=0,\n",
    "    frameon=False,\n",
    "    ncol=4,\n",
    "    labels=[\"Mean\", \"C++\", \"C#\", \"Python\"],\n",
    ")\n",
    "\n",
    "plt.xlabel(\"Number of eye-tracking sessions.\")\n",
    "plt.ylabel(\"Snippet name\")\n",
    "plt.tight_layout()\n",
    "plt.savefig(os.path.join(OUT_PAPER_FOLDER, \"dataset_stats.pdf\"))\n",
    "\n",
    "# compute the percentage of answers per language\n",
    "total_cpp_answers = df_tmp[\"cpp\"].sum()\n",
    "total_cs_answers = df_tmp[\"cs\"].sum()\n",
    "total_py_answers = df_tmp[\"py\"].sum()\n",
    "total_answers = total_cpp_answers + total_cs_answers + total_py_answers\n",
    "perc_cpp_answers = (total_cpp_answers / total_answers) * 100\n",
    "print(\"\\\\newcommand{\\\\datasetPercCpp}{\" + f\"{perc_cpp_answers:.1f}\" + \"\\\\%}\")\n",
    "perc_cs_answers = (total_cs_answers / total_answers) * 100\n",
    "print(\"\\\\newcommand{\\\\datasetPercCs}{\" + f\"{perc_cs_answers:.1f}\" + \"\\\\%}\")\n",
    "perc_py_answers = (total_py_answers / total_answers) * 100\n",
    "print(\"\\\\newcommand{\\\\datasetPercPy}{\" + f\"{perc_py_answers:.1f}\" + \"\\\\%}\")\n"
   ]
  },
  {
   "cell_type": "markdown",
   "metadata": {},
   "source": [
    "# CodeGen"
   ]
  },
  {
   "cell_type": "code",
   "execution_count": 17,
   "metadata": {},
   "outputs": [
    {
     "name": "stdout",
     "output_type": "stream",
     "text": [
      "Loading comparison vectors for model  codegen\n"
     ]
    },
    {
     "name": "stderr",
     "output_type": "stream",
     "text": [
      "100%|██████████| 6/6 [00:07<00:00,  1.25s/it]\n"
     ]
    },
    {
     "name": "stdout",
     "output_type": "stream",
     "text": [
      "Loaded:  ['plain_weights_humans' 'plain_weights_meanfollowers'\n",
      " 'plain_weights_mean_meanfollowers'\n",
      " 'plain_weights_tokens_at_least_a_letter_humans'\n",
      " 'plain_weights_tokens_at_least_a_letter_meanfollowers'\n",
      " 'plain_weights_tokens_at_least_a_letter_mean_meanfollowers']\n",
      "Loading comparison vectors for model  gptj\n"
     ]
    },
    {
     "name": "stderr",
     "output_type": "stream",
     "text": [
      "100%|██████████| 6/6 [00:02<00:00,  3.00it/s]\n"
     ]
    },
    {
     "name": "stdout",
     "output_type": "stream",
     "text": [
      "Loaded:  ['plain_weights_humans' 'plain_weights_meanfollowers'\n",
      " 'plain_weights_mean_meanfollowers'\n",
      " 'plain_weights_tokens_at_least_a_letter_humans'\n",
      " 'plain_weights_tokens_at_least_a_letter_meanfollowers'\n",
      " 'plain_weights_tokens_at_least_a_letter_mean_meanfollowers']\n",
      "Loading comparison vectors for model  incoder\n"
     ]
    },
    {
     "name": "stderr",
     "output_type": "stream",
     "text": [
      "100%|██████████| 6/6 [00:01<00:00,  4.48it/s]"
     ]
    },
    {
     "name": "stdout",
     "output_type": "stream",
     "text": [
      "Loaded:  ['plain_weights_humans' 'plain_weights_meanfollowers'\n",
      " 'plain_weights_mean_meanfollowers'\n",
      " 'plain_weights_tokens_at_least_a_letter_humans'\n",
      " 'plain_weights_tokens_at_least_a_letter_meanfollowers'\n",
      " 'plain_weights_tokens_at_least_a_letter_mean_meanfollowers']\n"
     ]
    },
    {
     "name": "stderr",
     "output_type": "stream",
     "text": [
      "\n"
     ]
    }
   ],
   "source": [
    "# LOAD COMPARISON DATA\n",
    "\n",
    "dict_df_comparison_vectors = {}\n",
    "\n",
    "for model_name, comparison_folder in zip(COMPARISON_VECTORS_MODEL_NAMES, COMPARISON_VECTORS_FOLDERS):\n",
    "    print(\"Loading comparison vectors for model \", model_name)\n",
    "    dfs = []\n",
    "    for comparison in tqdm(COMPARISON_NAMES):\n",
    "        df = pd.read_csv(os.path.join(comparison_folder, comparison))\n",
    "        dfs.append(df)\n",
    "    df_vectors = pd.concat(dfs)\n",
    "    print(\"Loaded: \", df_vectors[\"comparison_name\"].unique())\n",
    "    df_vectors[\"model_name\"] = model_name\n",
    "    dict_df_comparison_vectors[model_name] = df_vectors"
   ]
  },
  {
   "cell_type": "code",
   "execution_count": 18,
   "metadata": {},
   "outputs": [],
   "source": [
    "df_codegen_vectors = dict_df_comparison_vectors[\"codegen\"]\n",
    "df_gptj_vectors = dict_df_comparison_vectors[\"gptj\"]\n",
    "df_incoder_vectors = dict_df_comparison_vectors[\"incoder\"]\n",
    "\n",
    "vector_comparisons_chars = [\n",
    "    {\n",
    "        \"long\": \"Developers vs Model (CodeGen) - Max\",\n",
    "        'data': df_codegen_vectors[df_codegen_vectors[\"comparison_name\"] == \"plain_weights_meanfollowers\"],\n",
    "        'color': 'lightblue'\n",
    "    },\n",
    "    {\n",
    "        \"long\": \"Developers vs Model (Gpt-j) - Max\",\n",
    "        'data': df_gptj_vectors[df_gptj_vectors[\"comparison_name\"] == \"plain_weights_meanfollowers\"],\n",
    "        'color': 'lightblue'\n",
    "    },\n",
    "    {\n",
    "        \"long\": \"Developers vs Model (InCoder) - Max\",\n",
    "        'data': df_incoder_vectors[df_incoder_vectors[\"comparison_name\"] == \"plain_weights_meanfollowers\"],\n",
    "        'color': 'lightblue'\n",
    "    },\n",
    "    {\n",
    "        \"long\": \"Developers vs Developers \",\n",
    "        \"data\": df_gptj_vectors[df_gptj_vectors[\"comparison_name\"] == \"plain_weights_humans\"],\n",
    "        'color': 'lime'\n",
    "    },\n",
    "]\n",
    "\n",
    "vector_comparisons_programming_languages = []\n",
    "\n",
    "dict_language_to_color = {\n",
    "    \"py\": \"gold\",\n",
    "    \"cs\": \"mediumorchid\",\n",
    "    \"cpp\": \"royalblue\"\n",
    "}\n",
    "\n",
    "for df, model_name in zip([df_codegen_vectors, df_gptj_vectors, df_incoder_vectors], [\"codegen\", \"gptj\", \"incoder\"]):\n",
    "    for lang in [\"py\", \"cs\", \"cpp\"]:\n",
    "        vector_comparisons_programming_languages.append({\n",
    "            \"long\": f\"Devs vs {model_name.capitalize()} - {lang.upper()}\",\n",
    "            \"data\": df[(\n",
    "                (df[\"comparison_name\"] == \"plain_weights_meanfollowers\") &\n",
    "                (df[\"source_code\"].str.endswith(f\".{lang}\"))\n",
    "            )],\n",
    "            'color': dict_language_to_color[lang]\n",
    "        })\n"
   ]
  },
  {
   "cell_type": "code",
   "execution_count": 19,
   "metadata": {},
   "outputs": [
    {
     "data": {
      "text/plain": [
       "(<Figure size 360x354.24 with 4 Axes>,\n",
       " array([[<AxesSubplot:xlabel='Spearman Rank Corr. Developers vs Model (CodeGen) - Max', ylabel='Count'>],\n",
       "        [<AxesSubplot:xlabel='Spearman Rank Corr. Developers vs Model (Gpt-j) - Max', ylabel='Count'>],\n",
       "        [<AxesSubplot:xlabel='Spearman Rank Corr. Developers vs Model (InCoder) - Max', ylabel='Count'>],\n",
       "        [<AxesSubplot:xlabel='Spearman Rank Corr. Developers vs Developers ', ylabel='Count'>]],\n",
       "       dtype=object))"
      ]
     },
     "execution_count": 19,
     "metadata": {},
     "output_type": "execute_result"
    },
    {
     "data": {
      "image/png": "[encoded data removed]",
      "text/plain": [
       "<Figure size 360x354.24 with 4 Axes>"
      ]
     },
     "metadata": {
      "needs_background": "light"
     },
     "output_type": "display_data"
    }
   ],
   "source": [
    "plot_histogram_in_parallel(\n",
    "    vector_comparisons_chars,\n",
    "    col_name=\"correlation\",\n",
    "    common_prefix=\"Spearman Rank Corr.\",\n",
    "    bins=np.arange(-1, 1, 0.05),\n",
    "    vertical_zero_line=True, \n",
    "    out_path=os.path.join(OUT_PAPER_FOLDER, \"human_vs_models_vector_agreement_chars.pdf\"),\n",
    ")"
   ]
  },
  {
   "cell_type": "code",
   "execution_count": 20,
   "metadata": {},
   "outputs": [
    {
     "name": "stdout",
     "output_type": "stream",
     "text": [
      "Devs vs Codegen - PY\n",
      "Devs vs Codegen - CS\n",
      "Devs vs Codegen - CPP\n",
      "Devs vs Gptj - PY\n",
      "Devs vs Gptj - CS\n",
      "Devs vs Gptj - CPP\n",
      "Devs vs Incoder - PY\n",
      "Devs vs Incoder - CS\n",
      "Devs vs Incoder - CPP\n"
     ]
    }
   ],
   "source": [
    "for info in vector_comparisons_programming_languages:\n",
    "    print(info[\"long\"])"
   ]
  },
  {
   "cell_type": "code",
   "execution_count": 21,
   "metadata": {},
   "outputs": [
    {
     "data": {
      "image/png": "[encoded data removed]",
      "text/plain": [
       "<Figure size 374.4x265.68 with 9 Axes>"
      ]
     },
     "metadata": {
      "needs_background": "light"
     },
     "output_type": "display_data"
    }
   ],
   "source": [
    "fig, axes = plot_histogram_in_parallel(\n",
    "    vector_comparisons_programming_languages,\n",
    "    col_name=\"correlation\",\n",
    "    common_prefix=\"\",\n",
    "    bins=np.arange(-1, 1.1, 0.2),\n",
    "    n_cols=3,\n",
    "    sharey=True,\n",
    "    filling_direction=\"vertical\",\n",
    "    show_mean=True,\n",
    "    show_median=False,\n",
    "    width=5.2,\n",
    "    vertical_zero_line=False, \n",
    ")\n",
    "plt.tight_layout()\n",
    "# reduce space between subplots\n",
    "plt.subplots_adjust(wspace=0.1)\n",
    "plt.savefig(os.path.join(OUT_PAPER_FOLDER, \"human_vs_model_pl_agreement.pdf\"))"
   ]
  },
  {
   "cell_type": "code",
   "execution_count": 22,
   "metadata": {},
   "outputs": [
    {
     "name": "stdout",
     "output_type": "stream",
     "text": [
      "Comparing cpp vs cs\n",
      "codegen: 1486.0 9.948907738247046e-07 --> different distribution (reject H0)\n",
      "gptj: 3404.0 0.06605019930807757 --> same distribution (fail to reject H0)\n",
      "incoder: 1280.0 1.9551640375091315e-08 --> different distribution (reject H0)\n",
      "Comparing cpp vs py\n",
      "codegen: 2685.0 0.7224517067590843 --> same distribution (fail to reject H0)\n",
      "gptj: 2571.0 0.9372562670299786 --> same distribution (fail to reject H0)\n",
      "incoder: 2947.0 0.17344554120505173 --> same distribution (fail to reject H0)\n",
      "Comparing cs vs py\n",
      "codegen: 10334.0 9.285988899858277e-15 --> different distribution (reject H0)\n",
      "gptj: 5323.0 0.020043541087858767 --> different distribution (reject H0)\n",
      "incoder: 10327.0 1.0374442131134318e-14 --> different distribution (reject H0)\n",
      "\\begin{tabular}{lllrll}\n",
      "\\toprule\n",
      "  Model & Lang-A & Lang-B &   Stat. &     pval & Result \\\\\n",
      "\\midrule\n",
      "Codegen &    cpp &     cs &  1486.0 & 9.95e-07 &  Diff. \\\\\n",
      "   Gptj &    cpp &     cs &  3404.0 & 6.61e-02 &   Same \\\\\n",
      "Incoder &    cpp &     cs &  1280.0 & 1.96e-08 &  Diff. \\\\\n",
      "Codegen &    cpp &     py &  2685.0 & 7.22e-01 &   Same \\\\\n",
      "   Gptj &    cpp &     py &  2571.0 & 9.37e-01 &   Same \\\\\n",
      "Incoder &    cpp &     py &  2947.0 & 1.73e-01 &   Same \\\\\n",
      "Codegen &     cs &     py & 10334.0 & 9.29e-15 &  Diff. \\\\\n",
      "   Gptj &     cs &     py &  5323.0 & 2.00e-02 &  Diff. \\\\\n",
      "Incoder &     cs &     py & 10327.0 & 1.04e-14 &  Diff. \\\\\n",
      "\\bottomrule\n",
      "\\end{tabular}\n",
      "\n"
     ]
    },
    {
     "name": "stderr",
     "output_type": "stream",
     "text": [
      "/tmp/ipykernel_3338088/2276344442.py:39: FutureWarning: In future versions `DataFrame.to_latex` is expected to utilise the base implementation of `Styler.to_latex` for formatting and rendering. The arguments signature may therefore change. It is recommended instead to use `DataFrame.style.to_latex` which also contains additional functionality.\n",
      "  print(df_latex_table.to_latex(index=False))\n"
     ]
    }
   ],
   "source": [
    "# run the mann-whitney test for all the programming languages pairs (e.g. cpp vs cs, cpp vs py, cs vs py)\n",
    "from scipy.stats import mannwhitneyu\n",
    "\n",
    "records = []\n",
    "\n",
    "for lang1, lang2 in zip([\"cpp\", \"cpp\", \"cs\"], [\"cs\", \"py\", \"py\"]):\n",
    "    print(f\"Comparing {lang1} vs {lang2}\")\n",
    "    for df, model_name in zip([df_codegen_vectors, df_gptj_vectors, df_incoder_vectors], [\"codegen\", \"gptj\", \"incoder\"]):\n",
    "        df1 = df[(\n",
    "            (df[\"comparison_name\"] == \"plain_weights_meanfollowers\") &\n",
    "            (df[\"source_code\"].str.endswith(f\".{lang1}\"))\n",
    "        )]\n",
    "        df2 = df[(\n",
    "            (df[\"comparison_name\"] == \"plain_weights_meanfollowers\") &\n",
    "            (df[\"source_code\"].str.endswith(f\".{lang2}\"))\n",
    "        )]\n",
    "        stat, p = mannwhitneyu(df1[\"correlation\"], df2[\"correlation\"])\n",
    "        is_reject = p < 0.05\n",
    "        # print \"different distribution (reject H0)\" if p-value is lower than 0.05\n",
    "        print(f\"{model_name}: {stat} {p}\", end=\" --> \")\n",
    "        if is_reject:\n",
    "            print(\"different distribution (reject H0)\")\n",
    "        else:\n",
    "            print(\"same distribution (fail to reject H0)\")\n",
    "\n",
    "        records.append({\n",
    "            'Model': model_name.capitalize(),\n",
    "            'Lang-A': lang1,\n",
    "            'Lang-B': lang2,\n",
    "            'Stat.': stat,\n",
    "            'pval': p,\n",
    "            'Result': 'Same' if p > 0.05 else 'Diff.'\n",
    "        })\n",
    "\n",
    "df_latex_table = pd.DataFrame.from_records(records)\n",
    "# format the p-value column with 2 decimals and scientific notation\n",
    "df_latex_table[\"pval\"] = df_latex_table[\"pval\"].apply(lambda x: f'{x:.2e}')\n",
    "# print leatx code\n",
    "print(df_latex_table.to_latex(index=False))"
   ]
  },
  {
   "cell_type": "code",
   "execution_count": 23,
   "metadata": {},
   "outputs": [
    {
     "data": {
      "text/plain": [
       "array(['Developers', 'Gpt-j', 'CodeGen', 'Incoder'], dtype=object)"
      ]
     },
     "execution_count": 23,
     "metadata": {},
     "output_type": "execute_result"
    }
   ],
   "source": [
    "df_score[\"provenance\"].unique()"
   ]
  },
  {
   "cell_type": "code",
   "execution_count": 33,
   "metadata": {},
   "outputs": [
    {
     "data": {
      "text/plain": [
       "['CodeGen - cpp',\n",
       " 'CodeGen - cs',\n",
       " 'CodeGen - py',\n",
       " 'Developers - cpp',\n",
       " 'Developers - cs',\n",
       " 'Developers - py',\n",
       " 'Gpt-j - cpp',\n",
       " 'Gpt-j - cs',\n",
       " 'Gpt-j - py',\n",
       " 'Incoder - cpp',\n",
       " 'Incoder - cs',\n",
       " 'Incoder - py']"
      ]
     },
     "metadata": {},
     "output_type": "display_data"
    },
    {
     "name": "stderr",
     "output_type": "stream",
     "text": [
      "/home/eaftan/copilot-attention/attwizard/visualizer/eda.py:276: UserWarning: FixedFormatter should only be used together with FixedLocator\n",
      "  ax.set_xticklabels(\n"
     ]
    },
    {
     "data": {
      "image/png": "[encoded data removed]",
      "text/plain": [
       "<Figure size 360x288 with 1 Axes>"
      ]
     },
     "metadata": {
      "needs_background": "light"
     },
     "output_type": "display_data"
    }
   ],
   "source": [
    "df = df_score\n",
    "# generate a new column with the programming language and the provenace\n",
    "df['language'] = df['filename'].str.split('.').str[-1]\n",
    "df['language_and_provenance'] = df['provenance'] + \" - \" + df['language']\n",
    "# get unique values of the new column sorted by provenance, putting developers first\n",
    "language_and_provenance_values = list(sorted(df['language_and_provenance'].unique()))\n",
    "display(language_and_provenance_values)\n",
    "\n",
    "# plot how many answers are: Correct, Wrong, Partial \n",
    "# for each programming language\n",
    "# the column score can be: [\"Correct\", \"Wrong\", \"Partial\"]\n",
    "fig, ax = plot_100_perc_stacked_bar(\n",
    "    df=df,\n",
    "    col_name_group=\"language_and_provenance\",\n",
    "    col_name_category_in_group=\"score\",\n",
    "    group_order=[\n",
    "        'Incoder - cpp',\n",
    "        'Incoder - cs',\n",
    "        'Incoder - py',\n",
    "        'Gpt-j - cpp',\n",
    "        'Gpt-j - cs',\n",
    "        'Gpt-j - py',\n",
    "        'CodeGen - cpp',\n",
    "        'CodeGen - cs',\n",
    "        'CodeGen - py',        \n",
    "        'Developers - cpp',\n",
    "        'Developers - cs',\n",
    "        'Developers - py',],\n",
    "    direction=\"horizontal\",\n",
    "    color=[\"limegreen\", \"lightgrey\", \"salmon\"],\n",
    "    fmt=\"{:.1%}\"\n",
    ")\n",
    "# change size \n",
    "fig.set_size_inches(5, 4)\n",
    "# remove ylabel\n",
    "ax.set_ylabel(\"\")\n",
    "ax.set_xlabel(\"Percentage of answers\")\n",
    "plt.tight_layout()\n",
    "plt.savefig(os.path.join(OUT_PAPER_FOLDER, f\"correctness_per_PL_ALL.pdf\"))\n",
    "plt.show()"
   ]
  },
  {
   "cell_type": "code",
   "execution_count": 144,
   "metadata": {},
   "outputs": [
    {
     "name": "stderr",
     "output_type": "stream",
     "text": [
      "/tmp/ipykernel_3324438/489859215.py:6: SettingWithCopyWarning: \n",
      "A value is trying to be set on a copy of a slice from a DataFrame.\n",
      "Try using .loc[row_indexer,col_indexer] = value instead\n",
      "\n",
      "See the caveats in the documentation: https://pandas.pydata.org/pandas-docs/stable/user_guide/indexing.html#returning-a-view-versus-a-copy\n",
      "  df['language'] = df['filename'].str.split('.').str[-1]\n",
      "/home/eaftan/copilot-attention/attwizard/visualizer/eda.py:276: UserWarning: FixedFormatter should only be used together with FixedLocator\n",
      "  [f\"{int(x * 100)} %\" for x in ax.get_xticks()],\n"
     ]
    },
    {
     "data": {
      "image/png": "[encoded data removed]",
      "text/plain": [
       "<Figure size 360x144 with 1 Axes>"
      ]
     },
     "metadata": {
      "needs_background": "light"
     },
     "output_type": "display_data"
    },
    {
     "name": "stderr",
     "output_type": "stream",
     "text": [
      "/tmp/ipykernel_3324438/489859215.py:6: SettingWithCopyWarning: \n",
      "A value is trying to be set on a copy of a slice from a DataFrame.\n",
      "Try using .loc[row_indexer,col_indexer] = value instead\n",
      "\n",
      "See the caveats in the documentation: https://pandas.pydata.org/pandas-docs/stable/user_guide/indexing.html#returning-a-view-versus-a-copy\n",
      "  df['language'] = df['filename'].str.split('.').str[-1]\n",
      "/home/eaftan/copilot-attention/attwizard/visualizer/eda.py:276: UserWarning: FixedFormatter should only be used together with FixedLocator\n",
      "  [f\"{int(x * 100)} %\" for x in ax.get_xticks()],\n"
     ]
    },
    {
     "data": {
      "image/png": "[encoded data removed]",
      "text/plain": [
       "<Figure size 360x144 with 1 Axes>"
      ]
     },
     "metadata": {
      "needs_background": "light"
     },
     "output_type": "display_data"
    },
    {
     "name": "stderr",
     "output_type": "stream",
     "text": [
      "/tmp/ipykernel_3324438/489859215.py:6: SettingWithCopyWarning: \n",
      "A value is trying to be set on a copy of a slice from a DataFrame.\n",
      "Try using .loc[row_indexer,col_indexer] = value instead\n",
      "\n",
      "See the caveats in the documentation: https://pandas.pydata.org/pandas-docs/stable/user_guide/indexing.html#returning-a-view-versus-a-copy\n",
      "  df['language'] = df['filename'].str.split('.').str[-1]\n",
      "/home/eaftan/copilot-attention/attwizard/visualizer/eda.py:276: UserWarning: FixedFormatter should only be used together with FixedLocator\n",
      "  [f\"{int(x * 100)} %\" for x in ax.get_xticks()],\n"
     ]
    },
    {
     "data": {
      "image/png": "[encoded data removed]",
      "text/plain": [
       "<Figure size 360x144 with 1 Axes>"
      ]
     },
     "metadata": {
      "needs_background": "light"
     },
     "output_type": "display_data"
    },
    {
     "name": "stderr",
     "output_type": "stream",
     "text": [
      "/tmp/ipykernel_3324438/489859215.py:6: SettingWithCopyWarning: \n",
      "A value is trying to be set on a copy of a slice from a DataFrame.\n",
      "Try using .loc[row_indexer,col_indexer] = value instead\n",
      "\n",
      "See the caveats in the documentation: https://pandas.pydata.org/pandas-docs/stable/user_guide/indexing.html#returning-a-view-versus-a-copy\n",
      "  df['language'] = df['filename'].str.split('.').str[-1]\n",
      "/home/eaftan/copilot-attention/attwizard/visualizer/eda.py:276: UserWarning: FixedFormatter should only be used together with FixedLocator\n",
      "  [f\"{int(x * 100)} %\" for x in ax.get_xticks()],\n"
     ]
    },
    {
     "data": {
      "image/png": "[encoded data removed]",
      "text/plain": [
       "<Figure size 360x144 with 1 Axes>"
      ]
     },
     "metadata": {
      "needs_background": "light"
     },
     "output_type": "display_data"
    }
   ],
   "source": [
    "for i_provenance in ['Developers', 'Gpt-j', 'CodeGen', 'Incoder']:\n",
    "\n",
    "    # compute average score of developer for each programming language\n",
    "    # consider only human data\n",
    "    df = df_score[df_score[\"provenance\"] == i_provenance]\n",
    "    df['language'] = df['filename'].str.split('.').str[-1]\n",
    "    # plot how many answers are: Correct, Wrong, Partial \n",
    "    # for each programming language\n",
    "    # the column score can be: [\"Correct\", \"Wrong\", \"Partial\"]\n",
    "    fig, ax = plot_100_perc_stacked_bar(\n",
    "        df=df,\n",
    "        col_name_group=\"language\",\n",
    "        col_name_category_in_group=\"score\",\n",
    "        group_order=[\"py\", \"cs\", \"cpp\"],\n",
    "        direction=\"horizontal\",\n",
    "        color=[\"limegreen\", \"lightgrey\", \"salmon\"],\n",
    "        fmt=\"{:.1%}\"\n",
    "    )\n",
    "    # change size \n",
    "    fig.set_size_inches(5, 2)\n",
    "    # remove ylabel\n",
    "    ax.set_ylabel(\"\")\n",
    "    ax.set_xlabel(\"Percentage of answers - \" + i_provenance)\n",
    "    plt.tight_layout()\n",
    "    plt.savefig(os.path.join(OUT_PAPER_FOLDER, f\"correctness_per_PL_{i_provenance}.pdf\"))\n",
    "    plt.show()"
   ]
  },
  {
   "cell_type": "markdown",
   "metadata": {},
   "source": [
    "# Performance vs Agreement\n"
   ]
  },
  {
   "cell_type": "code",
   "execution_count": 108,
   "metadata": {},
   "outputs": [],
   "source": [
    "df_all_vectors = pd.concat([df_codegen_vectors, df_gptj_vectors, df_incoder_vectors])\n",
    "# keep only the data for the comparison \"plain_weights_meanfollowers\"\n",
    "df_all_vectors = df_all_vectors[\n",
    "    df_all_vectors[\"comparison_name\"] == \"plain_weights_meanfollowers\"]\n",
    "# rename input_machine_filestem to filename\n",
    "df_all_vectors = df_all_vectors.rename(\n",
    "    columns={\"input_machine_filestem\": \"unique_data_id\"})"
   ]
  },
  {
   "cell_type": "code",
   "execution_count": 109,
   "metadata": {},
   "outputs": [
    {
     "data": {
      "text/html": [
       "<div>\n",
       "<style scoped>\n",
       "    .dataframe tbody tr th:only-of-type {\n",
       "        vertical-align: middle;\n",
       "    }\n",
       "\n",
       "    .dataframe tbody tr th {\n",
       "        vertical-align: top;\n",
       "    }\n",
       "\n",
       "    .dataframe thead th {\n",
       "        text-align: right;\n",
       "    }\n",
       "</style>\n",
       "<table border=\"1\" class=\"dataframe\">\n",
       "  <thead>\n",
       "    <tr style=\"text-align: right;\">\n",
       "      <th></th>\n",
       "      <th>comparison_name</th>\n",
       "      <th>comparison_function</th>\n",
       "      <th>source_code</th>\n",
       "      <th>user_name_a</th>\n",
       "      <th>task_number_a</th>\n",
       "      <th>user_name_b</th>\n",
       "      <th>task_number_b</th>\n",
       "      <th>human_a</th>\n",
       "      <th>human_b</th>\n",
       "      <th>comparison_type</th>\n",
       "      <th>...</th>\n",
       "      <th>user_name</th>\n",
       "      <th>task_number</th>\n",
       "      <th>input_human_filestem</th>\n",
       "      <th>unique_data_id</th>\n",
       "      <th>transformation_0.name</th>\n",
       "      <th>transformation_0.kwargs.mapping_from_token_to_char</th>\n",
       "      <th>transformation_1.name</th>\n",
       "      <th>machine_att_folder</th>\n",
       "      <th>model_name</th>\n",
       "      <th>transformation_0.kwargs.drop_first_token</th>\n",
       "    </tr>\n",
       "  </thead>\n",
       "  <tbody>\n",
       "    <tr>\n",
       "      <th>0</th>\n",
       "      <td>plain_weights_meanfollowers</td>\n",
       "      <td>spearman_rank</td>\n",
       "      <td>hannoi_Q1.cs</td>\n",
       "      <td>NaN</td>\n",
       "      <td>NaN</td>\n",
       "      <td>NaN</td>\n",
       "      <td>NaN</td>\n",
       "      <td>NaN</td>\n",
       "      <td>NaN</td>\n",
       "      <td>vector</td>\n",
       "      <td>...</td>\n",
       "      <td>UsurfU</td>\n",
       "      <td>0.0</td>\n",
       "      <td>f4bbec</td>\n",
       "      <td>hannoi_Q1.cs_2_Salesforce_codegen-16B-multi</td>\n",
       "      <td>convert_to_char_level</td>\n",
       "      <td>equal_share</td>\n",
       "      <td>convert_vect_to_probabilities</td>\n",
       "      <td>./data/model_output/exp_v10/codegen</td>\n",
       "      <td>codegen</td>\n",
       "      <td>NaN</td>\n",
       "    </tr>\n",
       "    <tr>\n",
       "      <th>1</th>\n",
       "      <td>plain_weights_meanfollowers</td>\n",
       "      <td>spearman_rank</td>\n",
       "      <td>hannoi_Q1.cs</td>\n",
       "      <td>NaN</td>\n",
       "      <td>NaN</td>\n",
       "      <td>NaN</td>\n",
       "      <td>NaN</td>\n",
       "      <td>NaN</td>\n",
       "      <td>NaN</td>\n",
       "      <td>vector</td>\n",
       "      <td>...</td>\n",
       "      <td>UsurfU</td>\n",
       "      <td>0.0</td>\n",
       "      <td>f4bbec</td>\n",
       "      <td>hannoi_Q1.cs_1_Salesforce_codegen-16B-multi</td>\n",
       "      <td>convert_to_char_level</td>\n",
       "      <td>equal_share</td>\n",
       "      <td>convert_vect_to_probabilities</td>\n",
       "      <td>./data/model_output/exp_v10/codegen</td>\n",
       "      <td>codegen</td>\n",
       "      <td>NaN</td>\n",
       "    </tr>\n",
       "    <tr>\n",
       "      <th>2</th>\n",
       "      <td>plain_weights_meanfollowers</td>\n",
       "      <td>spearman_rank</td>\n",
       "      <td>hannoi_Q1.cs</td>\n",
       "      <td>NaN</td>\n",
       "      <td>NaN</td>\n",
       "      <td>NaN</td>\n",
       "      <td>NaN</td>\n",
       "      <td>NaN</td>\n",
       "      <td>NaN</td>\n",
       "      <td>vector</td>\n",
       "      <td>...</td>\n",
       "      <td>UsurfU</td>\n",
       "      <td>0.0</td>\n",
       "      <td>f4bbec</td>\n",
       "      <td>hannoi_Q1.cs_0_Salesforce_codegen-16B-multi</td>\n",
       "      <td>convert_to_char_level</td>\n",
       "      <td>equal_share</td>\n",
       "      <td>convert_vect_to_probabilities</td>\n",
       "      <td>./data/model_output/exp_v10/codegen</td>\n",
       "      <td>codegen</td>\n",
       "      <td>NaN</td>\n",
       "    </tr>\n",
       "    <tr>\n",
       "      <th>3</th>\n",
       "      <td>plain_weights_meanfollowers</td>\n",
       "      <td>spearman_rank</td>\n",
       "      <td>multithread_Q2.py</td>\n",
       "      <td>NaN</td>\n",
       "      <td>NaN</td>\n",
       "      <td>NaN</td>\n",
       "      <td>NaN</td>\n",
       "      <td>NaN</td>\n",
       "      <td>NaN</td>\n",
       "      <td>vector</td>\n",
       "      <td>...</td>\n",
       "      <td>UbeerU</td>\n",
       "      <td>3.0</td>\n",
       "      <td>d41dd8</td>\n",
       "      <td>multithread_Q2.py_2_Salesforce_codegen-16B-multi</td>\n",
       "      <td>convert_to_char_level</td>\n",
       "      <td>equal_share</td>\n",
       "      <td>convert_vect_to_probabilities</td>\n",
       "      <td>./data/model_output/exp_v10/codegen</td>\n",
       "      <td>codegen</td>\n",
       "      <td>NaN</td>\n",
       "    </tr>\n",
       "    <tr>\n",
       "      <th>4</th>\n",
       "      <td>plain_weights_meanfollowers</td>\n",
       "      <td>spearman_rank</td>\n",
       "      <td>multithread_Q2.py</td>\n",
       "      <td>NaN</td>\n",
       "      <td>NaN</td>\n",
       "      <td>NaN</td>\n",
       "      <td>NaN</td>\n",
       "      <td>NaN</td>\n",
       "      <td>NaN</td>\n",
       "      <td>vector</td>\n",
       "      <td>...</td>\n",
       "      <td>UbeerU</td>\n",
       "      <td>3.0</td>\n",
       "      <td>d41dd8</td>\n",
       "      <td>multithread_Q2.py_1_Salesforce_codegen-16B-multi</td>\n",
       "      <td>convert_to_char_level</td>\n",
       "      <td>equal_share</td>\n",
       "      <td>convert_vect_to_probabilities</td>\n",
       "      <td>./data/model_output/exp_v10/codegen</td>\n",
       "      <td>codegen</td>\n",
       "      <td>NaN</td>\n",
       "    </tr>\n",
       "  </tbody>\n",
       "</table>\n",
       "<p>5 rows × 36 columns</p>\n",
       "</div>"
      ],
      "text/plain": [
       "               comparison_name comparison_function        source_code  \\\n",
       "0  plain_weights_meanfollowers       spearman_rank       hannoi_Q1.cs   \n",
       "1  plain_weights_meanfollowers       spearman_rank       hannoi_Q1.cs   \n",
       "2  plain_weights_meanfollowers       spearman_rank       hannoi_Q1.cs   \n",
       "3  plain_weights_meanfollowers       spearman_rank  multithread_Q2.py   \n",
       "4  plain_weights_meanfollowers       spearman_rank  multithread_Q2.py   \n",
       "\n",
       "  user_name_a  task_number_a user_name_b  task_number_b human_a human_b  \\\n",
       "0         NaN            NaN         NaN            NaN     NaN     NaN   \n",
       "1         NaN            NaN         NaN            NaN     NaN     NaN   \n",
       "2         NaN            NaN         NaN            NaN     NaN     NaN   \n",
       "3         NaN            NaN         NaN            NaN     NaN     NaN   \n",
       "4         NaN            NaN         NaN            NaN     NaN     NaN   \n",
       "\n",
       "  comparison_type  ...  user_name  task_number  input_human_filestem  \\\n",
       "0          vector  ...     UsurfU          0.0                f4bbec   \n",
       "1          vector  ...     UsurfU          0.0                f4bbec   \n",
       "2          vector  ...     UsurfU          0.0                f4bbec   \n",
       "3          vector  ...     UbeerU          3.0                d41dd8   \n",
       "4          vector  ...     UbeerU          3.0                d41dd8   \n",
       "\n",
       "                                     unique_data_id  transformation_0.name  \\\n",
       "0       hannoi_Q1.cs_2_Salesforce_codegen-16B-multi  convert_to_char_level   \n",
       "1       hannoi_Q1.cs_1_Salesforce_codegen-16B-multi  convert_to_char_level   \n",
       "2       hannoi_Q1.cs_0_Salesforce_codegen-16B-multi  convert_to_char_level   \n",
       "3  multithread_Q2.py_2_Salesforce_codegen-16B-multi  convert_to_char_level   \n",
       "4  multithread_Q2.py_1_Salesforce_codegen-16B-multi  convert_to_char_level   \n",
       "\n",
       "  transformation_0.kwargs.mapping_from_token_to_char  \\\n",
       "0                                        equal_share   \n",
       "1                                        equal_share   \n",
       "2                                        equal_share   \n",
       "3                                        equal_share   \n",
       "4                                        equal_share   \n",
       "\n",
       "           transformation_1.name                   machine_att_folder  \\\n",
       "0  convert_vect_to_probabilities  ./data/model_output/exp_v10/codegen   \n",
       "1  convert_vect_to_probabilities  ./data/model_output/exp_v10/codegen   \n",
       "2  convert_vect_to_probabilities  ./data/model_output/exp_v10/codegen   \n",
       "3  convert_vect_to_probabilities  ./data/model_output/exp_v10/codegen   \n",
       "4  convert_vect_to_probabilities  ./data/model_output/exp_v10/codegen   \n",
       "\n",
       "  model_name transformation_0.kwargs.drop_first_token  \n",
       "0    codegen                                      NaN  \n",
       "1    codegen                                      NaN  \n",
       "2    codegen                                      NaN  \n",
       "3    codegen                                      NaN  \n",
       "4    codegen                                      NaN  \n",
       "\n",
       "[5 rows x 36 columns]"
      ]
     },
     "execution_count": 109,
     "metadata": {},
     "output_type": "execute_result"
    }
   ],
   "source": [
    "df_all_vectors.head()"
   ]
  },
  {
   "cell_type": "code",
   "execution_count": 110,
   "metadata": {},
   "outputs": [
    {
     "data": {
      "text/html": [
       "<div>\n",
       "<style scoped>\n",
       "    .dataframe tbody tr th:only-of-type {\n",
       "        vertical-align: middle;\n",
       "    }\n",
       "\n",
       "    .dataframe tbody tr th {\n",
       "        vertical-align: top;\n",
       "    }\n",
       "\n",
       "    .dataframe thead th {\n",
       "        text-align: right;\n",
       "    }\n",
       "</style>\n",
       "<table border=\"1\" class=\"dataframe\">\n",
       "  <thead>\n",
       "    <tr style=\"text-align: right;\">\n",
       "      <th></th>\n",
       "      <th>user</th>\n",
       "      <th>filename</th>\n",
       "      <th>score</th>\n",
       "      <th>unique_data_id</th>\n",
       "      <th>provenance</th>\n",
       "    </tr>\n",
       "  </thead>\n",
       "  <tbody>\n",
       "    <tr>\n",
       "      <th>0</th>\n",
       "      <td>UbeerU</td>\n",
       "      <td>multithread_Q2.py</td>\n",
       "      <td>Wrong</td>\n",
       "      <td>d41dd8</td>\n",
       "      <td>Developers</td>\n",
       "    </tr>\n",
       "    <tr>\n",
       "      <th>1</th>\n",
       "      <td>UpassionU</td>\n",
       "      <td>hannoi_Q3.cs</td>\n",
       "      <td>Correct</td>\n",
       "      <td>6695fa</td>\n",
       "      <td>Developers</td>\n",
       "    </tr>\n",
       "    <tr>\n",
       "      <th>2</th>\n",
       "      <td>UcamelionU</td>\n",
       "      <td>hannoi_Q1.py</td>\n",
       "      <td>Correct</td>\n",
       "      <td>5403f5</td>\n",
       "      <td>Developers</td>\n",
       "    </tr>\n",
       "    <tr>\n",
       "      <th>3</th>\n",
       "      <td>UsleepU</td>\n",
       "      <td>hannoi_Q2.py</td>\n",
       "      <td>Correct</td>\n",
       "      <td>0d7601</td>\n",
       "      <td>Developers</td>\n",
       "    </tr>\n",
       "    <tr>\n",
       "      <th>4</th>\n",
       "      <td>UscoopU</td>\n",
       "      <td>triangle_Q3.cs</td>\n",
       "      <td>Partial</td>\n",
       "      <td>f936ca</td>\n",
       "      <td>Developers</td>\n",
       "    </tr>\n",
       "    <tr>\n",
       "      <th>...</th>\n",
       "      <td>...</td>\n",
       "      <td>...</td>\n",
       "      <td>...</td>\n",
       "      <td>...</td>\n",
       "      <td>...</td>\n",
       "    </tr>\n",
       "    <tr>\n",
       "      <th>130</th>\n",
       "      <td>1</td>\n",
       "      <td>Nqueens_Q1.cs</td>\n",
       "      <td>Wrong</td>\n",
       "      <td>Nqueens_Q1.cs_1_facebook_incoder-6B</td>\n",
       "      <td>Incoder</td>\n",
       "    </tr>\n",
       "    <tr>\n",
       "      <th>131</th>\n",
       "      <td>0</td>\n",
       "      <td>Nqueens_Q1.cs</td>\n",
       "      <td>Wrong</td>\n",
       "      <td>Nqueens_Q1.cs_0_facebook_incoder-6B</td>\n",
       "      <td>Incoder</td>\n",
       "    </tr>\n",
       "    <tr>\n",
       "      <th>132</th>\n",
       "      <td>2</td>\n",
       "      <td>Nqueens_Q1.cpp</td>\n",
       "      <td>Wrong</td>\n",
       "      <td>Nqueens_Q1.cpp_2_facebook_incoder-6B</td>\n",
       "      <td>Incoder</td>\n",
       "    </tr>\n",
       "    <tr>\n",
       "      <th>133</th>\n",
       "      <td>1</td>\n",
       "      <td>Nqueens_Q1.cpp</td>\n",
       "      <td>Wrong</td>\n",
       "      <td>Nqueens_Q1.cpp_1_facebook_incoder-6B</td>\n",
       "      <td>Incoder</td>\n",
       "    </tr>\n",
       "    <tr>\n",
       "      <th>134</th>\n",
       "      <td>0</td>\n",
       "      <td>Nqueens_Q1.cpp</td>\n",
       "      <td>Wrong</td>\n",
       "      <td>Nqueens_Q1.cpp_0_facebook_incoder-6B</td>\n",
       "      <td>Incoder</td>\n",
       "    </tr>\n",
       "  </tbody>\n",
       "</table>\n",
       "<p>497 rows × 5 columns</p>\n",
       "</div>"
      ],
      "text/plain": [
       "           user           filename    score  \\\n",
       "0        UbeerU  multithread_Q2.py    Wrong   \n",
       "1     UpassionU       hannoi_Q3.cs  Correct   \n",
       "2    UcamelionU       hannoi_Q1.py  Correct   \n",
       "3       UsleepU       hannoi_Q2.py  Correct   \n",
       "4       UscoopU     triangle_Q3.cs  Partial   \n",
       "..          ...                ...      ...   \n",
       "130           1      Nqueens_Q1.cs    Wrong   \n",
       "131           0      Nqueens_Q1.cs    Wrong   \n",
       "132           2     Nqueens_Q1.cpp    Wrong   \n",
       "133           1     Nqueens_Q1.cpp    Wrong   \n",
       "134           0     Nqueens_Q1.cpp    Wrong   \n",
       "\n",
       "                           unique_data_id  provenance  \n",
       "0                                  d41dd8  Developers  \n",
       "1                                  6695fa  Developers  \n",
       "2                                  5403f5  Developers  \n",
       "3                                  0d7601  Developers  \n",
       "4                                  f936ca  Developers  \n",
       "..                                    ...         ...  \n",
       "130   Nqueens_Q1.cs_1_facebook_incoder-6B     Incoder  \n",
       "131   Nqueens_Q1.cs_0_facebook_incoder-6B     Incoder  \n",
       "132  Nqueens_Q1.cpp_2_facebook_incoder-6B     Incoder  \n",
       "133  Nqueens_Q1.cpp_1_facebook_incoder-6B     Incoder  \n",
       "134  Nqueens_Q1.cpp_0_facebook_incoder-6B     Incoder  \n",
       "\n",
       "[497 rows x 5 columns]"
      ]
     },
     "execution_count": 110,
     "metadata": {},
     "output_type": "execute_result"
    }
   ],
   "source": [
    "df_score"
   ]
  },
  {
   "cell_type": "code",
   "execution_count": 112,
   "metadata": {},
   "outputs": [
    {
     "name": "stdout",
     "output_type": "stream",
     "text": [
      "Number of rows before merge: 828\n",
      "Number of rows after merge: 828\n"
     ]
    }
   ],
   "source": [
    "len_before = len(df_all_vectors)\n",
    "\n",
    "# merge the dataframes df_all_vectors and df_score\n",
    "# on the column filename\n",
    "df_merged = pd.merge(\n",
    "    df_all_vectors,\n",
    "    df_score,\n",
    "    on=\"unique_data_id\"\n",
    ")\n",
    "\n",
    "len_after = len(df_merged)\n",
    "print(f\"Number of rows before merge: {len_before}\")\n",
    "print(f\"Number of rows after merge: {len_after}\")"
   ]
  },
  {
   "cell_type": "code",
   "execution_count": 134,
   "metadata": {},
   "outputs": [
    {
     "data": {
      "image/png": "[encoded data removed]",
      "text/plain": [
       "<Figure size 360x144 with 1 Axes>"
      ]
     },
     "metadata": {
      "needs_background": "light"
     },
     "output_type": "display_data"
    },
    {
     "data": {
      "image/png": "[encoded data removed]",
      "text/plain": [
       "<Figure size 360x144 with 1 Axes>"
      ]
     },
     "metadata": {
      "needs_background": "light"
     },
     "output_type": "display_data"
    },
    {
     "data": {
      "image/png": "[encoded data removed]",
      "text/plain": [
       "<Figure size 360x144 with 1 Axes>"
      ]
     },
     "metadata": {
      "needs_background": "light"
     },
     "output_type": "display_data"
    }
   ],
   "source": [
    "for model_name in [\"codegen\", \"gptj\", \"incoder\"]:\n",
    "    df = df_merged[df_merged[\"model_name\"] == model_name]\n",
    "    # sort by score\n",
    "    df = df.sort_values(by=\"score\")\n",
    "    fig, ax = plt.subplots(figsize=(5, 2))\n",
    "    sns.violinplot(\n",
    "        data=df,\n",
    "        y=\"score\",\n",
    "        x=\"correlation\",\n",
    "        #hue=\"score\",\n",
    "        #order=[\"Correct\", \"Partial\", \"Wrong\"],\n",
    "        palette=[\"limegreen\", \"lightgrey\", \"salmon\"],\n",
    "        meanline=True,\n",
    "        showmeans=True,\n",
    "        ax=ax\n",
    "    )\n",
    "    ax.set_xlim(-.6, .6)\n",
    "    # vertical line at 0\n",
    "    ax.axvline(x=0, color=\"black\", linestyle=\"--\")\n",
    "    ax.set_xlabel(\"Spearman Rank Correlation\")\n",
    "    ax.set_title(f\"Model: {model_name}\")\n",
    "    plt.show()\n",
    "        "
   ]
  },
  {
   "cell_type": "code",
   "execution_count": 64,
   "metadata": {},
   "outputs": [
    {
     "name": "stdout",
     "output_type": "stream",
     "text": [
      "<class 'pandas.core.frame.DataFrame'>\n",
      "Int64Index: 276 entries, 0 to 275\n",
      "Data columns (total 35 columns):\n",
      " #   Column                                              Non-Null Count  Dtype  \n",
      "---  ------                                              --------------  -----  \n",
      " 0   comparison_name                                     276 non-null    object \n",
      " 1   comparison_function                                 276 non-null    object \n",
      " 2   source_code                                         276 non-null    object \n",
      " 3   user_name_a                                         0 non-null      object \n",
      " 4   task_number_a                                       0 non-null      float64\n",
      " 5   user_name_b                                         0 non-null      object \n",
      " 6   task_number_b                                       0 non-null      float64\n",
      " 7   human_a                                             0 non-null      object \n",
      " 8   human_b                                             0 non-null      object \n",
      " 9   comparison_type                                     276 non-null    object \n",
      " 10  correlation                                         276 non-null    float64\n",
      " 11  pvalue                                              276 non-null    float64\n",
      " 12  time_ts_sec                                         276 non-null    float64\n",
      " 13  time_human                                          276 non-null    object \n",
      " 14  provenance.name                                     276 non-null    object \n",
      " 15  provenance.type                                     276 non-null    object \n",
      " 16  provenance.comparison_function                      276 non-null    object \n",
      " 17  provenance.transformations                          276 non-null    object \n",
      " 18  provenance.human.subfolder                          276 non-null    object \n",
      " 19  provenance.human.file_extension                     276 non-null    object \n",
      " 20  provenance.human.tokenizer                          276 non-null    object \n",
      " 21  provenance.human.model_folder                       276 non-null    object \n",
      " 22  provenance.human.suffix                             276 non-null    object \n",
      " 23  provenance.human.transformations                    276 non-null    object \n",
      " 24  provenance.machine                                  276 non-null    object \n",
      " 25  human_att_folder                                    276 non-null    object \n",
      " 26  user_name                                           276 non-null    object \n",
      " 27  task_number                                         276 non-null    float64\n",
      " 28  input_human_filestem                                276 non-null    object \n",
      " 29  input_machine_filestem                              276 non-null    object \n",
      " 30  transformation_0.name                               276 non-null    object \n",
      " 31  transformation_0.kwargs.mapping_from_token_to_char  276 non-null    object \n",
      " 32  transformation_1.name                               276 non-null    object \n",
      " 33  machine_att_folder                                  276 non-null    object \n",
      " 34  programming_language                                276 non-null    object \n",
      "dtypes: float64(6), object(29)\n",
      "memory usage: 77.6+ KB\n"
     ]
    }
   ],
   "source": [
    "df_corr = DF_CODEGEN[DF_CODEGEN[\"comparison_name\"].isin([\"plain_weights_meanfollowers\"])]\n",
    "df_corr.info()"
   ]
  },
  {
   "cell_type": "code",
   "execution_count": 65,
   "metadata": {},
   "outputs": [],
   "source": [
    "# rename input_machine_filestem to filename\n",
    "df_corr = df_corr.rename(columns={\"input_machine_filestem\": \"filename\"})"
   ]
  },
  {
   "cell_type": "code",
   "execution_count": 66,
   "metadata": {},
   "outputs": [
    {
     "data": {
      "text/html": [
       "<div>\n",
       "<style scoped>\n",
       "    .dataframe tbody tr th:only-of-type {\n",
       "        vertical-align: middle;\n",
       "    }\n",
       "\n",
       "    .dataframe tbody tr th {\n",
       "        vertical-align: top;\n",
       "    }\n",
       "\n",
       "    .dataframe thead th {\n",
       "        text-align: right;\n",
       "    }\n",
       "</style>\n",
       "<table border=\"1\" class=\"dataframe\">\n",
       "  <thead>\n",
       "    <tr style=\"text-align: right;\">\n",
       "      <th></th>\n",
       "      <th>comparison_name</th>\n",
       "      <th>comparison_function</th>\n",
       "      <th>source_code</th>\n",
       "      <th>user_name_a</th>\n",
       "      <th>task_number_a</th>\n",
       "      <th>user_name_b</th>\n",
       "      <th>task_number_b</th>\n",
       "      <th>human_a</th>\n",
       "      <th>human_b</th>\n",
       "      <th>comparison_type</th>\n",
       "      <th>...</th>\n",
       "      <th>human_att_folder</th>\n",
       "      <th>user_name</th>\n",
       "      <th>task_number</th>\n",
       "      <th>input_human_filestem</th>\n",
       "      <th>filename</th>\n",
       "      <th>transformation_0.name</th>\n",
       "      <th>transformation_0.kwargs.mapping_from_token_to_char</th>\n",
       "      <th>transformation_1.name</th>\n",
       "      <th>machine_att_folder</th>\n",
       "      <th>programming_language</th>\n",
       "    </tr>\n",
       "  </thead>\n",
       "  <tbody>\n",
       "    <tr>\n",
       "      <th>0</th>\n",
       "      <td>plain_weights_meanfollowers</td>\n",
       "      <td>spearman_rank</td>\n",
       "      <td>tree_Q2.py</td>\n",
       "      <td>NaN</td>\n",
       "      <td>NaN</td>\n",
       "      <td>NaN</td>\n",
       "      <td>NaN</td>\n",
       "      <td>NaN</td>\n",
       "      <td>NaN</td>\n",
       "      <td>vector</td>\n",
       "      <td>...</td>\n",
       "      <td>./data/eye_tracking_attention/eye_v10</td>\n",
       "      <td>UbagU</td>\n",
       "      <td>2.0</td>\n",
       "      <td>0480e5</td>\n",
       "      <td>tree_Q2.py_0_Salesforce_codegen-16B-multi</td>\n",
       "      <td>convert_to_char_level</td>\n",
       "      <td>equal_share</td>\n",
       "      <td>convert_vect_to_probabilities</td>\n",
       "      <td>./data/model_output/exp_v10/codegen</td>\n",
       "      <td>py</td>\n",
       "    </tr>\n",
       "    <tr>\n",
       "      <th>1</th>\n",
       "      <td>plain_weights_meanfollowers</td>\n",
       "      <td>spearman_rank</td>\n",
       "      <td>tree_Q2.py</td>\n",
       "      <td>NaN</td>\n",
       "      <td>NaN</td>\n",
       "      <td>NaN</td>\n",
       "      <td>NaN</td>\n",
       "      <td>NaN</td>\n",
       "      <td>NaN</td>\n",
       "      <td>vector</td>\n",
       "      <td>...</td>\n",
       "      <td>./data/eye_tracking_attention/eye_v10</td>\n",
       "      <td>UbagU</td>\n",
       "      <td>2.0</td>\n",
       "      <td>0480e5</td>\n",
       "      <td>tree_Q2.py_1_Salesforce_codegen-16B-multi</td>\n",
       "      <td>convert_to_char_level</td>\n",
       "      <td>equal_share</td>\n",
       "      <td>convert_vect_to_probabilities</td>\n",
       "      <td>./data/model_output/exp_v10/codegen</td>\n",
       "      <td>py</td>\n",
       "    </tr>\n",
       "    <tr>\n",
       "      <th>2</th>\n",
       "      <td>plain_weights_meanfollowers</td>\n",
       "      <td>spearman_rank</td>\n",
       "      <td>tree_Q2.py</td>\n",
       "      <td>NaN</td>\n",
       "      <td>NaN</td>\n",
       "      <td>NaN</td>\n",
       "      <td>NaN</td>\n",
       "      <td>NaN</td>\n",
       "      <td>NaN</td>\n",
       "      <td>vector</td>\n",
       "      <td>...</td>\n",
       "      <td>./data/eye_tracking_attention/eye_v10</td>\n",
       "      <td>UbagU</td>\n",
       "      <td>2.0</td>\n",
       "      <td>0480e5</td>\n",
       "      <td>tree_Q2.py_2_Salesforce_codegen-16B-multi</td>\n",
       "      <td>convert_to_char_level</td>\n",
       "      <td>equal_share</td>\n",
       "      <td>convert_vect_to_probabilities</td>\n",
       "      <td>./data/model_output/exp_v10/codegen</td>\n",
       "      <td>py</td>\n",
       "    </tr>\n",
       "    <tr>\n",
       "      <th>3</th>\n",
       "      <td>plain_weights_meanfollowers</td>\n",
       "      <td>spearman_rank</td>\n",
       "      <td>triangle_Q3.py</td>\n",
       "      <td>NaN</td>\n",
       "      <td>NaN</td>\n",
       "      <td>NaN</td>\n",
       "      <td>NaN</td>\n",
       "      <td>NaN</td>\n",
       "      <td>NaN</td>\n",
       "      <td>vector</td>\n",
       "      <td>...</td>\n",
       "      <td>./data/eye_tracking_attention/eye_v10</td>\n",
       "      <td>UbeerU</td>\n",
       "      <td>2.0</td>\n",
       "      <td>08147e</td>\n",
       "      <td>triangle_Q3.py_0_Salesforce_codegen-16B-multi</td>\n",
       "      <td>convert_to_char_level</td>\n",
       "      <td>equal_share</td>\n",
       "      <td>convert_vect_to_probabilities</td>\n",
       "      <td>./data/model_output/exp_v10/codegen</td>\n",
       "      <td>py</td>\n",
       "    </tr>\n",
       "    <tr>\n",
       "      <th>4</th>\n",
       "      <td>plain_weights_meanfollowers</td>\n",
       "      <td>spearman_rank</td>\n",
       "      <td>triangle_Q3.py</td>\n",
       "      <td>NaN</td>\n",
       "      <td>NaN</td>\n",
       "      <td>NaN</td>\n",
       "      <td>NaN</td>\n",
       "      <td>NaN</td>\n",
       "      <td>NaN</td>\n",
       "      <td>vector</td>\n",
       "      <td>...</td>\n",
       "      <td>./data/eye_tracking_attention/eye_v10</td>\n",
       "      <td>UbeerU</td>\n",
       "      <td>2.0</td>\n",
       "      <td>08147e</td>\n",
       "      <td>triangle_Q3.py_1_Salesforce_codegen-16B-multi</td>\n",
       "      <td>convert_to_char_level</td>\n",
       "      <td>equal_share</td>\n",
       "      <td>convert_vect_to_probabilities</td>\n",
       "      <td>./data/model_output/exp_v10/codegen</td>\n",
       "      <td>py</td>\n",
       "    </tr>\n",
       "  </tbody>\n",
       "</table>\n",
       "<p>5 rows × 35 columns</p>\n",
       "</div>"
      ],
      "text/plain": [
       "               comparison_name comparison_function     source_code  \\\n",
       "0  plain_weights_meanfollowers       spearman_rank      tree_Q2.py   \n",
       "1  plain_weights_meanfollowers       spearman_rank      tree_Q2.py   \n",
       "2  plain_weights_meanfollowers       spearman_rank      tree_Q2.py   \n",
       "3  plain_weights_meanfollowers       spearman_rank  triangle_Q3.py   \n",
       "4  plain_weights_meanfollowers       spearman_rank  triangle_Q3.py   \n",
       "\n",
       "  user_name_a  task_number_a user_name_b  task_number_b human_a human_b  \\\n",
       "0         NaN            NaN         NaN            NaN     NaN     NaN   \n",
       "1         NaN            NaN         NaN            NaN     NaN     NaN   \n",
       "2         NaN            NaN         NaN            NaN     NaN     NaN   \n",
       "3         NaN            NaN         NaN            NaN     NaN     NaN   \n",
       "4         NaN            NaN         NaN            NaN     NaN     NaN   \n",
       "\n",
       "  comparison_type  ...                       human_att_folder  user_name  \\\n",
       "0          vector  ...  ./data/eye_tracking_attention/eye_v10      UbagU   \n",
       "1          vector  ...  ./data/eye_tracking_attention/eye_v10      UbagU   \n",
       "2          vector  ...  ./data/eye_tracking_attention/eye_v10      UbagU   \n",
       "3          vector  ...  ./data/eye_tracking_attention/eye_v10     UbeerU   \n",
       "4          vector  ...  ./data/eye_tracking_attention/eye_v10     UbeerU   \n",
       "\n",
       "   task_number input_human_filestem  \\\n",
       "0          2.0               0480e5   \n",
       "1          2.0               0480e5   \n",
       "2          2.0               0480e5   \n",
       "3          2.0               08147e   \n",
       "4          2.0               08147e   \n",
       "\n",
       "                                        filename  transformation_0.name  \\\n",
       "0      tree_Q2.py_0_Salesforce_codegen-16B-multi  convert_to_char_level   \n",
       "1      tree_Q2.py_1_Salesforce_codegen-16B-multi  convert_to_char_level   \n",
       "2      tree_Q2.py_2_Salesforce_codegen-16B-multi  convert_to_char_level   \n",
       "3  triangle_Q3.py_0_Salesforce_codegen-16B-multi  convert_to_char_level   \n",
       "4  triangle_Q3.py_1_Salesforce_codegen-16B-multi  convert_to_char_level   \n",
       "\n",
       "  transformation_0.kwargs.mapping_from_token_to_char  \\\n",
       "0                                        equal_share   \n",
       "1                                        equal_share   \n",
       "2                                        equal_share   \n",
       "3                                        equal_share   \n",
       "4                                        equal_share   \n",
       "\n",
       "           transformation_1.name                   machine_att_folder  \\\n",
       "0  convert_vect_to_probabilities  ./data/model_output/exp_v10/codegen   \n",
       "1  convert_vect_to_probabilities  ./data/model_output/exp_v10/codegen   \n",
       "2  convert_vect_to_probabilities  ./data/model_output/exp_v10/codegen   \n",
       "3  convert_vect_to_probabilities  ./data/model_output/exp_v10/codegen   \n",
       "4  convert_vect_to_probabilities  ./data/model_output/exp_v10/codegen   \n",
       "\n",
       "  programming_language  \n",
       "0                   py  \n",
       "1                   py  \n",
       "2                   py  \n",
       "3                   py  \n",
       "4                   py  \n",
       "\n",
       "[5 rows x 35 columns]"
      ]
     },
     "execution_count": 66,
     "metadata": {},
     "output_type": "execute_result"
    }
   ],
   "source": [
    "df_corr.head()"
   ]
  },
  {
   "cell_type": "code",
   "execution_count": 67,
   "metadata": {},
   "outputs": [
    {
     "data": {
      "text/html": [
       "<div>\n",
       "<style scoped>\n",
       "    .dataframe tbody tr th:only-of-type {\n",
       "        vertical-align: middle;\n",
       "    }\n",
       "\n",
       "    .dataframe tbody tr th {\n",
       "        vertical-align: top;\n",
       "    }\n",
       "\n",
       "    .dataframe thead th {\n",
       "        text-align: right;\n",
       "    }\n",
       "</style>\n",
       "<table border=\"1\" class=\"dataframe\">\n",
       "  <thead>\n",
       "    <tr style=\"text-align: right;\">\n",
       "      <th></th>\n",
       "      <th>filename</th>\n",
       "      <th>model_name</th>\n",
       "      <th>n_try</th>\n",
       "      <th>score</th>\n",
       "    </tr>\n",
       "  </thead>\n",
       "  <tbody>\n",
       "    <tr>\n",
       "      <th>0</th>\n",
       "      <td>tree_Q3.py_0_Salesforce_codegen-16B-multi</td>\n",
       "      <td>codegen-16B-multi</td>\n",
       "      <td>0</td>\n",
       "      <td>2</td>\n",
       "    </tr>\n",
       "    <tr>\n",
       "      <th>1</th>\n",
       "      <td>triangle_Q3.py_1_Salesforce_codegen-16B-multi</td>\n",
       "      <td>codegen-16B-multi</td>\n",
       "      <td>1</td>\n",
       "      <td>0</td>\n",
       "    </tr>\n",
       "    <tr>\n",
       "      <th>2</th>\n",
       "      <td>multithread_Q1.cpp_1_Salesforce_codegen-16B-multi</td>\n",
       "      <td>codegen-16B-multi</td>\n",
       "      <td>1</td>\n",
       "      <td>0</td>\n",
       "    </tr>\n",
       "    <tr>\n",
       "      <th>3</th>\n",
       "      <td>triangle_Q1.cs_1_Salesforce_codegen-16B-multi</td>\n",
       "      <td>codegen-16B-multi</td>\n",
       "      <td>1</td>\n",
       "      <td>2</td>\n",
       "    </tr>\n",
       "    <tr>\n",
       "      <th>4</th>\n",
       "      <td>hannoi_Q2.cpp_1_Salesforce_codegen-16B-multi</td>\n",
       "      <td>codegen-16B-multi</td>\n",
       "      <td>1</td>\n",
       "      <td>2</td>\n",
       "    </tr>\n",
       "  </tbody>\n",
       "</table>\n",
       "</div>"
      ],
      "text/plain": [
       "                                            filename         model_name  \\\n",
       "0          tree_Q3.py_0_Salesforce_codegen-16B-multi  codegen-16B-multi   \n",
       "1      triangle_Q3.py_1_Salesforce_codegen-16B-multi  codegen-16B-multi   \n",
       "2  multithread_Q1.cpp_1_Salesforce_codegen-16B-multi  codegen-16B-multi   \n",
       "3      triangle_Q1.cs_1_Salesforce_codegen-16B-multi  codegen-16B-multi   \n",
       "4       hannoi_Q2.cpp_1_Salesforce_codegen-16B-multi  codegen-16B-multi   \n",
       "\n",
       "   n_try  score  \n",
       "0      0      2  \n",
       "1      1      0  \n",
       "2      1      0  \n",
       "3      1      2  \n",
       "4      1      2  "
      ]
     },
     "execution_count": 67,
     "metadata": {},
     "output_type": "execute_result"
    }
   ],
   "source": [
    "df_codegen_score = pd.read_csv(CODEGEN_ANNOTATIONS)\n",
    "df_codegen_score.head()\n"
   ]
  },
  {
   "cell_type": "code",
   "execution_count": 68,
   "metadata": {},
   "outputs": [
    {
     "data": {
      "text/html": [
       "<div>\n",
       "<style scoped>\n",
       "    .dataframe tbody tr th:only-of-type {\n",
       "        vertical-align: middle;\n",
       "    }\n",
       "\n",
       "    .dataframe tbody tr th {\n",
       "        vertical-align: top;\n",
       "    }\n",
       "\n",
       "    .dataframe thead th {\n",
       "        text-align: right;\n",
       "    }\n",
       "</style>\n",
       "<table border=\"1\" class=\"dataframe\">\n",
       "  <thead>\n",
       "    <tr style=\"text-align: right;\">\n",
       "      <th></th>\n",
       "      <th>comparison_name</th>\n",
       "      <th>comparison_function</th>\n",
       "      <th>source_code</th>\n",
       "      <th>user_name_a</th>\n",
       "      <th>task_number_a</th>\n",
       "      <th>user_name_b</th>\n",
       "      <th>task_number_b</th>\n",
       "      <th>human_a</th>\n",
       "      <th>human_b</th>\n",
       "      <th>comparison_type</th>\n",
       "      <th>...</th>\n",
       "      <th>input_human_filestem</th>\n",
       "      <th>filename</th>\n",
       "      <th>transformation_0.name</th>\n",
       "      <th>transformation_0.kwargs.mapping_from_token_to_char</th>\n",
       "      <th>transformation_1.name</th>\n",
       "      <th>machine_att_folder</th>\n",
       "      <th>programming_language</th>\n",
       "      <th>model_name</th>\n",
       "      <th>n_try</th>\n",
       "      <th>score</th>\n",
       "    </tr>\n",
       "  </thead>\n",
       "  <tbody>\n",
       "    <tr>\n",
       "      <th>0</th>\n",
       "      <td>plain_weights_meanfollowers</td>\n",
       "      <td>spearman_rank</td>\n",
       "      <td>tree_Q2.py</td>\n",
       "      <td>NaN</td>\n",
       "      <td>NaN</td>\n",
       "      <td>NaN</td>\n",
       "      <td>NaN</td>\n",
       "      <td>NaN</td>\n",
       "      <td>NaN</td>\n",
       "      <td>vector</td>\n",
       "      <td>...</td>\n",
       "      <td>0480e5</td>\n",
       "      <td>tree_Q2.py_0_Salesforce_codegen-16B-multi</td>\n",
       "      <td>convert_to_char_level</td>\n",
       "      <td>equal_share</td>\n",
       "      <td>convert_vect_to_probabilities</td>\n",
       "      <td>./data/model_output/exp_v10/codegen</td>\n",
       "      <td>py</td>\n",
       "      <td>codegen-16B-multi</td>\n",
       "      <td>0</td>\n",
       "      <td>0</td>\n",
       "    </tr>\n",
       "    <tr>\n",
       "      <th>1</th>\n",
       "      <td>plain_weights_meanfollowers</td>\n",
       "      <td>spearman_rank</td>\n",
       "      <td>tree_Q2.py</td>\n",
       "      <td>NaN</td>\n",
       "      <td>NaN</td>\n",
       "      <td>NaN</td>\n",
       "      <td>NaN</td>\n",
       "      <td>NaN</td>\n",
       "      <td>NaN</td>\n",
       "      <td>vector</td>\n",
       "      <td>...</td>\n",
       "      <td>5a70af</td>\n",
       "      <td>tree_Q2.py_0_Salesforce_codegen-16B-multi</td>\n",
       "      <td>convert_to_char_level</td>\n",
       "      <td>equal_share</td>\n",
       "      <td>convert_vect_to_probabilities</td>\n",
       "      <td>./data/model_output/exp_v10/codegen</td>\n",
       "      <td>py</td>\n",
       "      <td>codegen-16B-multi</td>\n",
       "      <td>0</td>\n",
       "      <td>0</td>\n",
       "    </tr>\n",
       "    <tr>\n",
       "      <th>2</th>\n",
       "      <td>plain_weights_meanfollowers</td>\n",
       "      <td>spearman_rank</td>\n",
       "      <td>tree_Q2.py</td>\n",
       "      <td>NaN</td>\n",
       "      <td>NaN</td>\n",
       "      <td>NaN</td>\n",
       "      <td>NaN</td>\n",
       "      <td>NaN</td>\n",
       "      <td>NaN</td>\n",
       "      <td>vector</td>\n",
       "      <td>...</td>\n",
       "      <td>0480e5</td>\n",
       "      <td>tree_Q2.py_1_Salesforce_codegen-16B-multi</td>\n",
       "      <td>convert_to_char_level</td>\n",
       "      <td>equal_share</td>\n",
       "      <td>convert_vect_to_probabilities</td>\n",
       "      <td>./data/model_output/exp_v10/codegen</td>\n",
       "      <td>py</td>\n",
       "      <td>codegen-16B-multi</td>\n",
       "      <td>1</td>\n",
       "      <td>0</td>\n",
       "    </tr>\n",
       "    <tr>\n",
       "      <th>3</th>\n",
       "      <td>plain_weights_meanfollowers</td>\n",
       "      <td>spearman_rank</td>\n",
       "      <td>tree_Q2.py</td>\n",
       "      <td>NaN</td>\n",
       "      <td>NaN</td>\n",
       "      <td>NaN</td>\n",
       "      <td>NaN</td>\n",
       "      <td>NaN</td>\n",
       "      <td>NaN</td>\n",
       "      <td>vector</td>\n",
       "      <td>...</td>\n",
       "      <td>5a70af</td>\n",
       "      <td>tree_Q2.py_1_Salesforce_codegen-16B-multi</td>\n",
       "      <td>convert_to_char_level</td>\n",
       "      <td>equal_share</td>\n",
       "      <td>convert_vect_to_probabilities</td>\n",
       "      <td>./data/model_output/exp_v10/codegen</td>\n",
       "      <td>py</td>\n",
       "      <td>codegen-16B-multi</td>\n",
       "      <td>1</td>\n",
       "      <td>0</td>\n",
       "    </tr>\n",
       "    <tr>\n",
       "      <th>4</th>\n",
       "      <td>plain_weights_meanfollowers</td>\n",
       "      <td>spearman_rank</td>\n",
       "      <td>tree_Q2.py</td>\n",
       "      <td>NaN</td>\n",
       "      <td>NaN</td>\n",
       "      <td>NaN</td>\n",
       "      <td>NaN</td>\n",
       "      <td>NaN</td>\n",
       "      <td>NaN</td>\n",
       "      <td>vector</td>\n",
       "      <td>...</td>\n",
       "      <td>0480e5</td>\n",
       "      <td>tree_Q2.py_2_Salesforce_codegen-16B-multi</td>\n",
       "      <td>convert_to_char_level</td>\n",
       "      <td>equal_share</td>\n",
       "      <td>convert_vect_to_probabilities</td>\n",
       "      <td>./data/model_output/exp_v10/codegen</td>\n",
       "      <td>py</td>\n",
       "      <td>codegen-16B-multi</td>\n",
       "      <td>2</td>\n",
       "      <td>0</td>\n",
       "    </tr>\n",
       "  </tbody>\n",
       "</table>\n",
       "<p>5 rows × 38 columns</p>\n",
       "</div>"
      ],
      "text/plain": [
       "               comparison_name comparison_function source_code user_name_a  \\\n",
       "0  plain_weights_meanfollowers       spearman_rank  tree_Q2.py         NaN   \n",
       "1  plain_weights_meanfollowers       spearman_rank  tree_Q2.py         NaN   \n",
       "2  plain_weights_meanfollowers       spearman_rank  tree_Q2.py         NaN   \n",
       "3  plain_weights_meanfollowers       spearman_rank  tree_Q2.py         NaN   \n",
       "4  plain_weights_meanfollowers       spearman_rank  tree_Q2.py         NaN   \n",
       "\n",
       "   task_number_a user_name_b  task_number_b human_a human_b comparison_type  \\\n",
       "0            NaN         NaN            NaN     NaN     NaN          vector   \n",
       "1            NaN         NaN            NaN     NaN     NaN          vector   \n",
       "2            NaN         NaN            NaN     NaN     NaN          vector   \n",
       "3            NaN         NaN            NaN     NaN     NaN          vector   \n",
       "4            NaN         NaN            NaN     NaN     NaN          vector   \n",
       "\n",
       "   ...  input_human_filestem                                   filename  \\\n",
       "0  ...                0480e5  tree_Q2.py_0_Salesforce_codegen-16B-multi   \n",
       "1  ...                5a70af  tree_Q2.py_0_Salesforce_codegen-16B-multi   \n",
       "2  ...                0480e5  tree_Q2.py_1_Salesforce_codegen-16B-multi   \n",
       "3  ...                5a70af  tree_Q2.py_1_Salesforce_codegen-16B-multi   \n",
       "4  ...                0480e5  tree_Q2.py_2_Salesforce_codegen-16B-multi   \n",
       "\n",
       "   transformation_0.name transformation_0.kwargs.mapping_from_token_to_char  \\\n",
       "0  convert_to_char_level                                        equal_share   \n",
       "1  convert_to_char_level                                        equal_share   \n",
       "2  convert_to_char_level                                        equal_share   \n",
       "3  convert_to_char_level                                        equal_share   \n",
       "4  convert_to_char_level                                        equal_share   \n",
       "\n",
       "           transformation_1.name                   machine_att_folder  \\\n",
       "0  convert_vect_to_probabilities  ./data/model_output/exp_v10/codegen   \n",
       "1  convert_vect_to_probabilities  ./data/model_output/exp_v10/codegen   \n",
       "2  convert_vect_to_probabilities  ./data/model_output/exp_v10/codegen   \n",
       "3  convert_vect_to_probabilities  ./data/model_output/exp_v10/codegen   \n",
       "4  convert_vect_to_probabilities  ./data/model_output/exp_v10/codegen   \n",
       "\n",
       "  programming_language         model_name n_try score  \n",
       "0                   py  codegen-16B-multi     0     0  \n",
       "1                   py  codegen-16B-multi     0     0  \n",
       "2                   py  codegen-16B-multi     1     0  \n",
       "3                   py  codegen-16B-multi     1     0  \n",
       "4                   py  codegen-16B-multi     2     0  \n",
       "\n",
       "[5 rows x 38 columns]"
      ]
     },
     "execution_count": 68,
     "metadata": {},
     "output_type": "execute_result"
    }
   ],
   "source": [
    "df_score_and_corr = pd.merge(\n",
    "   left=df_corr,\n",
    "   right=df_codegen_score,\n",
    "   on='filename', \n",
    ")\n",
    "df_score_and_corr.head()"
   ]
  },
  {
   "cell_type": "code",
   "execution_count": 70,
   "metadata": {},
   "outputs": [
    {
     "data": {
      "text/plain": [
       "<AxesSubplot:xlabel='score', ylabel='correlation'>"
      ]
     },
     "execution_count": 70,
     "metadata": {},
     "output_type": "execute_result"
    },
    {
     "data": {
      "image/png": "[encoded data removed]",
      "text/plain": [
       "<Figure size 432x288 with 1 Axes>"
      ]
     },
     "metadata": {
      "needs_background": "light"
     },
     "output_type": "display_data"
    }
   ],
   "source": [
    "sns.regplot(\n",
    "    data=df_score_and_corr,\n",
    "    x=\"score\",\n",
    "    y=\"correlation\",\n",
    ")"
   ]
  },
  {
   "cell_type": "markdown",
   "metadata": {},
   "source": [
    "# PL Study"
   ]
  },
  {
   "cell_type": "code",
   "execution_count": 38,
   "metadata": {},
   "outputs": [
    {
     "data": {
      "image/png": "[encoded data removed]",
      "text/plain": [
       "<Figure size 864x265.68 with 9 Axes>"
      ]
     },
     "metadata": {
      "needs_background": "light"
     },
     "output_type": "display_data"
    }
   ],
   "source": [
    "PL_LONG_NAMES = [\"Python\", \"C#\", \"C++\"]\n",
    "pl_comparisons = [\n",
    "    c\n",
    "    for c in vector_comparisons_codegen + vector_comparisons_gptj\n",
    "    if any([l in c[\"long\"] for l in PL_LONG_NAMES])\n",
    "]\n",
    "all_comparisons = vector_comparisons_codegen[:1] + vector_comparisons_gptj[:2] + pl_comparisons\n",
    "plot_histogram_in_parallel(\n",
    "    all_comparisons,\n",
    "    col_name=\"correlation\",\n",
    "    common_prefix=\"Spearman Rank Corr.\",\n",
    "    bins=np.arange(-1, 1, 0.05),\n",
    "    n_cols=3,\n",
    "    filling_direction=\"vertical\",\n",
    "    width=12,\n",
    "    vertical_zero_line=True, \n",
    "    out_path=os.path.join(OUT_PAPER_FOLDER, \"human_vs_model_agreement_all_and_pl.pdf\"),\n",
    ")"
   ]
  },
  {
   "cell_type": "markdown",
   "metadata": {},
   "source": [
    "# Mann Whitney U test"
   ]
  },
  {
   "cell_type": "code",
   "execution_count": 35,
   "metadata": {},
   "outputs": [
    {
     "name": "stdout",
     "output_type": "stream",
     "text": [
      "Comparing py vs cpp\n",
      "\tDataset Model:  Gpt-j\n",
      "\tstat=2613.000, p=9.37e-01\n",
      "\tProbably the same distribution\n",
      "\tDataset Model:  Codegen\n",
      "\tstat=2499.000, p=7.22e-01\n",
      "\tProbably the same distribution\n",
      "Comparing py vs cs\n",
      "\tDataset Model:  Gpt-j\n",
      "\tstat=7637.000, p=2.00e-02\n",
      "\tProbably different distributions\n",
      "\tDataset Model:  Codegen\n",
      "\tstat=2626.000, p=9.29e-15\n",
      "\tProbably different distributions\n",
      "Comparing cpp vs cs\n",
      "\tDataset Model:  Gpt-j\n",
      "\tstat=3404.000, p=6.61e-02\n",
      "\tProbably the same distribution\n",
      "\tDataset Model:  Codegen\n",
      "\tstat=1486.000, p=9.95e-07\n",
      "\tProbably different distributions\n",
      "\\begin{tabular}{lllrll}\n",
      "\\toprule\n",
      "Neural Model & Lang. A & Lang. B &  Statistic &  p-value &                  Result \\\\\n",
      "\\midrule\n",
      "       Gpt-j &      py &     cpp &     2613.0 & 9.37e-01 &  Probably same distrib. \\\\\n",
      "     Codegen &      py &     cpp &     2499.0 & 7.22e-01 &  Probably same distrib. \\\\\n",
      "       Gpt-j &      py &      cs &     7637.0 & 2.00e-02 & Probably diff. distrib. \\\\\n",
      "     Codegen &      py &      cs &     2626.0 & 9.29e-15 & Probably diff. distrib. \\\\\n",
      "       Gpt-j &     cpp &      cs &     3404.0 & 6.61e-02 &  Probably same distrib. \\\\\n",
      "     Codegen &     cpp &      cs &     1486.0 & 9.95e-07 & Probably diff. distrib. \\\\\n",
      "\\bottomrule\n",
      "\\end{tabular}\n",
      "\n"
     ]
    },
    {
     "name": "stderr",
     "output_type": "stream",
     "text": [
      "/tmp/ipykernel_2651969/3116067965.py:37: FutureWarning: In future versions `DataFrame.to_latex` is expected to utilise the base implementation of `Styler.to_latex` for formatting and rendering. The arguments signature may therefore change. It is recommended instead to use `DataFrame.style.to_latex` which also contains additional functionality.\n",
      "  print(df_latex_table.to_latex(index=False))\n"
     ]
    }
   ],
   "source": [
    "# Example of the Mann-Whitney U Test \n",
    "from scipy.stats import mannwhitneyu \n",
    "PAIRS = [\n",
    "    ['py', 'cpp'],\n",
    "    ['py', 'cs'],\n",
    "    ['cpp', 'cs'],\n",
    "]\n",
    "records = []\n",
    "for lang_a, lang_b in PAIRS: \n",
    "    print(f'Comparing {lang_a} vs {lang_b}')\n",
    "    for df, name in [\n",
    "            (df_human_vs_model_gptj_same_question_res, 'Gpt-j'),\n",
    "            (df_human_vs_model_codegen_same_question_res, 'Codegen'),]:\n",
    "        print(f'\\tDataset Model:  {name}')\n",
    "        data_a = df[df[\"programming_language\"] == lang_a][\"correlation\"] \n",
    "        data_b = df[df[\"programming_language\"] == lang_b][\"correlation\"] \n",
    "        stat, p = mannwhitneyu(data_a, data_b) \n",
    "        # scientific notation with 2 decimals\n",
    "        print(f'\\tstat={stat:.3f}, p={p:.2e}') \n",
    "        if p > 0.05: \n",
    "            print('\\tProbably the same distribution') \n",
    "        else: \n",
    "            print('\\tProbably different distributions')\n",
    "        records.append({\n",
    "            'Neural Model': name,\n",
    "            'Lang. A': lang_a,\n",
    "            'Lang. B': lang_b,\n",
    "            'Statistic': stat,\n",
    "            'p-value': p,\n",
    "            'Result': 'Probably same distrib.' if p > 0.05 else 'Probably diff. distrib.'\n",
    "        })\n",
    "\n",
    "df_latex_table = pd.DataFrame.from_records(records)\n",
    "# format the p-value column with 2 decimals and scientific notation\n",
    "df_latex_table[\"p-value\"] = df_latex_table[\"p-value\"].apply(lambda x: f'{x:.2e}')\n",
    "# print leatx code\n",
    "print(df_latex_table.to_latex(index=False))"
   ]
  },
  {
   "cell_type": "markdown",
   "metadata": {},
   "source": [
    "# Sampling"
   ]
  },
  {
   "cell_type": "code",
   "execution_count": 7,
   "metadata": {},
   "outputs": [
    {
     "data": {
      "text/plain": [
       "276"
      ]
     },
     "execution_count": 7,
     "metadata": {},
     "output_type": "execute_result"
    }
   ],
   "source": [
    "# GOAL: we want to see how much the agreemnent changes in groups where we only \n",
    "# comparisons on tasks with the same programming language (PL) vs groups of \n",
    "# comparisons on randomly picked tasks (even of different PLs).\n",
    "N_TASKS_PER_GROUP = 100\n",
    "N_REPETITIONS = 30\n",
    "df = df_human_vs_model_codegen_same_question_res\n",
    "\n",
    "len(df)"
   ]
  },
  {
   "cell_type": "code",
   "execution_count": 8,
   "metadata": {},
   "outputs": [
    {
     "name": "stdout",
     "output_type": "stream",
     "text": [
      "<class 'pandas.core.frame.DataFrame'>\n",
      "Int64Index: 276 entries, 0 to 275\n",
      "Data columns (total 60 columns):\n",
      " #   Column                                              Non-Null Count  Dtype  \n",
      "---  ------                                              --------------  -----  \n",
      " 0   comparison_name                                     276 non-null    object \n",
      " 1   comparison_function                                 276 non-null    object \n",
      " 2   source_code                                         276 non-null    object \n",
      " 3   user_name                                           276 non-null    object \n",
      " 4   task_number                                         276 non-null    float64\n",
      " 5   input_human_filestem                                276 non-null    object \n",
      " 6   input_machine_filestem                              276 non-null    object \n",
      " 7   comparison_type                                     276 non-null    object \n",
      " 8   top_3                                               0 non-null      float64\n",
      " 9   time_ts_sec                                         276 non-null    float64\n",
      " 10  time_human                                          276 non-null    object \n",
      " 11  transformation_0.name                               276 non-null    object \n",
      " 12  transformation_0.kwargs.special_char_mapping.Ġ      0 non-null      object \n",
      " 13  transformation_0.kwargs.special_char_mapping.Ċ      0 non-null      object \n",
      " 14  transformation_1.name                               276 non-null    object \n",
      " 15  transformation_1.kwargs.special_char_mapping.Ġ      0 non-null      object \n",
      " 16  transformation_1.kwargs.special_char_mapping.Ċ      0 non-null      object \n",
      " 17  provenance.name                                     276 non-null    object \n",
      " 18  provenance.type                                     276 non-null    object \n",
      " 19  provenance.comparison_function                      276 non-null    object \n",
      " 20  provenance.comparison_output_column                 0 non-null      object \n",
      " 21  provenance.comparison_output_subcolumns             0 non-null      object \n",
      " 22  provenance.transformations                          276 non-null    object \n",
      " 23  provenance.human.subfolder                          276 non-null    object \n",
      " 24  provenance.human.file_extension                     276 non-null    object \n",
      " 25  provenance.human.tokenizer                          276 non-null    object \n",
      " 26  provenance.human.model_folder                       276 non-null    object \n",
      " 27  provenance.human.suffix                             276 non-null    object \n",
      " 28  provenance.machine                                  0 non-null      object \n",
      " 29  top_3.value                                         0 non-null      float64\n",
      " 30  top_3.token_index                                   0 non-null      float64\n",
      " 31  human_att_folder                                    276 non-null    object \n",
      " 32  machine_att_folder                                  276 non-null    object \n",
      " 33  spearman_res                                        0 non-null      float64\n",
      " 34  spearman_res.corr                                   0 non-null      float64\n",
      " 35  spearman_res.pval                                   0 non-null      float64\n",
      " 36  spearman_res.token_index                            0 non-null      float64\n",
      " 37  top_10                                              0 non-null      float64\n",
      " 38  top_10.value                                        0 non-null      float64\n",
      " 39  top_10.token_index                                  0 non-null      float64\n",
      " 40  mse                                                 0 non-null      float64\n",
      " 41  transformation_2.name                               0 non-null      object \n",
      " 42  mse.value                                           0 non-null      float64\n",
      " 43  mse.token_index                                     0 non-null      float64\n",
      " 44  user_name_a                                         0 non-null      object \n",
      " 45  task_number_a                                       0 non-null      float64\n",
      " 46  user_name_b                                         0 non-null      object \n",
      " 47  task_number_b                                       0 non-null      float64\n",
      " 48  human_a                                             0 non-null      object \n",
      " 49  human_b                                             0 non-null      object \n",
      " 50  rank                                                0 non-null      float64\n",
      " 51  rank.value                                          0 non-null      float64\n",
      " 52  rank.token_index                                    0 non-null      float64\n",
      " 53  correlation                                         276 non-null    float64\n",
      " 54  pvalue                                              276 non-null    float64\n",
      " 55  provenance.human.transformations                    276 non-null    object \n",
      " 56  provenance.machine.subfolder                        276 non-null    object \n",
      " 57  provenance.machine.suffix                           276 non-null    object \n",
      " 58  provenance.machine.file_extension                   276 non-null    object \n",
      " 59  transformation_0.kwargs.mapping_from_token_to_char  276 non-null    object \n",
      "dtypes: float64(22), object(38)\n",
      "memory usage: 131.5+ KB\n"
     ]
    }
   ],
   "source": [
    "df.info()"
   ]
  },
  {
   "cell_type": "code",
   "execution_count": 29,
   "metadata": {},
   "outputs": [
    {
     "name": "stderr",
     "output_type": "stream",
     "text": [
      "100%|██████████| 10000/10000 [00:18<00:00, 527.12it/s]\n"
     ]
    },
    {
     "data": {
      "text/plain": [
       "(-1.0, 1.0)"
      ]
     },
     "execution_count": 29,
     "metadata": {},
     "output_type": "execute_result"
    },
    {
     "data": {
      "image/png": "[encoded data removed]",
      "text/plain": [
       "<Figure size 432x288 with 1 Axes>"
      ]
     },
     "metadata": {
      "needs_background": "light"
     },
     "output_type": "display_data"
    }
   ],
   "source": [
    "LANGUAGES = ['.py', '.cpp', '.cs']\n",
    "records_diffs = []\n",
    "\n",
    "# set the seed\n",
    "np.random.seed(42)\n",
    "N_REPETITIONS = 10000\n",
    "\n",
    "for i in tqdm(range(N_REPETITIONS)):\n",
    "\n",
    "    # CREATE THE SAME-PL GROUP\n",
    "    # pick a random langauge\n",
    "    random_lang = np.random.choice(LANGUAGES)\n",
    "    #print(f\"Random language: {random_lang}\")\n",
    "    df_pl_group = df[df[\"source_code\"].str.endswith(random_lang)]\n",
    "    #print(f\"Number of tasks in the PL group: {len(df_pl_group)}\")\n",
    "    # pick a random subset of tasks\n",
    "    df_pl_group = df_pl_group.sample(n=N_TASKS_PER_GROUP, replace=True)\n",
    "\n",
    "    # CREATE THE RANDOM-PL GROUP\n",
    "    df_random_group = df.sample(n=N_TASKS_PER_GROUP, replace=True)\n",
    "\n",
    "    # COMPUTE THE DIFFERENCE BETWEEN THE AVERAGE OF TE TWO GROUPS\n",
    "    avg_pl_group = df_pl_group[\"correlation\"].mean()\n",
    "    avg_random_group = df_random_group[\"correlation\"].mean()\n",
    "    diff = avg_pl_group - avg_random_group\n",
    "\n",
    "    # STORE THE DIFFERENCE\n",
    "    records_diffs.append({\n",
    "        \"diff\": diff,\n",
    "        \"avg_pl_group\": avg_pl_group,\n",
    "        \"avg_random_group\": avg_random_group,\n",
    "        \"pl\": random_lang,\n",
    "        \"type\": 'pl'\n",
    "    })\n",
    "\n",
    "    # CREATE ANOTHER RANDOM-PL GROUP\n",
    "    df_random_group_bis = df.sample(n=N_TASKS_PER_GROUP, replace=True)\n",
    "    avg_random_group_bis = df_random_group_bis[\"correlation\"].mean()\n",
    "    records_diffs.append({\n",
    "        \"diff\": diff,\n",
    "        \"avg_random_group\": avg_random_group,\n",
    "        \"avg_random_group_bis\": avg_random_group_bis,\n",
    "        \"type\": 'random'\n",
    "    })\n",
    "\n",
    "df_results = pd.DataFrame.from_records(records_diffs)\n",
    "df_results_diff_pl = df_results[df_results[\"type\"] == 'pl']\n",
    "df_results_diff_random = df_results[df_results[\"type\"] == 'random']\n",
    "\n",
    "# PLOT THE DISTRIBUTION OF THE DIFFERENCES\n",
    "sns.histplot(\n",
    "    data=df_results_diff_pl,\n",
    "    x=\"diff\",\n",
    "    hue=\"pl\",\n",
    ")\n",
    "plt.xlim(-1, 1)"
   ]
  },
  {
   "cell_type": "code",
   "execution_count": 38,
   "metadata": {},
   "outputs": [
    {
     "data": {
      "image/png": "[encoded data removed]",
      "text/plain": [
       "<Figure size 1080x504 with 4 Axes>"
      ]
     },
     "metadata": {
      "needs_background": "light"
     },
     "output_type": "display_data"
    }
   ],
   "source": [
    "# PLOT THE DISTRIBUTION OF THE DIFFERENCES\n",
    "fig, axes = plt.subplots(4, 1, figsize=(15, 7))\n",
    "ax_pl = axes[0]\n",
    "ax_random = axes[1]\n",
    "ax_diff = axes[2]\n",
    "ax_diff_random_groups = axes[3]\n",
    "\n",
    "sns.histplot(\n",
    "    data=df_results_diff_pl,\n",
    "    x=\"avg_pl_group\",\n",
    "    hue=\"pl\",\n",
    "    binwidth=0.0005,\n",
    "    ax=ax_pl\n",
    ")\n",
    "ax_pl.set_xlim(0, 1)\n",
    "ax_pl.set_title(\"Average correlation in the PL group\")\n",
    "\n",
    "sns.histplot(\n",
    "    data=df_results_diff_pl,\n",
    "    x=\"avg_random_group\",\n",
    "    ax=ax_random,\n",
    "    color=\"red\"\n",
    ")\n",
    "ax_random.set_xlim(0, 1)\n",
    "ax_random.set_title(\"Average correlation in the random group\")\n",
    "\n",
    "sns.histplot(\n",
    "    data=df_results_diff_pl,\n",
    "    x=\"diff\",\n",
    "    hue=\"pl\",\n",
    "    ax=ax_diff,\n",
    ")\n",
    "ax_diff.set_xlim(-1, 1)\n",
    "ax_diff.set_title(\"Distribution of the difference between a PL group and a random group\")\n",
    "\n",
    "sns.histplot(\n",
    "    data=df_results_diff_random,\n",
    "    x=\"diff\",\n",
    "    ax=ax_diff_random_groups,\n",
    "    color=\"red\"\n",
    ")\n",
    "ax_diff_random_groups.set_xlim(-1, 1)\n",
    "ax_diff.set_title(\"Distribution of the difference between two random groups\")\n",
    "\n",
    "plt.tight_layout()"
   ]
  },
  {
   "cell_type": "code",
   "execution_count": 35,
   "metadata": {},
   "outputs": [
    {
     "name": "stdout",
     "output_type": "stream",
     "text": [
      "================================================================================\n",
      "Testing avg correaltion of .py vs .cpp groups\n",
      "stat=-62.630, p=0.000\n",
      "Probably different distributions\n",
      "================================================================================\n",
      "Testing avg correaltion of .py vs .cs groups\n",
      "stat=-464.599, p=0.000\n",
      "Probably different distributions\n",
      "================================================================================\n",
      "Testing avg correaltion of .cpp vs .cs groups\n",
      "stat=-372.287, p=0.000\n",
      "Probably different distributions\n"
     ]
    }
   ],
   "source": [
    "# Check if the mean of each PL group is significantly different from the mean of the random group\n",
    "\n",
    "from scipy.stats import ttest_ind\n",
    "\n",
    "def test_mean(data_1, data_2):\n",
    "    \"\"\"Run the t-test to see if the two means are significantly different.\"\"\"\n",
    "    stat, p = ttest_ind(data_1, data_2)\n",
    "    print('stat=%.3f, p=%.3f' % (stat, p))\n",
    "    if p > 0.05:\n",
    "        print('Probably the same distribution')\n",
    "    else:\n",
    "        print('Probably different distributions')\n",
    "\n",
    "PAIRS = [\n",
    "    ['.py', '.cpp'],\n",
    "    ['.py', '.cs'],\n",
    "    ['.cpp', '.cs'],\n",
    "]\n",
    "\n",
    "for pair in PAIRS:\n",
    "    pl_1, pl_2 = pair\n",
    "    print(\"=\" * 80)\n",
    "    print(f\"Testing avg correaltion of {pl_1} vs {pl_2} groups\")\n",
    "    data_1 = df_results_diff_pl[df_results_diff_pl[\"pl\"] == pl_1][\"avg_pl_group\"]\n",
    "    data_2 = df_results_diff_pl[df_results_diff_pl[\"pl\"] == pl_2][\"avg_pl_group\"]\n",
    "    test_mean(data_1, data_2)\n"
   ]
  },
  {
   "cell_type": "code",
   "execution_count": null,
   "metadata": {},
   "outputs": [],
   "source": []
  }
 ],
 "metadata": {
  "kernelspec": {
   "display_name": "Python 3.8.9 ('venv': venv)",
   "language": "python",
   "name": "python3"
  },
  "language_info": {
   "codemirror_mode": {
    "name": "ipython",
    "version": 3
   },
   "file_extension": ".py",
   "mimetype": "text/x-python",
   "name": "python",
   "nbconvert_exporter": "python",
   "pygments_lexer": "ipython3",
   "version": "3.8.9 (default, Sep 16 2021, 22:28:44) \n[GCC 9.3.0]"
  },
  "orig_nbformat": 4,
  "vscode": {
   "interpreter": {
    "hash": "cdbdd4cf7f5282af921e9e9f8e89536c1a615a288e4742df81a89abd7b1a94fe"
   }
  }
 },
 "nbformat": 4,
 "nbformat_minor": 2
}
